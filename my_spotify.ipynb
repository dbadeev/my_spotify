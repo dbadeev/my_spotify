{
 "cells": [
  {
   "cell_type": "markdown",
   "source": [
    "## Imports"
   ],
   "metadata": {
    "collapsed": false
   }
  },
  {
   "cell_type": "code",
   "execution_count": 1,
   "outputs": [
    {
     "name": "stderr",
     "output_type": "stream",
     "text": [
      "[nltk_data] Downloading package stopwords to\n",
      "[nltk_data]     /Users/dbadeev_new/nltk_data...\n",
      "[nltk_data]   Package stopwords is already up-to-date!\n",
      "[nltk_data] Downloading package punkt to\n",
      "[nltk_data]     /Users/dbadeev_new/nltk_data...\n",
      "[nltk_data]   Package punkt is already up-to-date!\n",
      "[nltk_data] Downloading package stopwords to\n",
      "[nltk_data]     /Users/dbadeev_new/nltk_data...\n",
      "[nltk_data]   Package stopwords is already up-to-date!\n"
     ]
    }
   ],
   "source": [
    "import numpy as np\n",
    "import pandas as pd\n",
    "import nltk\n",
    "nltk.download('stopwords')\n",
    "nltk.download('punkt')\n",
    "\n",
    "import matplotlib.pyplot as plt\n",
    "from sklearn.model_selection import train_test_split, GridSearchCV\n",
    "import re\n",
    "\n",
    "import gensim\n",
    "from nltk.data import find\n",
    "from nltk.stem import PorterStemmer\n",
    "\n",
    "from sklearn.feature_extraction.text import TfidfVectorizer\n",
    "\n",
    "from sklearn.svm import LinearSVC\n",
    "\n",
    "from sklearn.metrics import confusion_matrix\n",
    "import seaborn as sns\n",
    "\n",
    "from sklearn.model_selection import cross_val_score\n",
    "\n",
    "from sklearn import metrics\n",
    "\n",
    "from utils import *\n",
    "\n",
    "pd.set_option('display.max_rows', 250)"
   ],
   "metadata": {
    "collapsed": false
   }
  },
  {
   "cell_type": "code",
   "execution_count": 2,
   "outputs": [],
   "source": [
    "stoplist = stopwords.words('english')\n",
    "stoplist.append(\"i'm\")"
   ],
   "metadata": {
    "collapsed": false
   }
  },
  {
   "cell_type": "code",
   "execution_count": 3,
   "outputs": [
    {
     "name": "stdout",
     "output_type": "stream",
     "text": [
      "['i', 'me', 'my', 'myself', 'we', 'our', 'ours', 'ourselves', 'you', \"you're\", \"you've\", \"you'll\", \"you'd\", 'your', 'yours', 'yourself', 'yourselves', 'he', 'him', 'his', 'himself', 'she', \"she's\", 'her', 'hers', 'herself', 'it', \"it's\", 'its', 'itself', 'they', 'them', 'their', 'theirs', 'themselves', 'what', 'which', 'who', 'whom', 'this', 'that', \"that'll\", 'these', 'those', 'am', 'is', 'are', 'was', 'were', 'be', 'been', 'being', 'have', 'has', 'had', 'having', 'do', 'does', 'did', 'doing', 'a', 'an', 'the', 'and', 'but', 'if', 'or', 'because', 'as', 'until', 'while', 'of', 'at', 'by', 'for', 'with', 'about', 'against', 'between', 'into', 'through', 'during', 'before', 'after', 'above', 'below', 'to', 'from', 'up', 'down', 'in', 'out', 'on', 'off', 'over', 'under', 'again', 'further', 'then', 'once', 'here', 'there', 'when', 'where', 'why', 'how', 'all', 'any', 'both', 'each', 'few', 'more', 'most', 'other', 'some', 'such', 'no', 'nor', 'not', 'only', 'own', 'same', 'so', 'than', 'too', 'very', 's', 't', 'can', 'will', 'just', 'don', \"don't\", 'should', \"should've\", 'now', 'd', 'll', 'm', 'o', 're', 've', 'y', 'ain', 'aren', \"aren't\", 'couldn', \"couldn't\", 'didn', \"didn't\", 'doesn', \"doesn't\", 'hadn', \"hadn't\", 'hasn', \"hasn't\", 'haven', \"haven't\", 'isn', \"isn't\", 'ma', 'mightn', \"mightn't\", 'mustn', \"mustn't\", 'needn', \"needn't\", 'shan', \"shan't\", 'shouldn', \"shouldn't\", 'wasn', \"wasn't\", 'weren', \"weren't\", 'won', \"won't\", 'wouldn', \"wouldn't\", \"i'm\"]\n"
     ]
    }
   ],
   "source": [
    "print(stoplist)"
   ],
   "metadata": {
    "collapsed": false
   }
  },
  {
   "cell_type": "markdown",
   "source": [
    "## Предобработка данных"
   ],
   "metadata": {
    "collapsed": false
   }
  },
  {
   "cell_type": "markdown",
   "source": [
    "Данные 'user_id', 'song_id', 'play_count' из файла 'data/train_triplets.txt' -> датафрейм df_echonest."
   ],
   "metadata": {
    "collapsed": false
   }
  },
  {
   "cell_type": "code",
   "execution_count": 4,
   "outputs": [],
   "source": [
    "# df_echonest = pd.read_csv('data/train_triplets.txt', sep='\\t', header=None)\n",
    "# df_echonest.columns = ['user_id', 'song_id', 'play_count']\n",
    "# df_echonest.head()"
   ],
   "metadata": {
    "collapsed": false
   }
  },
  {
   "cell_type": "code",
   "execution_count": 5,
   "outputs": [],
   "source": [
    "# df_echonest.info()"
   ],
   "metadata": {
    "collapsed": false
   }
  },
  {
   "cell_type": "code",
   "execution_count": 6,
   "outputs": [],
   "source": [
    "# df_echonest['play_count'].value_counts()"
   ],
   "metadata": {
    "collapsed": false
   }
  },
  {
   "cell_type": "code",
   "execution_count": 7,
   "outputs": [],
   "source": [
    "# df_echonest.to_pickle('data/df_echonest.pkl')"
   ],
   "metadata": {
    "collapsed": false
   }
  },
  {
   "cell_type": "markdown",
   "source": [
    "Обработка файла с текстами песен. Данные 'track_id', 'mxm_track_id', 'text' из файла 'data/mxm_dataset_train.txt' -> датафрейм df_mxm_text_songs. Из 'text' удаляются стоп-слова"
   ],
   "metadata": {
    "collapsed": false
   }
  },
  {
   "cell_type": "code",
   "execution_count": 8,
   "outputs": [],
   "source": [
    "# df_mxm_text_songs = get_mxm_text_songs('data/mxm_dataset_train.txt', stoplist)\n",
    "# df_mxm_text_songs.head()"
   ],
   "metadata": {
    "collapsed": false
   }
  },
  {
   "cell_type": "code",
   "execution_count": 9,
   "outputs": [],
   "source": [
    "# df_mxm_text_songs.to_pickle('data/df_mxm_text_songs.pkl')"
   ],
   "metadata": {
    "collapsed": false
   }
  },
  {
   "cell_type": "markdown",
   "source": [
    "Обработка файла с жанрами песен. Данные 'track_id', 'majority_genre','minority_genre' из файла ->\n",
    "\tдатафрейм df_tag_genre_songs. Отсутствующие значения заменяются на Nan."
   ],
   "metadata": {
    "collapsed": false
   }
  },
  {
   "cell_type": "code",
   "execution_count": 10,
   "outputs": [],
   "source": [
    "# df_tag_genre_songs = get_tag_genre_songs('data/p02_msd_tagtraum_cd2.cls')\n",
    "# df_tag_genre_songs.head()"
   ],
   "metadata": {
    "collapsed": false
   }
  },
  {
   "cell_type": "code",
   "execution_count": 11,
   "outputs": [],
   "source": [
    "# df_tag_genre_songs.head()"
   ],
   "metadata": {
    "collapsed": false
   }
  },
  {
   "cell_type": "code",
   "execution_count": 12,
   "outputs": [],
   "source": [
    "# df_tag_genre_songs.to_pickle('data/df_tag_genre_songs.pkl')"
   ],
   "metadata": {
    "collapsed": false
   }
  },
  {
   "cell_type": "markdown",
   "source": [
    "Обработка файла с названиями песен. Данные 'track_id', 'song_id', 'artist','title' из файла -> датафрейм df_tag_artist_title. Отсутствующие значения заменяются на Nan."
   ],
   "metadata": {
    "collapsed": false
   }
  },
  {
   "cell_type": "code",
   "execution_count": 13,
   "outputs": [],
   "source": [
    "# df_tag_artist_title = get_tag_artist_title('data/p02_unique_tracks.txt')\n",
    "# df_tag_artist_title.head()"
   ],
   "metadata": {
    "collapsed": false
   }
  },
  {
   "cell_type": "markdown",
   "source": [
    "Добавляем столбец 'title_pure' с очищенными названиями песен (удалены скобки и содержимое, знаки препинания (кроме апострофа), лишние пробелы. Также названия приведены к нижнему регистру и удалены стоп-слова."
   ],
   "metadata": {
    "collapsed": false
   }
  },
  {
   "cell_type": "code",
   "execution_count": 14,
   "outputs": [],
   "source": [
    "# df_tag_artist_title['title_pure'] = df_tag_artist_title.apply(lambda x: re.sub(r'[\\(\\[].*?[\\)\\]]', '', str(x['title'])), axis=1)\n",
    "#\n",
    "# df_tag_artist_title['title_pure'] = df_tag_artist_title.apply(lambda x: re.sub(r'[^\\'a-zA-Z ]', '', str(x['title'])), axis=1)\n",
    "#\n",
    "# df_tag_artist_title['title_pure'] = df_tag_artist_title.apply(lambda x: re.sub(r'\\s+', ' ', str(x['title_pure'])), axis=1)\n",
    "#\n",
    "# df_tag_artist_title['title_pure'] = df_tag_artist_title['title_pure'].apply(title_without_stopwords, args=[stoplist])\n",
    "#\n",
    "# df_tag_artist_title.head(10)"
   ],
   "metadata": {
    "collapsed": false
   }
  },
  {
   "cell_type": "code",
   "execution_count": 15,
   "outputs": [],
   "source": [
    "# df_tag_artist_title.to_pickle('data/df_tag_artist_title.pkl')"
   ],
   "metadata": {
    "collapsed": false
   }
  },
  {
   "cell_type": "markdown",
   "source": [
    "df_track - дф из df_tag_artist_title с добавленными текстами песен"
   ],
   "metadata": {
    "collapsed": false
   }
  },
  {
   "cell_type": "code",
   "execution_count": 16,
   "outputs": [],
   "source": [
    "# df_tag_artist_title = pd.read_pickle('data/df_tag_artist_title.pkl')\n",
    "# df_mxm_text_songs = pd.read_pickle('data/df_mxm_text_songs.pkl')\n",
    "# df_track = pd.merge(df_tag_artist_title, df_mxm_text_songs, on='track_id', how='outer')\n",
    "# df_track.head()"
   ],
   "metadata": {
    "collapsed": false
   }
  },
  {
   "cell_type": "markdown",
   "source": [
    "Добавляем в df_track столбцы по значимым жанрам"
   ],
   "metadata": {
    "collapsed": false
   }
  },
  {
   "cell_type": "code",
   "execution_count": 17,
   "outputs": [],
   "source": [
    "# df_tag_genre_songs = pd.read_pickle('data/df_tag_genre_songs.pkl')\n",
    "# df_track = pd.merge(df_track, df_tag_genre_songs, on='track_id', how='outer')\n",
    "# df_track.info()"
   ],
   "metadata": {
    "collapsed": false
   }
  },
  {
   "cell_type": "markdown",
   "source": [
    "Заменяем Nan в столбце 'title_pure' на пустую строку"
   ],
   "metadata": {
    "collapsed": false
   }
  },
  {
   "cell_type": "code",
   "execution_count": 18,
   "outputs": [],
   "source": [
    "# df_track.isnull().sum()"
   ],
   "metadata": {
    "collapsed": false
   }
  },
  {
   "cell_type": "code",
   "execution_count": 19,
   "outputs": [],
   "source": [
    "# df_track[['title_pure']] = df_track[['title_pure']].fillna('')"
   ],
   "metadata": {
    "collapsed": false
   }
  },
  {
   "cell_type": "code",
   "execution_count": 20,
   "outputs": [],
   "source": [
    "# df_track.to_pickle('data/df_track.pkl')"
   ],
   "metadata": {
    "collapsed": false
   }
  },
  {
   "cell_type": "markdown",
   "source": [
    "## Top-250 tracks"
   ],
   "metadata": {
    "collapsed": false
   }
  },
  {
   "cell_type": "markdown",
   "source": [
    "\n",
    "\t\t1. датафрейм со след. полями:\n",
    "\t\t\t1. номер индекса\n",
    "\t\t\t2. имя исполнителя\n",
    "\t\t\t3. название трека\n",
    "\t\t\t4. количество воспроизведений\n",
    "\t\t2. Таблица должна быть отсортирована по количеству воспроизведений по убыванию."
   ],
   "metadata": {
    "collapsed": false
   }
  },
  {
   "cell_type": "markdown",
   "source": [
    "По заданию нам нужны 250 записей"
   ],
   "metadata": {
    "collapsed": false
   }
  },
  {
   "cell_type": "code",
   "execution_count": 21,
   "outputs": [
    {
     "data": {
      "text/plain": "              song_id  play_count\n0  SOBONKR12A58A7A7E0      726885\n1  SOAUWYT12A81C206F1      648239\n2  SOSXLTC12AF72A7F54      527893\n3  SOFRQTD12A81C233C0      425463\n4  SOEGIYH12A6D4FC0E3      389880",
      "text/html": "<div>\n<style scoped>\n    .dataframe tbody tr th:only-of-type {\n        vertical-align: middle;\n    }\n\n    .dataframe tbody tr th {\n        vertical-align: top;\n    }\n\n    .dataframe thead th {\n        text-align: right;\n    }\n</style>\n<table border=\"1\" class=\"dataframe\">\n  <thead>\n    <tr style=\"text-align: right;\">\n      <th></th>\n      <th>song_id</th>\n      <th>play_count</th>\n    </tr>\n  </thead>\n  <tbody>\n    <tr>\n      <th>0</th>\n      <td>SOBONKR12A58A7A7E0</td>\n      <td>726885</td>\n    </tr>\n    <tr>\n      <th>1</th>\n      <td>SOAUWYT12A81C206F1</td>\n      <td>648239</td>\n    </tr>\n    <tr>\n      <th>2</th>\n      <td>SOSXLTC12AF72A7F54</td>\n      <td>527893</td>\n    </tr>\n    <tr>\n      <th>3</th>\n      <td>SOFRQTD12A81C233C0</td>\n      <td>425463</td>\n    </tr>\n    <tr>\n      <th>4</th>\n      <td>SOEGIYH12A6D4FC0E3</td>\n      <td>389880</td>\n    </tr>\n  </tbody>\n</table>\n</div>"
     },
     "execution_count": 21,
     "metadata": {},
     "output_type": "execute_result"
    }
   ],
   "source": [
    "df_echonest = pd.read_pickle('data/df_echonest.pkl')\n",
    "df_1 = df_echonest.groupby(by='song_id').agg({'play_count': 'sum'}).sort_values(by='play_count', ascending=False)[:250].reset_index()\n",
    "df_1.head()"
   ],
   "metadata": {
    "collapsed": false
   }
  },
  {
   "cell_type": "markdown",
   "source": [
    "Добавляем столбцы из df_track"
   ],
   "metadata": {
    "collapsed": false
   }
  },
  {
   "cell_type": "code",
   "execution_count": 22,
   "outputs": [
    {
     "data": {
      "text/plain": "              song_id  play_count            track_id  \\\n0  SOBONKR12A58A7A7E0      726885  TRAEHHJ12903CF492F   \n1  SOAUWYT12A81C206F1      648239  TRGXQES128F42BA5EB   \n2  SOSXLTC12AF72A7F54      527893  TRONYHY128F92C9D11   \n3  SOFRQTD12A81C233C0      425463  TRDMBIJ128F4290431   \n4  SOEGIYH12A6D4FC0E3      389880  TRLGMFJ128F4217DBE   \n\n                                              artist  \\\n0                                      Dwight Yoakam   \n1                                              Björk   \n2                                      Kings Of Leon   \n3                                           Harmonia   \n4  Barry Tuckwell/Academy of St Martin-in-the-Fie...   \n\n                                               title  \\\n0                                     You're The One   \n1                                               Undo   \n2                                            Revelry   \n3                                      Sehr kosmisch   \n4  Horn Concerto No. 4 in E flat K495: II. Romanc...   \n\n                                          title_pure mxm_track_id  \\\n0                                                one      1104550   \n1                                               undo      1879235   \n2                                            revelry          NaN   \n3                                      sehr kosmisch          NaN   \n4  horn concerto e flat k ii romance andante cant...          NaN   \n\n                                                text majority_genre  \\\n0  love love know oh oh oh oh oh oh oh oh oh one ...        Country   \n1  oh oh oh oh way give tri tri tri cri hard hard...           Rock   \n2                                                NaN           Rock   \n3                                                NaN           Rock   \n4                                                NaN            NaN   \n\n  minority_genre  \n0            NaN  \n1     Electronic  \n2            NaN  \n3          Metal  \n4            NaN  ",
      "text/html": "<div>\n<style scoped>\n    .dataframe tbody tr th:only-of-type {\n        vertical-align: middle;\n    }\n\n    .dataframe tbody tr th {\n        vertical-align: top;\n    }\n\n    .dataframe thead th {\n        text-align: right;\n    }\n</style>\n<table border=\"1\" class=\"dataframe\">\n  <thead>\n    <tr style=\"text-align: right;\">\n      <th></th>\n      <th>song_id</th>\n      <th>play_count</th>\n      <th>track_id</th>\n      <th>artist</th>\n      <th>title</th>\n      <th>title_pure</th>\n      <th>mxm_track_id</th>\n      <th>text</th>\n      <th>majority_genre</th>\n      <th>minority_genre</th>\n    </tr>\n  </thead>\n  <tbody>\n    <tr>\n      <th>0</th>\n      <td>SOBONKR12A58A7A7E0</td>\n      <td>726885</td>\n      <td>TRAEHHJ12903CF492F</td>\n      <td>Dwight Yoakam</td>\n      <td>You're The One</td>\n      <td>one</td>\n      <td>1104550</td>\n      <td>love love know oh oh oh oh oh oh oh oh oh one ...</td>\n      <td>Country</td>\n      <td>NaN</td>\n    </tr>\n    <tr>\n      <th>1</th>\n      <td>SOAUWYT12A81C206F1</td>\n      <td>648239</td>\n      <td>TRGXQES128F42BA5EB</td>\n      <td>Björk</td>\n      <td>Undo</td>\n      <td>undo</td>\n      <td>1879235</td>\n      <td>oh oh oh oh way give tri tri tri cri hard hard...</td>\n      <td>Rock</td>\n      <td>Electronic</td>\n    </tr>\n    <tr>\n      <th>2</th>\n      <td>SOSXLTC12AF72A7F54</td>\n      <td>527893</td>\n      <td>TRONYHY128F92C9D11</td>\n      <td>Kings Of Leon</td>\n      <td>Revelry</td>\n      <td>revelry</td>\n      <td>NaN</td>\n      <td>NaN</td>\n      <td>Rock</td>\n      <td>NaN</td>\n    </tr>\n    <tr>\n      <th>3</th>\n      <td>SOFRQTD12A81C233C0</td>\n      <td>425463</td>\n      <td>TRDMBIJ128F4290431</td>\n      <td>Harmonia</td>\n      <td>Sehr kosmisch</td>\n      <td>sehr kosmisch</td>\n      <td>NaN</td>\n      <td>NaN</td>\n      <td>Rock</td>\n      <td>Metal</td>\n    </tr>\n    <tr>\n      <th>4</th>\n      <td>SOEGIYH12A6D4FC0E3</td>\n      <td>389880</td>\n      <td>TRLGMFJ128F4217DBE</td>\n      <td>Barry Tuckwell/Academy of St Martin-in-the-Fie...</td>\n      <td>Horn Concerto No. 4 in E flat K495: II. Romanc...</td>\n      <td>horn concerto e flat k ii romance andante cant...</td>\n      <td>NaN</td>\n      <td>NaN</td>\n      <td>NaN</td>\n      <td>NaN</td>\n    </tr>\n  </tbody>\n</table>\n</div>"
     },
     "execution_count": 22,
     "metadata": {},
     "output_type": "execute_result"
    }
   ],
   "source": [
    "df_track = pd.read_pickle('data/df_track.pkl')\n",
    "df_1 = pd.merge(df_1, df_track.drop_duplicates(subset='song_id', keep='first'), on='song_id', how='inner')\n",
    "df_1.head()"
   ],
   "metadata": {
    "collapsed": false
   }
  },
  {
   "cell_type": "markdown",
   "source": [
    "Оставляем требуемые по заданию столбцы"
   ],
   "metadata": {
    "collapsed": false
   }
  },
  {
   "cell_type": "code",
   "execution_count": 23,
   "outputs": [
    {
     "data": {
      "text/plain": "                                              artist  \\\n0                                      Dwight Yoakam   \n1                                              Björk   \n2                                      Kings Of Leon   \n3                                           Harmonia   \n4  Barry Tuckwell/Academy of St Martin-in-the-Fie...   \n\n                                               title  play_count  \n0                                     You're The One      726885  \n1                                               Undo      648239  \n2                                            Revelry      527893  \n3                                      Sehr kosmisch      425463  \n4  Horn Concerto No. 4 in E flat K495: II. Romanc...      389880  ",
      "text/html": "<div>\n<style scoped>\n    .dataframe tbody tr th:only-of-type {\n        vertical-align: middle;\n    }\n\n    .dataframe tbody tr th {\n        vertical-align: top;\n    }\n\n    .dataframe thead th {\n        text-align: right;\n    }\n</style>\n<table border=\"1\" class=\"dataframe\">\n  <thead>\n    <tr style=\"text-align: right;\">\n      <th></th>\n      <th>artist</th>\n      <th>title</th>\n      <th>play_count</th>\n    </tr>\n  </thead>\n  <tbody>\n    <tr>\n      <th>0</th>\n      <td>Dwight Yoakam</td>\n      <td>You're The One</td>\n      <td>726885</td>\n    </tr>\n    <tr>\n      <th>1</th>\n      <td>Björk</td>\n      <td>Undo</td>\n      <td>648239</td>\n    </tr>\n    <tr>\n      <th>2</th>\n      <td>Kings Of Leon</td>\n      <td>Revelry</td>\n      <td>527893</td>\n    </tr>\n    <tr>\n      <th>3</th>\n      <td>Harmonia</td>\n      <td>Sehr kosmisch</td>\n      <td>425463</td>\n    </tr>\n    <tr>\n      <th>4</th>\n      <td>Barry Tuckwell/Academy of St Martin-in-the-Fie...</td>\n      <td>Horn Concerto No. 4 in E flat K495: II. Romanc...</td>\n      <td>389880</td>\n    </tr>\n  </tbody>\n</table>\n</div>"
     },
     "execution_count": 23,
     "metadata": {},
     "output_type": "execute_result"
    }
   ],
   "source": [
    "df_1 = df_1[['artist', 'title', 'play_count']]\n",
    "df_1.head()"
   ],
   "metadata": {
    "collapsed": false
   }
  },
  {
   "cell_type": "code",
   "execution_count": 24,
   "outputs": [
    {
     "data": {
      "text/plain": "                           artist                        title  play_count\n245              Triple Six Mafia    Now I'm High_ Really High       35253\n246    The Red Jumpsuit Apparatus    Face Down (Album Version)       35245\n247                   Linkin Park   New Divide (Album Version)       35191\n248      Selena Gomez & The Scene                    Naturally       35074\n249  Creedence Clearwater Revival  Have You Ever Seen The Rain       34831",
      "text/html": "<div>\n<style scoped>\n    .dataframe tbody tr th:only-of-type {\n        vertical-align: middle;\n    }\n\n    .dataframe tbody tr th {\n        vertical-align: top;\n    }\n\n    .dataframe thead th {\n        text-align: right;\n    }\n</style>\n<table border=\"1\" class=\"dataframe\">\n  <thead>\n    <tr style=\"text-align: right;\">\n      <th></th>\n      <th>artist</th>\n      <th>title</th>\n      <th>play_count</th>\n    </tr>\n  </thead>\n  <tbody>\n    <tr>\n      <th>245</th>\n      <td>Triple Six Mafia</td>\n      <td>Now I'm High_ Really High</td>\n      <td>35253</td>\n    </tr>\n    <tr>\n      <th>246</th>\n      <td>The Red Jumpsuit Apparatus</td>\n      <td>Face Down (Album Version)</td>\n      <td>35245</td>\n    </tr>\n    <tr>\n      <th>247</th>\n      <td>Linkin Park</td>\n      <td>New Divide (Album Version)</td>\n      <td>35191</td>\n    </tr>\n    <tr>\n      <th>248</th>\n      <td>Selena Gomez &amp; The Scene</td>\n      <td>Naturally</td>\n      <td>35074</td>\n    </tr>\n    <tr>\n      <th>249</th>\n      <td>Creedence Clearwater Revival</td>\n      <td>Have You Ever Seen The Rain</td>\n      <td>34831</td>\n    </tr>\n  </tbody>\n</table>\n</div>"
     },
     "execution_count": 24,
     "metadata": {},
     "output_type": "execute_result"
    }
   ],
   "source": [
    "df_1.tail()"
   ],
   "metadata": {
    "collapsed": false
   }
  },
  {
   "cell_type": "markdown",
   "source": [
    "## Top-100 tracks"
   ],
   "metadata": {
    "collapsed": false
   }
  },
  {
   "cell_type": "markdown",
   "source": [
    "\t\t1. для заданного жанра на выходе датафрейм со след. полями:\n",
    "\t\t\t1. номер индекса\n",
    "\t\t\t2. имя исполнителя\n",
    "\t\t\t3. название трека\n",
    "\t\t\t4. количество воспроизведений\n",
    "\t\t2.  Таблица должна быть отсортирована по количеству воспроизведений по убыванию.\n",
    "\t\t3.  Использовать только основной жанр для выполнения подзадачи."
   ],
   "metadata": {
    "collapsed": false
   }
  },
  {
   "cell_type": "markdown",
   "source": [
    "Сначала считываем дф с количеством воспроизведений"
   ],
   "metadata": {
    "collapsed": false
   }
  },
  {
   "cell_type": "code",
   "execution_count": 25,
   "outputs": [
    {
     "data": {
      "text/plain": "              song_id  play_count\n0  SOBONKR12A58A7A7E0      726885\n1  SOAUWYT12A81C206F1      648239\n2  SOSXLTC12AF72A7F54      527893\n3  SOFRQTD12A81C233C0      425463\n4  SOEGIYH12A6D4FC0E3      389880",
      "text/html": "<div>\n<style scoped>\n    .dataframe tbody tr th:only-of-type {\n        vertical-align: middle;\n    }\n\n    .dataframe tbody tr th {\n        vertical-align: top;\n    }\n\n    .dataframe thead th {\n        text-align: right;\n    }\n</style>\n<table border=\"1\" class=\"dataframe\">\n  <thead>\n    <tr style=\"text-align: right;\">\n      <th></th>\n      <th>song_id</th>\n      <th>play_count</th>\n    </tr>\n  </thead>\n  <tbody>\n    <tr>\n      <th>0</th>\n      <td>SOBONKR12A58A7A7E0</td>\n      <td>726885</td>\n    </tr>\n    <tr>\n      <th>1</th>\n      <td>SOAUWYT12A81C206F1</td>\n      <td>648239</td>\n    </tr>\n    <tr>\n      <th>2</th>\n      <td>SOSXLTC12AF72A7F54</td>\n      <td>527893</td>\n    </tr>\n    <tr>\n      <th>3</th>\n      <td>SOFRQTD12A81C233C0</td>\n      <td>425463</td>\n    </tr>\n    <tr>\n      <th>4</th>\n      <td>SOEGIYH12A6D4FC0E3</td>\n      <td>389880</td>\n    </tr>\n  </tbody>\n</table>\n</div>"
     },
     "execution_count": 25,
     "metadata": {},
     "output_type": "execute_result"
    }
   ],
   "source": [
    "df_2 = df_echonest.groupby(by='song_id').agg({'play_count': 'sum'}).sort_values(by='play_count', ascending=False).reset_index()\n",
    "df_2.head()"
   ],
   "metadata": {
    "collapsed": false
   }
  },
  {
   "cell_type": "markdown",
   "source": [
    "Добавляем столбцы из df_track"
   ],
   "metadata": {
    "collapsed": false
   }
  },
  {
   "cell_type": "code",
   "execution_count": 26,
   "outputs": [
    {
     "data": {
      "text/plain": "              song_id  play_count            track_id  \\\n0  SOBONKR12A58A7A7E0      726885  TRAEHHJ12903CF492F   \n1  SOAUWYT12A81C206F1      648239  TRGXQES128F42BA5EB   \n2  SOSXLTC12AF72A7F54      527893  TRONYHY128F92C9D11   \n3  SOFRQTD12A81C233C0      425463  TRDMBIJ128F4290431   \n4  SOEGIYH12A6D4FC0E3      389880  TRLGMFJ128F4217DBE   \n\n                                              artist  \\\n0                                      Dwight Yoakam   \n1                                              Björk   \n2                                      Kings Of Leon   \n3                                           Harmonia   \n4  Barry Tuckwell/Academy of St Martin-in-the-Fie...   \n\n                                               title  \\\n0                                     You're The One   \n1                                               Undo   \n2                                            Revelry   \n3                                      Sehr kosmisch   \n4  Horn Concerto No. 4 in E flat K495: II. Romanc...   \n\n                                          title_pure mxm_track_id  \\\n0                                                one      1104550   \n1                                               undo      1879235   \n2                                            revelry          NaN   \n3                                      sehr kosmisch          NaN   \n4  horn concerto e flat k ii romance andante cant...          NaN   \n\n                                                text majority_genre  \\\n0  love love know oh oh oh oh oh oh oh oh oh one ...        Country   \n1  oh oh oh oh way give tri tri tri cri hard hard...           Rock   \n2                                                NaN           Rock   \n3                                                NaN           Rock   \n4                                                NaN            NaN   \n\n  minority_genre  \n0            NaN  \n1     Electronic  \n2            NaN  \n3          Metal  \n4            NaN  ",
      "text/html": "<div>\n<style scoped>\n    .dataframe tbody tr th:only-of-type {\n        vertical-align: middle;\n    }\n\n    .dataframe tbody tr th {\n        vertical-align: top;\n    }\n\n    .dataframe thead th {\n        text-align: right;\n    }\n</style>\n<table border=\"1\" class=\"dataframe\">\n  <thead>\n    <tr style=\"text-align: right;\">\n      <th></th>\n      <th>song_id</th>\n      <th>play_count</th>\n      <th>track_id</th>\n      <th>artist</th>\n      <th>title</th>\n      <th>title_pure</th>\n      <th>mxm_track_id</th>\n      <th>text</th>\n      <th>majority_genre</th>\n      <th>minority_genre</th>\n    </tr>\n  </thead>\n  <tbody>\n    <tr>\n      <th>0</th>\n      <td>SOBONKR12A58A7A7E0</td>\n      <td>726885</td>\n      <td>TRAEHHJ12903CF492F</td>\n      <td>Dwight Yoakam</td>\n      <td>You're The One</td>\n      <td>one</td>\n      <td>1104550</td>\n      <td>love love know oh oh oh oh oh oh oh oh oh one ...</td>\n      <td>Country</td>\n      <td>NaN</td>\n    </tr>\n    <tr>\n      <th>1</th>\n      <td>SOAUWYT12A81C206F1</td>\n      <td>648239</td>\n      <td>TRGXQES128F42BA5EB</td>\n      <td>Björk</td>\n      <td>Undo</td>\n      <td>undo</td>\n      <td>1879235</td>\n      <td>oh oh oh oh way give tri tri tri cri hard hard...</td>\n      <td>Rock</td>\n      <td>Electronic</td>\n    </tr>\n    <tr>\n      <th>2</th>\n      <td>SOSXLTC12AF72A7F54</td>\n      <td>527893</td>\n      <td>TRONYHY128F92C9D11</td>\n      <td>Kings Of Leon</td>\n      <td>Revelry</td>\n      <td>revelry</td>\n      <td>NaN</td>\n      <td>NaN</td>\n      <td>Rock</td>\n      <td>NaN</td>\n    </tr>\n    <tr>\n      <th>3</th>\n      <td>SOFRQTD12A81C233C0</td>\n      <td>425463</td>\n      <td>TRDMBIJ128F4290431</td>\n      <td>Harmonia</td>\n      <td>Sehr kosmisch</td>\n      <td>sehr kosmisch</td>\n      <td>NaN</td>\n      <td>NaN</td>\n      <td>Rock</td>\n      <td>Metal</td>\n    </tr>\n    <tr>\n      <th>4</th>\n      <td>SOEGIYH12A6D4FC0E3</td>\n      <td>389880</td>\n      <td>TRLGMFJ128F4217DBE</td>\n      <td>Barry Tuckwell/Academy of St Martin-in-the-Fie...</td>\n      <td>Horn Concerto No. 4 in E flat K495: II. Romanc...</td>\n      <td>horn concerto e flat k ii romance andante cant...</td>\n      <td>NaN</td>\n      <td>NaN</td>\n      <td>NaN</td>\n      <td>NaN</td>\n    </tr>\n  </tbody>\n</table>\n</div>"
     },
     "execution_count": 26,
     "metadata": {},
     "output_type": "execute_result"
    }
   ],
   "source": [
    "df_2 = pd.merge(df_2, df_track.drop_duplicates(subset='song_id', keep='first'), on='song_id', how='left')\n",
    "df_2.head()"
   ],
   "metadata": {
    "collapsed": false
   }
  },
  {
   "cell_type": "markdown",
   "source": [
    "Формируем словарь по жанрам"
   ],
   "metadata": {
    "collapsed": false
   }
  },
  {
   "cell_type": "code",
   "execution_count": 27,
   "outputs": [],
   "source": [
    "df_2_dict = {'Rock': df_2[df_2['majority_genre'] == 'Rock'][:100].reset_index().drop(['index'], axis=1)[['artist', 'title', 'play_count']],\n",
    "\t\t\t  'Rap': df_2[df_2['majority_genre'] == 'Rap'][:100].reset_index().drop(['index'], axis=1)[['artist', 'title', 'play_count']],\n",
    "\t\t\t  'Jazz': df_2[df_2['majority_genre'] == 'Jazz'][:100].reset_index().drop(['index'], axis=1)[['artist', 'title', 'play_count']],\n",
    "\t\t\t  'Electronic': df_2[df_2['majority_genre'] == 'Electronic'][:100].reset_index().drop(['index'], axis=1)[['artist', 'title', 'play_count']],\n",
    "\t\t\t  'Pop': df_2[df_2['majority_genre'] == 'Pop'][:100].reset_index().drop(['index'], axis=1)[['artist', 'title', 'play_count']],\n",
    "\t\t\t  'Blues': df_2[df_2['majority_genre'] == 'Blues'][:100].reset_index().drop(['index'], axis=1)[['artist', 'title', 'play_count']],\n",
    "\t\t\t  'Country': df_2[df_2['majority_genre'] == 'Country'][:100].reset_index().drop(['index'], axis=1)[['artist', 'title', 'play_count']],\n",
    "\t\t\t  'Reggae': df_2[df_2['majority_genre'] == 'Reggae'][:100].reset_index().drop(['index'], axis=1)[['artist', 'title', 'play_count']],\n",
    "\t\t\t  'New Age': df_2[df_2['majority_genre'] == 'New Age'][:100].reset_index().drop(['index'], axis=1)[['artist', 'title', 'play_count']]}"
   ],
   "metadata": {
    "collapsed": false
   }
  },
  {
   "cell_type": "markdown",
   "source": [
    "Rock - первые и последние записи из 100"
   ],
   "metadata": {
    "collapsed": false
   }
  },
  {
   "cell_type": "code",
   "execution_count": 28,
   "outputs": [
    {
     "data": {
      "text/plain": "          artist          title  play_count\n0          Björk           Undo      648239\n1  Kings Of Leon        Revelry      527893\n2       Harmonia  Sehr kosmisch      425463\n3    OneRepublic        Secrets      292642\n4       Tub Ring        Invalid      268353",
      "text/html": "<div>\n<style scoped>\n    .dataframe tbody tr th:only-of-type {\n        vertical-align: middle;\n    }\n\n    .dataframe tbody tr th {\n        vertical-align: top;\n    }\n\n    .dataframe thead th {\n        text-align: right;\n    }\n</style>\n<table border=\"1\" class=\"dataframe\">\n  <thead>\n    <tr style=\"text-align: right;\">\n      <th></th>\n      <th>artist</th>\n      <th>title</th>\n      <th>play_count</th>\n    </tr>\n  </thead>\n  <tbody>\n    <tr>\n      <th>0</th>\n      <td>Björk</td>\n      <td>Undo</td>\n      <td>648239</td>\n    </tr>\n    <tr>\n      <th>1</th>\n      <td>Kings Of Leon</td>\n      <td>Revelry</td>\n      <td>527893</td>\n    </tr>\n    <tr>\n      <th>2</th>\n      <td>Harmonia</td>\n      <td>Sehr kosmisch</td>\n      <td>425463</td>\n    </tr>\n    <tr>\n      <th>3</th>\n      <td>OneRepublic</td>\n      <td>Secrets</td>\n      <td>292642</td>\n    </tr>\n    <tr>\n      <th>4</th>\n      <td>Tub Ring</td>\n      <td>Invalid</td>\n      <td>268353</td>\n    </tr>\n  </tbody>\n</table>\n</div>"
     },
     "execution_count": 28,
     "metadata": {},
     "output_type": "execute_result"
    }
   ],
   "source": [
    "df_2_dict['Rock'].head()"
   ],
   "metadata": {
    "collapsed": false
   }
  },
  {
   "cell_type": "code",
   "execution_count": 29,
   "outputs": [
    {
     "data": {
      "text/plain": "          artist              title  play_count\n95        Metric    Gold Guns Girls       28148\n96     Pearl Jam       Encore Break       27579\n97      Daughtry        No Surprise       27187\n98  Eric Clapton    Tears In Heaven       26999\n99     Nick Lowe  All Men Are Liars       26683",
      "text/html": "<div>\n<style scoped>\n    .dataframe tbody tr th:only-of-type {\n        vertical-align: middle;\n    }\n\n    .dataframe tbody tr th {\n        vertical-align: top;\n    }\n\n    .dataframe thead th {\n        text-align: right;\n    }\n</style>\n<table border=\"1\" class=\"dataframe\">\n  <thead>\n    <tr style=\"text-align: right;\">\n      <th></th>\n      <th>artist</th>\n      <th>title</th>\n      <th>play_count</th>\n    </tr>\n  </thead>\n  <tbody>\n    <tr>\n      <th>95</th>\n      <td>Metric</td>\n      <td>Gold Guns Girls</td>\n      <td>28148</td>\n    </tr>\n    <tr>\n      <th>96</th>\n      <td>Pearl Jam</td>\n      <td>Encore Break</td>\n      <td>27579</td>\n    </tr>\n    <tr>\n      <th>97</th>\n      <td>Daughtry</td>\n      <td>No Surprise</td>\n      <td>27187</td>\n    </tr>\n    <tr>\n      <th>98</th>\n      <td>Eric Clapton</td>\n      <td>Tears In Heaven</td>\n      <td>26999</td>\n    </tr>\n    <tr>\n      <th>99</th>\n      <td>Nick Lowe</td>\n      <td>All Men Are Liars</td>\n      <td>26683</td>\n    </tr>\n  </tbody>\n</table>\n</div>"
     },
     "execution_count": 29,
     "metadata": {},
     "output_type": "execute_result"
    }
   ],
   "source": [
    "df_2_dict['Rock'].tail()"
   ],
   "metadata": {
    "collapsed": false
   }
  },
  {
   "cell_type": "markdown",
   "source": [
    "Rap - первые и последние записи из 100"
   ],
   "metadata": {
    "collapsed": false
   }
  },
  {
   "cell_type": "code",
   "execution_count": 30,
   "outputs": [
    {
     "data": {
      "text/plain": "            artist         title  play_count\n0  Alliance Ethnik    Représente      241669\n1     Beastie Boys   The Maestro       72381\n2           Eminem    Without Me       63918\n3  Black Eyed Peas       Imma Be       62438\n4         Kid Cudi  Up Up & Away       59810",
      "text/html": "<div>\n<style scoped>\n    .dataframe tbody tr th:only-of-type {\n        vertical-align: middle;\n    }\n\n    .dataframe tbody tr th {\n        vertical-align: top;\n    }\n\n    .dataframe thead th {\n        text-align: right;\n    }\n</style>\n<table border=\"1\" class=\"dataframe\">\n  <thead>\n    <tr style=\"text-align: right;\">\n      <th></th>\n      <th>artist</th>\n      <th>title</th>\n      <th>play_count</th>\n    </tr>\n  </thead>\n  <tbody>\n    <tr>\n      <th>0</th>\n      <td>Alliance Ethnik</td>\n      <td>Représente</td>\n      <td>241669</td>\n    </tr>\n    <tr>\n      <th>1</th>\n      <td>Beastie Boys</td>\n      <td>The Maestro</td>\n      <td>72381</td>\n    </tr>\n    <tr>\n      <th>2</th>\n      <td>Eminem</td>\n      <td>Without Me</td>\n      <td>63918</td>\n    </tr>\n    <tr>\n      <th>3</th>\n      <td>Black Eyed Peas</td>\n      <td>Imma Be</td>\n      <td>62438</td>\n    </tr>\n    <tr>\n      <th>4</th>\n      <td>Kid Cudi</td>\n      <td>Up Up &amp; Away</td>\n      <td>59810</td>\n    </tr>\n  </tbody>\n</table>\n</div>"
     },
     "execution_count": 30,
     "metadata": {},
     "output_type": "execute_result"
    }
   ],
   "source": [
    "df_2_dict['Rap'].head()"
   ],
   "metadata": {
    "collapsed": false
   }
  },
  {
   "cell_type": "code",
   "execution_count": 31,
   "outputs": [
    {
     "data": {
      "text/plain": "                  artist            title  play_count\n95               Shwayze          Buzzin'        7384\n96               Orishas          El Kilo        7324\n97            Snoop Dogg  Sexual Eruption        7171\n98  Bone Thugs-N-Harmony   Tha Crossroads        7124\n99               Orishas           Habana        6998",
      "text/html": "<div>\n<style scoped>\n    .dataframe tbody tr th:only-of-type {\n        vertical-align: middle;\n    }\n\n    .dataframe tbody tr th {\n        vertical-align: top;\n    }\n\n    .dataframe thead th {\n        text-align: right;\n    }\n</style>\n<table border=\"1\" class=\"dataframe\">\n  <thead>\n    <tr style=\"text-align: right;\">\n      <th></th>\n      <th>artist</th>\n      <th>title</th>\n      <th>play_count</th>\n    </tr>\n  </thead>\n  <tbody>\n    <tr>\n      <th>95</th>\n      <td>Shwayze</td>\n      <td>Buzzin'</td>\n      <td>7384</td>\n    </tr>\n    <tr>\n      <th>96</th>\n      <td>Orishas</td>\n      <td>El Kilo</td>\n      <td>7324</td>\n    </tr>\n    <tr>\n      <th>97</th>\n      <td>Snoop Dogg</td>\n      <td>Sexual Eruption</td>\n      <td>7171</td>\n    </tr>\n    <tr>\n      <th>98</th>\n      <td>Bone Thugs-N-Harmony</td>\n      <td>Tha Crossroads</td>\n      <td>7124</td>\n    </tr>\n    <tr>\n      <th>99</th>\n      <td>Orishas</td>\n      <td>Habana</td>\n      <td>6998</td>\n    </tr>\n  </tbody>\n</table>\n</div>"
     },
     "execution_count": 31,
     "metadata": {},
     "output_type": "execute_result"
    }
   ],
   "source": [
    "df_2_dict['Rap'].tail()"
   ],
   "metadata": {
    "collapsed": false
   }
  },
  {
   "cell_type": "markdown",
   "source": [
    "Electronic - первые и последние записи из 100"
   ],
   "metadata": {
    "collapsed": false
   }
  },
  {
   "cell_type": "code",
   "execution_count": 32,
   "outputs": [
    {
     "data": {
      "text/plain": "               artist                                         title  \\\n0  Southside Spinners                                     Luvstruck   \n1      The Black Keys                                    Tighten Up   \n2            Deadmau5  Ghosts 'n' Stuff (Original Instrumental Mix)   \n3           Daft Punk                 Harder Better Faster Stronger   \n4          Clara Hill               Clara meets Slope - Hard To Say   \n\n   play_count  \n0       84225  \n1       81179  \n2       63951  \n3       63170  \n4       58887  ",
      "text/html": "<div>\n<style scoped>\n    .dataframe tbody tr th:only-of-type {\n        vertical-align: middle;\n    }\n\n    .dataframe tbody tr th {\n        vertical-align: top;\n    }\n\n    .dataframe thead th {\n        text-align: right;\n    }\n</style>\n<table border=\"1\" class=\"dataframe\">\n  <thead>\n    <tr style=\"text-align: right;\">\n      <th></th>\n      <th>artist</th>\n      <th>title</th>\n      <th>play_count</th>\n    </tr>\n  </thead>\n  <tbody>\n    <tr>\n      <th>0</th>\n      <td>Southside Spinners</td>\n      <td>Luvstruck</td>\n      <td>84225</td>\n    </tr>\n    <tr>\n      <th>1</th>\n      <td>The Black Keys</td>\n      <td>Tighten Up</td>\n      <td>81179</td>\n    </tr>\n    <tr>\n      <th>2</th>\n      <td>Deadmau5</td>\n      <td>Ghosts 'n' Stuff (Original Instrumental Mix)</td>\n      <td>63951</td>\n    </tr>\n    <tr>\n      <th>3</th>\n      <td>Daft Punk</td>\n      <td>Harder Better Faster Stronger</td>\n      <td>63170</td>\n    </tr>\n    <tr>\n      <th>4</th>\n      <td>Clara Hill</td>\n      <td>Clara meets Slope - Hard To Say</td>\n      <td>58887</td>\n    </tr>\n  </tbody>\n</table>\n</div>"
     },
     "execution_count": 32,
     "metadata": {},
     "output_type": "execute_result"
    }
   ],
   "source": [
    "df_2_dict['Electronic'].head()"
   ],
   "metadata": {
    "collapsed": false
   }
  },
  {
   "cell_type": "code",
   "execution_count": 33,
   "outputs": [
    {
     "data": {
      "text/plain": "                  artist                                              title  \\\n95             Nicolette                                      No Government   \n96  Two Door Cinema Club                     Eat That Up_ It's Good For You   \n97                  Moby  Why Does My Heart Feel So Bad? (2006 Digital R...   \n98        Death In Vegas                                              Girls   \n99          Johan Gielen                                              Flash   \n\n    play_count  \n95        9541  \n96        9524  \n97        9491  \n98        9490  \n99        9431  ",
      "text/html": "<div>\n<style scoped>\n    .dataframe tbody tr th:only-of-type {\n        vertical-align: middle;\n    }\n\n    .dataframe tbody tr th {\n        vertical-align: top;\n    }\n\n    .dataframe thead th {\n        text-align: right;\n    }\n</style>\n<table border=\"1\" class=\"dataframe\">\n  <thead>\n    <tr style=\"text-align: right;\">\n      <th></th>\n      <th>artist</th>\n      <th>title</th>\n      <th>play_count</th>\n    </tr>\n  </thead>\n  <tbody>\n    <tr>\n      <th>95</th>\n      <td>Nicolette</td>\n      <td>No Government</td>\n      <td>9541</td>\n    </tr>\n    <tr>\n      <th>96</th>\n      <td>Two Door Cinema Club</td>\n      <td>Eat That Up_ It's Good For You</td>\n      <td>9524</td>\n    </tr>\n    <tr>\n      <th>97</th>\n      <td>Moby</td>\n      <td>Why Does My Heart Feel So Bad? (2006 Digital R...</td>\n      <td>9491</td>\n    </tr>\n    <tr>\n      <th>98</th>\n      <td>Death In Vegas</td>\n      <td>Girls</td>\n      <td>9490</td>\n    </tr>\n    <tr>\n      <th>99</th>\n      <td>Johan Gielen</td>\n      <td>Flash</td>\n      <td>9431</td>\n    </tr>\n  </tbody>\n</table>\n</div>"
     },
     "execution_count": 33,
     "metadata": {},
     "output_type": "execute_result"
    }
   ],
   "source": [
    "df_2_dict['Electronic'].tail()"
   ],
   "metadata": {
    "collapsed": false
   }
  },
  {
   "cell_type": "markdown",
   "source": [
    "## Collections"
   ],
   "metadata": {
    "collapsed": false
   }
  },
  {
   "cell_type": "markdown",
   "source": [
    "\t\t1. по заданному ключевому слову (love, war, happiness) на выходе датафрейм (50 строк) со след. полями:\n",
    "\t\t\t\t1. номер индекса\n",
    "\t\t\t\t2. имя исполнителя\n",
    "\t\t\t\t3. название трека\n",
    "\t\t\t\t4. количество воспроизведений\n",
    "\t\t2. Таблица должна быть отсортирована по количеству воспроизведений по убыванию.\n",
    "\t\t3. Нужно использовать следующие рекомендации:\n",
    "\t\t\t1. baseline\n",
    "\t\t\t\t1. ищутся ключевое слово и количество его вхождений в песне\n",
    "\t\t\t\t2. найденное фильтруется с помощью некоторого порога\n",
    "\t\t\t\t3. происходит сортировка по количеству воспроизведений\n",
    "\t\t\t2. word2vec\n",
    "\t\t\t\t1. помимо ключевого слова, происходит поиск для нескольких найденных похожих токенов\n",
    "\t\t\t3. classification\n",
    "\t\t\t\t1. разметить часть данных\n",
    "\t\t\t\t2. для тестовой части на основе алгоритмов классификации, предсказать,  принадлежит ли трек к определенному классу."
   ],
   "metadata": {
    "collapsed": false
   }
  },
  {
   "cell_type": "markdown",
   "source": [
    "Сформируем датасет с необходимыми данными, отсортировав его по количеству воспроизведений"
   ],
   "metadata": {
    "collapsed": false
   }
  },
  {
   "cell_type": "code",
   "execution_count": 34,
   "outputs": [],
   "source": [
    "# df_collections = df_echonest.groupby(by='song_id').agg({'play_count': 'sum'}).sort_values(by='play_count', ascending=False).reset_index()\n",
    "# df_collections.head()"
   ],
   "metadata": {
    "collapsed": false
   }
  },
  {
   "cell_type": "markdown",
   "source": [
    "Добавляем столбцы из df_track"
   ],
   "metadata": {
    "collapsed": false
   }
  },
  {
   "cell_type": "code",
   "execution_count": 35,
   "outputs": [],
   "source": [
    "# df_collections = pd.merge(df_collections, df_track.drop_duplicates(subset='song_id', keep='first'), on='song_id', how='left')\n",
    "# df_collections.head()"
   ],
   "metadata": {
    "collapsed": false
   }
  },
  {
   "cell_type": "markdown",
   "source": [
    "Если текст песни 'text' и преобразованное название 'title_pure' отсутствуют, прописываем пустое значение в строке соответствующего столбца"
   ],
   "metadata": {
    "collapsed": false
   }
  },
  {
   "cell_type": "code",
   "execution_count": 36,
   "outputs": [],
   "source": [
    "# df_collections[['text']] = df_collections[['text']].fillna('')\n",
    "# df_collections[['title_pure']] = df_collections[['title_pure']].fillna('')\n",
    "# df_collections = df_collections.astype({'text': str})\n",
    "# df_collections.isnull().sum()"
   ],
   "metadata": {
    "collapsed": false
   }
  },
  {
   "cell_type": "markdown",
   "source": [
    "Добавляем новый столбец с объединенным предобработанным названием и текстом"
   ],
   "metadata": {
    "collapsed": false
   }
  },
  {
   "cell_type": "code",
   "execution_count": 37,
   "outputs": [],
   "source": [
    "# df_collections['title_and_text'] = df_collections['title_pure'] + ' ' + df_collections['text']\n",
    "# df_collections.head(50)"
   ],
   "metadata": {
    "collapsed": false
   }
  },
  {
   "cell_type": "markdown",
   "source": [
    "Стемминг строк столбца 'title_and_text'"
   ],
   "metadata": {
    "collapsed": false
   }
  },
  {
   "cell_type": "code",
   "execution_count": 38,
   "outputs": [],
   "source": [
    "# df_collections['title_and_text'] = df_collections.apply(lambda x: stemline(str(x['title_and_text'])), axis=1)\n",
    "# df_collections.head(50)"
   ],
   "metadata": {
    "collapsed": false
   }
  },
  {
   "cell_type": "markdown",
   "source": [
    "BASELINE"
   ],
   "metadata": {
    "collapsed": false
   }
  },
  {
   "cell_type": "markdown",
   "source": [
    "\t   1. по заданному ключевому слову (love, war, happiness) на выходе датафрейм (50 строк) со след. полями:\n",
    "\t\t\t\t1. номер индекса\n",
    "\t\t\t\t2. имя исполнителя\n",
    "\t\t\t\t3. название трека\n",
    "\t\t\t\t4. количество воспроизведений\n",
    "\t\t2. Таблица должна быть отсортирована по количеству воспроизведений по убыванию.\n",
    "\t\t3. Нужно использовать следующие рекомендации:\n",
    "\t\t\t1. baseline\n",
    "\t\t\t\t1. ищутся ключевое слово и количество его вхождений в песне\n",
    "\t\t\t\t2. найденное фильтруется с помощью некоторого порога\n",
    "\t\t\t\t3. происходит сортировка по количеству воспроизведений"
   ],
   "metadata": {
    "collapsed": false
   }
  },
  {
   "cell_type": "markdown",
   "source": [
    "Стемминг категорий для совпадения с текстовыми значениями 'title_and_text' датафрейма"
   ],
   "metadata": {
    "collapsed": false
   }
  },
  {
   "cell_type": "code",
   "execution_count": 39,
   "outputs": [
    {
     "data": {
      "text/plain": "['love', 'war', 'money', 'happi', 'loneli']"
     },
     "execution_count": 39,
     "metadata": {},
     "output_type": "execute_result"
    }
   ],
   "source": [
    "categories = ['love', 'war', 'money', 'happiness', 'loneliness']\n",
    "categories_stem = stemline(' '.join(categories)).split()\n",
    "categories_stem"
   ],
   "metadata": {
    "collapsed": false
   }
  },
  {
   "cell_type": "markdown",
   "source": [
    "Добавляем столбцы в датафрейм для каждой категории. Значение - количество полных совпадений в строке столбца 'title_and_text'"
   ],
   "metadata": {
    "collapsed": false
   }
  },
  {
   "cell_type": "code",
   "execution_count": 40,
   "outputs": [],
   "source": [
    "# df_collections['love'] = df_collections.apply(lambda x: str(x['title_and_text']).count('love'), axis=1)\n",
    "# df_collections['war'] = df_collections.apply(lambda x: str(x['title_and_text']).count('war'), axis=1)\n",
    "# df_collections['money'] = df_collections.apply(lambda x: str(x['title_and_text']).count('money'), axis=1)\n",
    "# df_collections['happiness'] = df_collections.apply(lambda x: str(x['title_and_text']).count('happi'), axis=1)\n",
    "# df_collections['loneliness'] = df_collections.apply(lambda x: str(x['title_and_text']).count('loneli'), axis=1)\n",
    "# df_collections.info()"
   ],
   "metadata": {
    "collapsed": false
   }
  },
  {
   "cell_type": "code",
   "execution_count": 41,
   "outputs": [],
   "source": [
    "# df_collections.head(50)"
   ],
   "metadata": {
    "collapsed": false
   }
  },
  {
   "cell_type": "code",
   "execution_count": 42,
   "outputs": [],
   "source": [
    "# df_collections.to_pickle('data/df_collections.pkl')"
   ],
   "metadata": {
    "collapsed": false
   }
  },
  {
   "cell_type": "code",
   "execution_count": 43,
   "outputs": [],
   "source": [
    "df_collections = pd.read_pickle('data/df_collections.pkl')"
   ],
   "metadata": {
    "collapsed": false
   }
  },
  {
   "cell_type": "code",
   "execution_count": 44,
   "outputs": [
    {
     "data": {
      "text/plain": "                             artist  \\\n0                        The B-52's   \n1                  Transvision Vamp   \n2                            Twista   \n3                    Wilson Pickett   \n4                           Beyoncé   \n5                   Tears For Fears   \n6                        Jill Scott   \n7                    Lady Sovereign   \n8                 Ashford & Simpson   \n9                           Beyonce   \n10                     Zapp & Roger   \n11                    Janet Jackson   \n12                  Luther Vandross   \n13                      Boyz II Men   \n14                       Rilo Kiley   \n15                      Matt Redman   \n16                      Third World   \n17               DAVE MATTHEWS BAND   \n18                   Jerrod Niemann   \n19                          Squeeze   \n20                Portugal. The Man   \n21                      Keith Sweat   \n22                 Portugal The Man   \n23                     Rhett Miller   \n24                      Karyn White   \n25                         N.E.R.D.   \n26                        Sam Cooke   \n27                       Slick Rick   \n28               The Blood Brothers   \n29            The Mamas & The Papas   \n30                     Ziggy Marley   \n31                        Kate Bush   \n32   Twista & The Speedknot Mobstaz   \n33                           Enigma   \n34                           Shaggy   \n35                        All-4-One   \n36                      Boyz II Men   \n37                 Armin van Buuren   \n38                       All Saints   \n39              Sophie Ellis-Bextor   \n40                       Jason Mraz   \n41                      Angie Stone   \n42                           Sparks   \n43                           Rooney   \n44                          Kosheen   \n45                    Stevie Wonder   \n46                           Foghat   \n47                  Aretha Franklin   \n48                       Black Kids   \n49  Billie The Vision & The Dancers   \n\n                                                title  play_count  \n0                                          Love Shack       20226  \n1                                    I Want Your Love       19988  \n2   Sunshine (Feat. Anthony Hamilton) (Edited Albu...       10992  \n3                     I'm In Love (Single/LP Version)        9713  \n4                                 Dangerously In Love        8336  \n5                            Sowing The Seeds Of Love        6996  \n6                                           It's Love        2648  \n7                                  Love Me Or Hate Me        2296  \n8                                        Found A Cure        2141  \n9   Keep Giving Your Love To Me (Beyonce) (Amended...        1980  \n10                                      Computer Love        1896  \n11                                    Because Of Love        1572  \n12                                      Wait For Love        1330  \n13                                      All This Love        1142  \n14                 Give A Little Love (Album Version)        1114  \n15                                       Here Is Love        1072  \n16                                       Try Jah Love        1027  \n17                                     Christmas Song         889  \n18                                       Lover_ Lover         793  \n19                                       If It's Love         734  \n20                                     Lovers in Love         727  \n21                   When I Give My Love (LP Version)         724  \n22                                          Elephants         715  \n23                              Our Love (LP Version)         689  \n24                   The Way You Love Me (LP Version)         636  \n25                                      Backseat Love         621  \n26               (I Love You) For Sentimental Reasons         605  \n27                                       Teenage Love         563  \n28                 Love Rhymes With Hideous Car Wreck         522  \n29                                For The Love Of Ivy         519  \n30  I Love You Too (feat Rita Marley and  Cedella ...         490  \n31                                             Bertie         459  \n32                                Dreams (LP Version)         425  \n33                        Je T'aime Till My Dying Day         408  \n34                                     All About Love         374  \n35                                    So Much In Love         373  \n36                                             Lovely         365  \n37                                 In and Out of Love         299  \n38                                       Love Is Love         290  \n39                                    Love It Is Love         247  \n40                  Song For A Friend (Album Version)         239  \n41                                   I Wanna Thank Ya         237  \n42                       Eaten By the Monster of Love         237  \n43                                Love Me Or Leave Me         217  \n44                                               Gone         217  \n45                                     All Day Sucker         198  \n46                                       Love Rustler         197  \n47                                      A Deeper Love         195  \n48                                    Love Me Already         181  \n49                                    I Saw You on TV         173  ",
      "text/html": "<div>\n<style scoped>\n    .dataframe tbody tr th:only-of-type {\n        vertical-align: middle;\n    }\n\n    .dataframe tbody tr th {\n        vertical-align: top;\n    }\n\n    .dataframe thead th {\n        text-align: right;\n    }\n</style>\n<table border=\"1\" class=\"dataframe\">\n  <thead>\n    <tr style=\"text-align: right;\">\n      <th></th>\n      <th>artist</th>\n      <th>title</th>\n      <th>play_count</th>\n    </tr>\n  </thead>\n  <tbody>\n    <tr>\n      <th>0</th>\n      <td>The B-52's</td>\n      <td>Love Shack</td>\n      <td>20226</td>\n    </tr>\n    <tr>\n      <th>1</th>\n      <td>Transvision Vamp</td>\n      <td>I Want Your Love</td>\n      <td>19988</td>\n    </tr>\n    <tr>\n      <th>2</th>\n      <td>Twista</td>\n      <td>Sunshine (Feat. Anthony Hamilton) (Edited Albu...</td>\n      <td>10992</td>\n    </tr>\n    <tr>\n      <th>3</th>\n      <td>Wilson Pickett</td>\n      <td>I'm In Love (Single/LP Version)</td>\n      <td>9713</td>\n    </tr>\n    <tr>\n      <th>4</th>\n      <td>Beyoncé</td>\n      <td>Dangerously In Love</td>\n      <td>8336</td>\n    </tr>\n    <tr>\n      <th>5</th>\n      <td>Tears For Fears</td>\n      <td>Sowing The Seeds Of Love</td>\n      <td>6996</td>\n    </tr>\n    <tr>\n      <th>6</th>\n      <td>Jill Scott</td>\n      <td>It's Love</td>\n      <td>2648</td>\n    </tr>\n    <tr>\n      <th>7</th>\n      <td>Lady Sovereign</td>\n      <td>Love Me Or Hate Me</td>\n      <td>2296</td>\n    </tr>\n    <tr>\n      <th>8</th>\n      <td>Ashford &amp; Simpson</td>\n      <td>Found A Cure</td>\n      <td>2141</td>\n    </tr>\n    <tr>\n      <th>9</th>\n      <td>Beyonce</td>\n      <td>Keep Giving Your Love To Me (Beyonce) (Amended...</td>\n      <td>1980</td>\n    </tr>\n    <tr>\n      <th>10</th>\n      <td>Zapp &amp; Roger</td>\n      <td>Computer Love</td>\n      <td>1896</td>\n    </tr>\n    <tr>\n      <th>11</th>\n      <td>Janet Jackson</td>\n      <td>Because Of Love</td>\n      <td>1572</td>\n    </tr>\n    <tr>\n      <th>12</th>\n      <td>Luther Vandross</td>\n      <td>Wait For Love</td>\n      <td>1330</td>\n    </tr>\n    <tr>\n      <th>13</th>\n      <td>Boyz II Men</td>\n      <td>All This Love</td>\n      <td>1142</td>\n    </tr>\n    <tr>\n      <th>14</th>\n      <td>Rilo Kiley</td>\n      <td>Give A Little Love (Album Version)</td>\n      <td>1114</td>\n    </tr>\n    <tr>\n      <th>15</th>\n      <td>Matt Redman</td>\n      <td>Here Is Love</td>\n      <td>1072</td>\n    </tr>\n    <tr>\n      <th>16</th>\n      <td>Third World</td>\n      <td>Try Jah Love</td>\n      <td>1027</td>\n    </tr>\n    <tr>\n      <th>17</th>\n      <td>DAVE MATTHEWS BAND</td>\n      <td>Christmas Song</td>\n      <td>889</td>\n    </tr>\n    <tr>\n      <th>18</th>\n      <td>Jerrod Niemann</td>\n      <td>Lover_ Lover</td>\n      <td>793</td>\n    </tr>\n    <tr>\n      <th>19</th>\n      <td>Squeeze</td>\n      <td>If It's Love</td>\n      <td>734</td>\n    </tr>\n    <tr>\n      <th>20</th>\n      <td>Portugal. The Man</td>\n      <td>Lovers in Love</td>\n      <td>727</td>\n    </tr>\n    <tr>\n      <th>21</th>\n      <td>Keith Sweat</td>\n      <td>When I Give My Love (LP Version)</td>\n      <td>724</td>\n    </tr>\n    <tr>\n      <th>22</th>\n      <td>Portugal The Man</td>\n      <td>Elephants</td>\n      <td>715</td>\n    </tr>\n    <tr>\n      <th>23</th>\n      <td>Rhett Miller</td>\n      <td>Our Love (LP Version)</td>\n      <td>689</td>\n    </tr>\n    <tr>\n      <th>24</th>\n      <td>Karyn White</td>\n      <td>The Way You Love Me (LP Version)</td>\n      <td>636</td>\n    </tr>\n    <tr>\n      <th>25</th>\n      <td>N.E.R.D.</td>\n      <td>Backseat Love</td>\n      <td>621</td>\n    </tr>\n    <tr>\n      <th>26</th>\n      <td>Sam Cooke</td>\n      <td>(I Love You) For Sentimental Reasons</td>\n      <td>605</td>\n    </tr>\n    <tr>\n      <th>27</th>\n      <td>Slick Rick</td>\n      <td>Teenage Love</td>\n      <td>563</td>\n    </tr>\n    <tr>\n      <th>28</th>\n      <td>The Blood Brothers</td>\n      <td>Love Rhymes With Hideous Car Wreck</td>\n      <td>522</td>\n    </tr>\n    <tr>\n      <th>29</th>\n      <td>The Mamas &amp; The Papas</td>\n      <td>For The Love Of Ivy</td>\n      <td>519</td>\n    </tr>\n    <tr>\n      <th>30</th>\n      <td>Ziggy Marley</td>\n      <td>I Love You Too (feat Rita Marley and  Cedella ...</td>\n      <td>490</td>\n    </tr>\n    <tr>\n      <th>31</th>\n      <td>Kate Bush</td>\n      <td>Bertie</td>\n      <td>459</td>\n    </tr>\n    <tr>\n      <th>32</th>\n      <td>Twista &amp; The Speedknot Mobstaz</td>\n      <td>Dreams (LP Version)</td>\n      <td>425</td>\n    </tr>\n    <tr>\n      <th>33</th>\n      <td>Enigma</td>\n      <td>Je T'aime Till My Dying Day</td>\n      <td>408</td>\n    </tr>\n    <tr>\n      <th>34</th>\n      <td>Shaggy</td>\n      <td>All About Love</td>\n      <td>374</td>\n    </tr>\n    <tr>\n      <th>35</th>\n      <td>All-4-One</td>\n      <td>So Much In Love</td>\n      <td>373</td>\n    </tr>\n    <tr>\n      <th>36</th>\n      <td>Boyz II Men</td>\n      <td>Lovely</td>\n      <td>365</td>\n    </tr>\n    <tr>\n      <th>37</th>\n      <td>Armin van Buuren</td>\n      <td>In and Out of Love</td>\n      <td>299</td>\n    </tr>\n    <tr>\n      <th>38</th>\n      <td>All Saints</td>\n      <td>Love Is Love</td>\n      <td>290</td>\n    </tr>\n    <tr>\n      <th>39</th>\n      <td>Sophie Ellis-Bextor</td>\n      <td>Love It Is Love</td>\n      <td>247</td>\n    </tr>\n    <tr>\n      <th>40</th>\n      <td>Jason Mraz</td>\n      <td>Song For A Friend (Album Version)</td>\n      <td>239</td>\n    </tr>\n    <tr>\n      <th>41</th>\n      <td>Angie Stone</td>\n      <td>I Wanna Thank Ya</td>\n      <td>237</td>\n    </tr>\n    <tr>\n      <th>42</th>\n      <td>Sparks</td>\n      <td>Eaten By the Monster of Love</td>\n      <td>237</td>\n    </tr>\n    <tr>\n      <th>43</th>\n      <td>Rooney</td>\n      <td>Love Me Or Leave Me</td>\n      <td>217</td>\n    </tr>\n    <tr>\n      <th>44</th>\n      <td>Kosheen</td>\n      <td>Gone</td>\n      <td>217</td>\n    </tr>\n    <tr>\n      <th>45</th>\n      <td>Stevie Wonder</td>\n      <td>All Day Sucker</td>\n      <td>198</td>\n    </tr>\n    <tr>\n      <th>46</th>\n      <td>Foghat</td>\n      <td>Love Rustler</td>\n      <td>197</td>\n    </tr>\n    <tr>\n      <th>47</th>\n      <td>Aretha Franklin</td>\n      <td>A Deeper Love</td>\n      <td>195</td>\n    </tr>\n    <tr>\n      <th>48</th>\n      <td>Black Kids</td>\n      <td>Love Me Already</td>\n      <td>181</td>\n    </tr>\n    <tr>\n      <th>49</th>\n      <td>Billie The Vision &amp; The Dancers</td>\n      <td>I Saw You on TV</td>\n      <td>173</td>\n    </tr>\n  </tbody>\n</table>\n</div>"
     },
     "execution_count": 44,
     "metadata": {},
     "output_type": "execute_result"
    }
   ],
   "source": [
    "collections_baseline_('love', 40)"
   ],
   "metadata": {
    "collapsed": false
   }
  },
  {
   "cell_type": "code",
   "execution_count": 45,
   "outputs": [
    {
     "data": {
      "text/plain": "                          artist  \\\n0                  Guns N' Roses   \n1                     Kanye West   \n2                 Cobra Starship   \n3                  Operation Ivy   \n4                        Iration   \n5                       Coldplay   \n6                    Buju Banton   \n7                Yeah Yeah Yeahs   \n8                The 2 Live Crew   \n9       Rage Against The Machine   \n10              A Perfect Circle   \n11         The New Pornographers   \n12                     The Kills   \n13                  Billy Talent   \n14                     Cat Power   \n15                    Black Tide   \n16                         Stars   \n17                     Sean Paul   \n18                  Bad Religion   \n19                          Kiss   \n20                 Black Sabbath   \n21               The Greenhornes   \n22                  Freedom Call   \n23            Weird Al\" Yankovic   \n24                      Samajona   \n25             Story Of The Year   \n26                   Iron Maiden   \n27                        Burzum   \n28               Wir Sind Helden   \n29                      Godsmack   \n30                    Funkadelic   \n31                         Texta   \n32                Ben Folds Five   \n33                  Sanctus Real   \n34        Austrian Death Machine   \n35                  Big Punisher   \n36                  Hot Hot Heat   \n37                          Sido   \n38  Creedence Clearwater Revival   \n39                 The Yardbirds   \n40               Smokey Robinson   \n41                        Sizzla   \n42                          Wizo   \n43               Eric B. & Rakim   \n44                          Sade   \n45                   Lloyd Banks   \n46                Set Your Goals   \n47                Lady Sovereign   \n48                Fischerspooner   \n49                Jonas Brothers   \n\n                                                title  play_count  \n0                                           Civil War       22893  \n1                                           The Glory        3934  \n2                  The City Is At War (Album Version)        3480  \n3                                        Take Warning        3041  \n4                                           Love/Hate        2370  \n5                                       Twisted Logic        2364  \n6                                       African Pride        2326  \n7                                             Warrior        1854  \n8                                         Me So Horny        1818  \n9                                  Township Rebellion        1644  \n10                                   Let's Have A War        1616  \n11                                        Star Bodies        1604  \n12                                    Fuck The People        1499  \n13               Covered In Cowardice (Album Version)        1414  \n14                                             He War        1369  \n15                                   Warriors Of Time        1306  \n16                       In Our Bedroom After The War        1172  \n17                                   Mek It Go So Den        1025  \n18                      World War III (Album Version)         966  \n19                                        War Machine         927  \n20                          Keep It Warm (LP Version)         913  \n21                                            Hold Me         890  \n22                                           Warriors         798  \n23                                        Virus Alert         786  \n24                                            Warum?!         762  \n25                             Welcome To Our New War         664  \n26                                      The Aftermath         578  \n27                                                War         564  \n28                                  Von Hier An Blind         512  \n29                                      War And Peace         501  \n30                    Electric Spanking Of War Babies         495  \n31                                        Fragestunde         473  \n32                                    Missing The War         470  \n33                                             Legacy         435  \n34  I Am A Cybernetic Organism_ Living Tissue Over...         405  \n35                                             Beware         392  \n36                           Give Up? (Album Version)         376  \n37                                   Ein Teil von Mir         357  \n38                               Need Someone To Hold         345  \n39                           Over Under Sideways Down         341  \n40                                    Baby Come Close         341  \n41                                 I'm With The Girls         332  \n42                                         Kopfschuss         311  \n43                                  Casualties Of War         308  \n44                                  War Of The Hearts         299  \n45                                            Warrior         298  \n46         flawed methods of persecution & punishment         273  \n47                                     Public Warning         266  \n48                                      We Need A War         253  \n49                                      World War III         246  ",
      "text/html": "<div>\n<style scoped>\n    .dataframe tbody tr th:only-of-type {\n        vertical-align: middle;\n    }\n\n    .dataframe tbody tr th {\n        vertical-align: top;\n    }\n\n    .dataframe thead th {\n        text-align: right;\n    }\n</style>\n<table border=\"1\" class=\"dataframe\">\n  <thead>\n    <tr style=\"text-align: right;\">\n      <th></th>\n      <th>artist</th>\n      <th>title</th>\n      <th>play_count</th>\n    </tr>\n  </thead>\n  <tbody>\n    <tr>\n      <th>0</th>\n      <td>Guns N' Roses</td>\n      <td>Civil War</td>\n      <td>22893</td>\n    </tr>\n    <tr>\n      <th>1</th>\n      <td>Kanye West</td>\n      <td>The Glory</td>\n      <td>3934</td>\n    </tr>\n    <tr>\n      <th>2</th>\n      <td>Cobra Starship</td>\n      <td>The City Is At War (Album Version)</td>\n      <td>3480</td>\n    </tr>\n    <tr>\n      <th>3</th>\n      <td>Operation Ivy</td>\n      <td>Take Warning</td>\n      <td>3041</td>\n    </tr>\n    <tr>\n      <th>4</th>\n      <td>Iration</td>\n      <td>Love/Hate</td>\n      <td>2370</td>\n    </tr>\n    <tr>\n      <th>5</th>\n      <td>Coldplay</td>\n      <td>Twisted Logic</td>\n      <td>2364</td>\n    </tr>\n    <tr>\n      <th>6</th>\n      <td>Buju Banton</td>\n      <td>African Pride</td>\n      <td>2326</td>\n    </tr>\n    <tr>\n      <th>7</th>\n      <td>Yeah Yeah Yeahs</td>\n      <td>Warrior</td>\n      <td>1854</td>\n    </tr>\n    <tr>\n      <th>8</th>\n      <td>The 2 Live Crew</td>\n      <td>Me So Horny</td>\n      <td>1818</td>\n    </tr>\n    <tr>\n      <th>9</th>\n      <td>Rage Against The Machine</td>\n      <td>Township Rebellion</td>\n      <td>1644</td>\n    </tr>\n    <tr>\n      <th>10</th>\n      <td>A Perfect Circle</td>\n      <td>Let's Have A War</td>\n      <td>1616</td>\n    </tr>\n    <tr>\n      <th>11</th>\n      <td>The New Pornographers</td>\n      <td>Star Bodies</td>\n      <td>1604</td>\n    </tr>\n    <tr>\n      <th>12</th>\n      <td>The Kills</td>\n      <td>Fuck The People</td>\n      <td>1499</td>\n    </tr>\n    <tr>\n      <th>13</th>\n      <td>Billy Talent</td>\n      <td>Covered In Cowardice (Album Version)</td>\n      <td>1414</td>\n    </tr>\n    <tr>\n      <th>14</th>\n      <td>Cat Power</td>\n      <td>He War</td>\n      <td>1369</td>\n    </tr>\n    <tr>\n      <th>15</th>\n      <td>Black Tide</td>\n      <td>Warriors Of Time</td>\n      <td>1306</td>\n    </tr>\n    <tr>\n      <th>16</th>\n      <td>Stars</td>\n      <td>In Our Bedroom After The War</td>\n      <td>1172</td>\n    </tr>\n    <tr>\n      <th>17</th>\n      <td>Sean Paul</td>\n      <td>Mek It Go So Den</td>\n      <td>1025</td>\n    </tr>\n    <tr>\n      <th>18</th>\n      <td>Bad Religion</td>\n      <td>World War III (Album Version)</td>\n      <td>966</td>\n    </tr>\n    <tr>\n      <th>19</th>\n      <td>Kiss</td>\n      <td>War Machine</td>\n      <td>927</td>\n    </tr>\n    <tr>\n      <th>20</th>\n      <td>Black Sabbath</td>\n      <td>Keep It Warm (LP Version)</td>\n      <td>913</td>\n    </tr>\n    <tr>\n      <th>21</th>\n      <td>The Greenhornes</td>\n      <td>Hold Me</td>\n      <td>890</td>\n    </tr>\n    <tr>\n      <th>22</th>\n      <td>Freedom Call</td>\n      <td>Warriors</td>\n      <td>798</td>\n    </tr>\n    <tr>\n      <th>23</th>\n      <td>Weird Al\" Yankovic</td>\n      <td>Virus Alert</td>\n      <td>786</td>\n    </tr>\n    <tr>\n      <th>24</th>\n      <td>Samajona</td>\n      <td>Warum?!</td>\n      <td>762</td>\n    </tr>\n    <tr>\n      <th>25</th>\n      <td>Story Of The Year</td>\n      <td>Welcome To Our New War</td>\n      <td>664</td>\n    </tr>\n    <tr>\n      <th>26</th>\n      <td>Iron Maiden</td>\n      <td>The Aftermath</td>\n      <td>578</td>\n    </tr>\n    <tr>\n      <th>27</th>\n      <td>Burzum</td>\n      <td>War</td>\n      <td>564</td>\n    </tr>\n    <tr>\n      <th>28</th>\n      <td>Wir Sind Helden</td>\n      <td>Von Hier An Blind</td>\n      <td>512</td>\n    </tr>\n    <tr>\n      <th>29</th>\n      <td>Godsmack</td>\n      <td>War And Peace</td>\n      <td>501</td>\n    </tr>\n    <tr>\n      <th>30</th>\n      <td>Funkadelic</td>\n      <td>Electric Spanking Of War Babies</td>\n      <td>495</td>\n    </tr>\n    <tr>\n      <th>31</th>\n      <td>Texta</td>\n      <td>Fragestunde</td>\n      <td>473</td>\n    </tr>\n    <tr>\n      <th>32</th>\n      <td>Ben Folds Five</td>\n      <td>Missing The War</td>\n      <td>470</td>\n    </tr>\n    <tr>\n      <th>33</th>\n      <td>Sanctus Real</td>\n      <td>Legacy</td>\n      <td>435</td>\n    </tr>\n    <tr>\n      <th>34</th>\n      <td>Austrian Death Machine</td>\n      <td>I Am A Cybernetic Organism_ Living Tissue Over...</td>\n      <td>405</td>\n    </tr>\n    <tr>\n      <th>35</th>\n      <td>Big Punisher</td>\n      <td>Beware</td>\n      <td>392</td>\n    </tr>\n    <tr>\n      <th>36</th>\n      <td>Hot Hot Heat</td>\n      <td>Give Up? (Album Version)</td>\n      <td>376</td>\n    </tr>\n    <tr>\n      <th>37</th>\n      <td>Sido</td>\n      <td>Ein Teil von Mir</td>\n      <td>357</td>\n    </tr>\n    <tr>\n      <th>38</th>\n      <td>Creedence Clearwater Revival</td>\n      <td>Need Someone To Hold</td>\n      <td>345</td>\n    </tr>\n    <tr>\n      <th>39</th>\n      <td>The Yardbirds</td>\n      <td>Over Under Sideways Down</td>\n      <td>341</td>\n    </tr>\n    <tr>\n      <th>40</th>\n      <td>Smokey Robinson</td>\n      <td>Baby Come Close</td>\n      <td>341</td>\n    </tr>\n    <tr>\n      <th>41</th>\n      <td>Sizzla</td>\n      <td>I'm With The Girls</td>\n      <td>332</td>\n    </tr>\n    <tr>\n      <th>42</th>\n      <td>Wizo</td>\n      <td>Kopfschuss</td>\n      <td>311</td>\n    </tr>\n    <tr>\n      <th>43</th>\n      <td>Eric B. &amp; Rakim</td>\n      <td>Casualties Of War</td>\n      <td>308</td>\n    </tr>\n    <tr>\n      <th>44</th>\n      <td>Sade</td>\n      <td>War Of The Hearts</td>\n      <td>299</td>\n    </tr>\n    <tr>\n      <th>45</th>\n      <td>Lloyd Banks</td>\n      <td>Warrior</td>\n      <td>298</td>\n    </tr>\n    <tr>\n      <th>46</th>\n      <td>Set Your Goals</td>\n      <td>flawed methods of persecution &amp; punishment</td>\n      <td>273</td>\n    </tr>\n    <tr>\n      <th>47</th>\n      <td>Lady Sovereign</td>\n      <td>Public Warning</td>\n      <td>266</td>\n    </tr>\n    <tr>\n      <th>48</th>\n      <td>Fischerspooner</td>\n      <td>We Need A War</td>\n      <td>253</td>\n    </tr>\n    <tr>\n      <th>49</th>\n      <td>Jonas Brothers</td>\n      <td>World War III</td>\n      <td>246</td>\n    </tr>\n  </tbody>\n</table>\n</div>"
     },
     "execution_count": 45,
     "metadata": {},
     "output_type": "execute_result"
    }
   ],
   "source": [
    "collections_baseline_('war', 10)"
   ],
   "metadata": {
    "collapsed": false
   }
  },
  {
   "cell_type": "code",
   "execution_count": 46,
   "outputs": [
    {
     "data": {
      "text/plain": "                               artist  \\\n0                       Avril Lavigne   \n1                             Nirvana   \n2                            Gorillaz   \n3                            Gorillaz   \n4                           The Verve   \n5                   Infected Mushroom   \n6                        Powderfinger   \n7                       Skunk Anansie   \n8                       Kylie Minogue   \n9                  Neutral Milk Hotel   \n10                  A Day To Remember   \n11                       All Time Low   \n12                           Boney M.   \n13                           Hot Chip   \n14         The Red Jumpsuit Apparatus   \n15                  Belle & Sebastian   \n16  Prince & The New Power Generation   \n17                        Leona Lewis   \n18                       Rise Against   \n19                         Jimmy Soul   \n20                 Traveling Wilburys   \n21                         Chaka Khan   \n22                       Phil Collins   \n23                          Frou Frou   \n24                      Tracy Chapman   \n25                   August Burns Red   \n26                          Everclear   \n27                       Norman Blake   \n28                    Eliza Doolittle   \n29               Blood_ Sweat & Tears   \n30                   Inspiral Carpets   \n31                My Chemical Romance   \n32                          zebrahead   \n33                     Camera Obscura   \n34                      Broder Daniel   \n35                     Ben Folds Five   \n36               Thousand Foot Krutch   \n37                            Flobots   \n38                          Amy Adams   \n39                   The Soft Machine   \n40                          Everclear   \n41                         Gary Allan   \n42                               Aqua   \n43                           Gorillaz   \n44            Queens Of The Stone Age   \n45                                Air   \n46                        Girls Aloud   \n47             Richard X Vs Liberty X   \n48                                Air   \n49                             Travis   \n\n                                                title  play_count  \n0                                     My Happy Ending       27203  \n1                                                Dumb       13167  \n2                           Clint Eastwood (Explicit)       12697  \n3   Clint Eastwood (Ed Case/Sweetie Irie Refix) (E...       12104  \n4                                           Lucky Man       10150  \n5                                    Deeply Disturbed        7212  \n6                                        My Happiness        7202  \n7               Hedonism - Just Because You Feel Good        6605  \n8                                               Drunk        5493  \n9                                       Three Peaches        5204  \n10                                 NJ Legion Iced Tea        5123  \n11                                             Stella        4921  \n12                                         Happy Song        4599  \n13                               Thieves In The Night        4476  \n14                                      Cat And Mouse        4433  \n15                                    If She Wants Me        3974  \n16                         Diamonds And Pearls [Edit]        3869  \n17                                              Happy        3839  \n18                              The Approaching Curve        3612  \n19                              If You Wanna Be Happy        3403  \n20  If You Belonged To Me (2007 Remastered LP Vers...        3097  \n21                                       Ain't Nobody        2972  \n22                                            Welcome        2834  \n23                            It's Good To Be In Love        2475  \n24                        You're The One (LP Version)        2414  \n25                               Up Against the Ropes        2391  \n26                                         Sunflowers        2369  \n27                                You Are My Sunshine        2305  \n28                                           Moneybox        2283  \n29                       You've Made Me So Very Happy        2260  \n30                                 Many Happy Returns        2177  \n31                                Headfirst For Halos        1961  \n32                                      Mental health        1862  \n33                                     Happy New Year        1843  \n34  Happy People Never Fantasize (2005 Digital Rem...        1626  \n35                                        Underground        1610  \n36                          Faith_ Love And Happiness        1608  \n37                                     Happy Together        1446  \n38                                 Happy Working Song        1442  \n39                                 Hope For Happiness        1431  \n40                                        Amphetamine        1419  \n41                                              Today        1326  \n42                                 Happy Boys & Girls        1285  \n43                              We Are Happy Landfill        1267  \n44                         Everybody's Gonna Be Happy        1224  \n45                                       The Vagabond        1214  \n46                                               Jump        1194  \n47                                       Being Nobody        1194  \n48                                  Lucky And Unhappy        1189  \n49                                              Happy        1140  ",
      "text/html": "<div>\n<style scoped>\n    .dataframe tbody tr th:only-of-type {\n        vertical-align: middle;\n    }\n\n    .dataframe tbody tr th {\n        vertical-align: top;\n    }\n\n    .dataframe thead th {\n        text-align: right;\n    }\n</style>\n<table border=\"1\" class=\"dataframe\">\n  <thead>\n    <tr style=\"text-align: right;\">\n      <th></th>\n      <th>artist</th>\n      <th>title</th>\n      <th>play_count</th>\n    </tr>\n  </thead>\n  <tbody>\n    <tr>\n      <th>0</th>\n      <td>Avril Lavigne</td>\n      <td>My Happy Ending</td>\n      <td>27203</td>\n    </tr>\n    <tr>\n      <th>1</th>\n      <td>Nirvana</td>\n      <td>Dumb</td>\n      <td>13167</td>\n    </tr>\n    <tr>\n      <th>2</th>\n      <td>Gorillaz</td>\n      <td>Clint Eastwood (Explicit)</td>\n      <td>12697</td>\n    </tr>\n    <tr>\n      <th>3</th>\n      <td>Gorillaz</td>\n      <td>Clint Eastwood (Ed Case/Sweetie Irie Refix) (E...</td>\n      <td>12104</td>\n    </tr>\n    <tr>\n      <th>4</th>\n      <td>The Verve</td>\n      <td>Lucky Man</td>\n      <td>10150</td>\n    </tr>\n    <tr>\n      <th>5</th>\n      <td>Infected Mushroom</td>\n      <td>Deeply Disturbed</td>\n      <td>7212</td>\n    </tr>\n    <tr>\n      <th>6</th>\n      <td>Powderfinger</td>\n      <td>My Happiness</td>\n      <td>7202</td>\n    </tr>\n    <tr>\n      <th>7</th>\n      <td>Skunk Anansie</td>\n      <td>Hedonism - Just Because You Feel Good</td>\n      <td>6605</td>\n    </tr>\n    <tr>\n      <th>8</th>\n      <td>Kylie Minogue</td>\n      <td>Drunk</td>\n      <td>5493</td>\n    </tr>\n    <tr>\n      <th>9</th>\n      <td>Neutral Milk Hotel</td>\n      <td>Three Peaches</td>\n      <td>5204</td>\n    </tr>\n    <tr>\n      <th>10</th>\n      <td>A Day To Remember</td>\n      <td>NJ Legion Iced Tea</td>\n      <td>5123</td>\n    </tr>\n    <tr>\n      <th>11</th>\n      <td>All Time Low</td>\n      <td>Stella</td>\n      <td>4921</td>\n    </tr>\n    <tr>\n      <th>12</th>\n      <td>Boney M.</td>\n      <td>Happy Song</td>\n      <td>4599</td>\n    </tr>\n    <tr>\n      <th>13</th>\n      <td>Hot Chip</td>\n      <td>Thieves In The Night</td>\n      <td>4476</td>\n    </tr>\n    <tr>\n      <th>14</th>\n      <td>The Red Jumpsuit Apparatus</td>\n      <td>Cat And Mouse</td>\n      <td>4433</td>\n    </tr>\n    <tr>\n      <th>15</th>\n      <td>Belle &amp; Sebastian</td>\n      <td>If She Wants Me</td>\n      <td>3974</td>\n    </tr>\n    <tr>\n      <th>16</th>\n      <td>Prince &amp; The New Power Generation</td>\n      <td>Diamonds And Pearls [Edit]</td>\n      <td>3869</td>\n    </tr>\n    <tr>\n      <th>17</th>\n      <td>Leona Lewis</td>\n      <td>Happy</td>\n      <td>3839</td>\n    </tr>\n    <tr>\n      <th>18</th>\n      <td>Rise Against</td>\n      <td>The Approaching Curve</td>\n      <td>3612</td>\n    </tr>\n    <tr>\n      <th>19</th>\n      <td>Jimmy Soul</td>\n      <td>If You Wanna Be Happy</td>\n      <td>3403</td>\n    </tr>\n    <tr>\n      <th>20</th>\n      <td>Traveling Wilburys</td>\n      <td>If You Belonged To Me (2007 Remastered LP Vers...</td>\n      <td>3097</td>\n    </tr>\n    <tr>\n      <th>21</th>\n      <td>Chaka Khan</td>\n      <td>Ain't Nobody</td>\n      <td>2972</td>\n    </tr>\n    <tr>\n      <th>22</th>\n      <td>Phil Collins</td>\n      <td>Welcome</td>\n      <td>2834</td>\n    </tr>\n    <tr>\n      <th>23</th>\n      <td>Frou Frou</td>\n      <td>It's Good To Be In Love</td>\n      <td>2475</td>\n    </tr>\n    <tr>\n      <th>24</th>\n      <td>Tracy Chapman</td>\n      <td>You're The One (LP Version)</td>\n      <td>2414</td>\n    </tr>\n    <tr>\n      <th>25</th>\n      <td>August Burns Red</td>\n      <td>Up Against the Ropes</td>\n      <td>2391</td>\n    </tr>\n    <tr>\n      <th>26</th>\n      <td>Everclear</td>\n      <td>Sunflowers</td>\n      <td>2369</td>\n    </tr>\n    <tr>\n      <th>27</th>\n      <td>Norman Blake</td>\n      <td>You Are My Sunshine</td>\n      <td>2305</td>\n    </tr>\n    <tr>\n      <th>28</th>\n      <td>Eliza Doolittle</td>\n      <td>Moneybox</td>\n      <td>2283</td>\n    </tr>\n    <tr>\n      <th>29</th>\n      <td>Blood_ Sweat &amp; Tears</td>\n      <td>You've Made Me So Very Happy</td>\n      <td>2260</td>\n    </tr>\n    <tr>\n      <th>30</th>\n      <td>Inspiral Carpets</td>\n      <td>Many Happy Returns</td>\n      <td>2177</td>\n    </tr>\n    <tr>\n      <th>31</th>\n      <td>My Chemical Romance</td>\n      <td>Headfirst For Halos</td>\n      <td>1961</td>\n    </tr>\n    <tr>\n      <th>32</th>\n      <td>zebrahead</td>\n      <td>Mental health</td>\n      <td>1862</td>\n    </tr>\n    <tr>\n      <th>33</th>\n      <td>Camera Obscura</td>\n      <td>Happy New Year</td>\n      <td>1843</td>\n    </tr>\n    <tr>\n      <th>34</th>\n      <td>Broder Daniel</td>\n      <td>Happy People Never Fantasize (2005 Digital Rem...</td>\n      <td>1626</td>\n    </tr>\n    <tr>\n      <th>35</th>\n      <td>Ben Folds Five</td>\n      <td>Underground</td>\n      <td>1610</td>\n    </tr>\n    <tr>\n      <th>36</th>\n      <td>Thousand Foot Krutch</td>\n      <td>Faith_ Love And Happiness</td>\n      <td>1608</td>\n    </tr>\n    <tr>\n      <th>37</th>\n      <td>Flobots</td>\n      <td>Happy Together</td>\n      <td>1446</td>\n    </tr>\n    <tr>\n      <th>38</th>\n      <td>Amy Adams</td>\n      <td>Happy Working Song</td>\n      <td>1442</td>\n    </tr>\n    <tr>\n      <th>39</th>\n      <td>The Soft Machine</td>\n      <td>Hope For Happiness</td>\n      <td>1431</td>\n    </tr>\n    <tr>\n      <th>40</th>\n      <td>Everclear</td>\n      <td>Amphetamine</td>\n      <td>1419</td>\n    </tr>\n    <tr>\n      <th>41</th>\n      <td>Gary Allan</td>\n      <td>Today</td>\n      <td>1326</td>\n    </tr>\n    <tr>\n      <th>42</th>\n      <td>Aqua</td>\n      <td>Happy Boys &amp; Girls</td>\n      <td>1285</td>\n    </tr>\n    <tr>\n      <th>43</th>\n      <td>Gorillaz</td>\n      <td>We Are Happy Landfill</td>\n      <td>1267</td>\n    </tr>\n    <tr>\n      <th>44</th>\n      <td>Queens Of The Stone Age</td>\n      <td>Everybody's Gonna Be Happy</td>\n      <td>1224</td>\n    </tr>\n    <tr>\n      <th>45</th>\n      <td>Air</td>\n      <td>The Vagabond</td>\n      <td>1214</td>\n    </tr>\n    <tr>\n      <th>46</th>\n      <td>Girls Aloud</td>\n      <td>Jump</td>\n      <td>1194</td>\n    </tr>\n    <tr>\n      <th>47</th>\n      <td>Richard X Vs Liberty X</td>\n      <td>Being Nobody</td>\n      <td>1194</td>\n    </tr>\n    <tr>\n      <th>48</th>\n      <td>Air</td>\n      <td>Lucky And Unhappy</td>\n      <td>1189</td>\n    </tr>\n    <tr>\n      <th>49</th>\n      <td>Travis</td>\n      <td>Happy</td>\n      <td>1140</td>\n    </tr>\n  </tbody>\n</table>\n</div>"
     },
     "execution_count": 46,
     "metadata": {},
     "output_type": "execute_result"
    }
   ],
   "source": [
    "collections_baseline_('happiness', 5)"
   ],
   "metadata": {
    "collapsed": false
   }
  },
  {
   "cell_type": "code",
   "execution_count": 47,
   "outputs": [
    {
     "name": "stdout",
     "output_type": "stream",
     "text": [
      "Sorry, no such word something in song's categories. Try another one.\n"
     ]
    },
    {
     "data": {
      "text/plain": "Empty DataFrame\nColumns: []\nIndex: []",
      "text/html": "<div>\n<style scoped>\n    .dataframe tbody tr th:only-of-type {\n        vertical-align: middle;\n    }\n\n    .dataframe tbody tr th {\n        vertical-align: top;\n    }\n\n    .dataframe thead th {\n        text-align: right;\n    }\n</style>\n<table border=\"1\" class=\"dataframe\">\n  <thead>\n    <tr style=\"text-align: right;\">\n      <th></th>\n    </tr>\n  </thead>\n  <tbody>\n  </tbody>\n</table>\n</div>"
     },
     "execution_count": 47,
     "metadata": {},
     "output_type": "execute_result"
    }
   ],
   "source": [
    "collections_baseline_('something')"
   ],
   "metadata": {
    "collapsed": false
   }
  },
  {
   "cell_type": "markdown",
   "source": [
    "WORD2VEC"
   ],
   "metadata": {
    "collapsed": false
   }
  },
  {
   "cell_type": "markdown",
   "source": [
    "\t\t1. по заданному ключевому слову (love, war, happiness) на выходе датафрейм (50 строк) со след. полями:\n",
    "\t\t\t\t1. номер индекса\n",
    "\t\t\t\t2. имя исполнителя\n",
    "\t\t\t\t3. название трека\n",
    "\t\t\t\t4. количество воспроизведений\n",
    "\t\t2. Таблица должна быть отсортирована по количеству воспроизведений по убыванию.\n",
    "\t\t3. Нужно использовать следующие рекомендации:\n",
    "\n",
    "\t\t\t2. word2vec\n",
    "\t\t\t\t1. помимо ключевого слова, происходит поиск для нескольких найденных похожих токенов"
   ],
   "metadata": {
    "collapsed": false
   }
  },
  {
   "cell_type": "markdown",
   "source": [
    "Будем искать синонимы среди 44К слов, используя модель из https://www.nltk.org/howto/gensim.html"
   ],
   "metadata": {
    "collapsed": false
   }
  },
  {
   "cell_type": "code",
   "execution_count": 48,
   "outputs": [],
   "source": [
    "## for stemming\n",
    "# ps = PorterStemmer()\n",
    "# nltk.download('word2vec_sample')\n",
    "#\n",
    "# word2vec_sample = str(find('models/word2vec_sample/pruned.word2vec.txt'))\n",
    "# model = gensim.models.KeyedVectors.load_word2vec_format(word2vec_sample, binary=False)\n"
   ],
   "metadata": {
    "collapsed": false
   }
  },
  {
   "cell_type": "code",
   "execution_count": 49,
   "outputs": [],
   "source": [
    "# words = ['love', 'war', 'happiness', 'loneliness', 'money']\n",
    "#\n",
    "# synonyms = {}\n",
    "# for word in words:\n",
    "# \ttop_syn = model.most_similar(positive=word, topn = 10)\n",
    "# \ttop_syn_stem = set(map(lambda x: ps.stem(x[0]), top_syn))\n",
    "# \tsynonyms[word] = list(top_syn_stem)\n",
    "#\n",
    "# print(synonyms)"
   ],
   "metadata": {
    "collapsed": false
   }
  },
  {
   "cell_type": "markdown",
   "source": [
    "Добавляем столбцы в датафрейм для каждой категории. Значение - общее количество полных совпадений в строке столбца ‘title_and_text’ с синонимами категорий."
   ],
   "metadata": {
    "collapsed": false
   }
  },
  {
   "cell_type": "code",
   "execution_count": 50,
   "outputs": [],
   "source": [
    "# df_collections['love_syn'] = df_collections['title_and_text'].apply(count_coinc, args=[synonyms['love']])\n",
    "# df_collections['war_syn'] = df_collections['title_and_text'].apply(count_coinc, args=[synonyms['war']])\n",
    "# df_collections['happiness_syn'] = df_collections['title_and_text'].apply(count_coinc, args=[synonyms['happiness']])\n",
    "# df_collections['loneliness_syn'] = df_collections['title_and_text'].apply(count_coinc, args=[synonyms['loneliness']])\n",
    "# df_collections['money_syn'] = df_collections['title_and_text'].apply(count_coinc, args=[synonyms['money']])\n",
    "# df_collections.info()"
   ],
   "metadata": {
    "collapsed": false
   }
  },
  {
   "cell_type": "code",
   "execution_count": 51,
   "outputs": [],
   "source": [
    "# df_collections.head(30)"
   ],
   "metadata": {
    "collapsed": false
   }
  },
  {
   "cell_type": "code",
   "execution_count": 52,
   "outputs": [],
   "source": [
    "# df_collections.to_pickle('data/df_collections_syn.pkl')"
   ],
   "metadata": {
    "collapsed": false
   }
  },
  {
   "cell_type": "code",
   "execution_count": 53,
   "outputs": [],
   "source": [
    "df_collections_syn = pd.read_pickle('data/df_collections_syn.pkl')"
   ],
   "metadata": {
    "collapsed": false
   }
  },
  {
   "cell_type": "code",
   "execution_count": 54,
   "outputs": [
    {
     "data": {
      "text/plain": "                            artist  \\\n0                       The B-52's   \n1                 Transvision Vamp   \n2                           Twista   \n3                   Wilson Pickett   \n4                          Beyoncé   \n5                  Tears For Fears   \n6                       Jill Scott   \n7                   Lady Sovereign   \n8                Ashford & Simpson   \n9                          Beyonce   \n10                    Zapp & Roger   \n11                   Janet Jackson   \n12                 Luther Vandross   \n13                   The Offspring   \n14                     Boyz II Men   \n15                      Rilo Kiley   \n16                     Matt Redman   \n17                     Third World   \n18                         Bauhaus   \n19              DAVE MATTHEWS BAND   \n20                  Jerrod Niemann   \n21                         Squeeze   \n22               Portugal. The Man   \n23                     Keith Sweat   \n24                Portugal The Man   \n25                    Rhett Miller   \n26                     Karyn White   \n27                        N.E.R.D.   \n28                       Sam Cooke   \n29                      Slick Rick   \n30              The Blood Brothers   \n31           The Mamas & The Papas   \n32                    Ziggy Marley   \n33                       Kate Bush   \n34  Twista & The Speedknot Mobstaz   \n35                          Enigma   \n36                          Shaggy   \n37                       All-4-One   \n38                      The Flirts   \n39                     Boyz II Men   \n40                  Dave Hollister   \n41                   José González   \n42                Armin van Buuren   \n43                      All Saints   \n44                         Cibelle   \n45             Sophie Ellis-Bextor   \n46                      Jason Mraz   \n47                     Angie Stone   \n48                          Sparks   \n49                          Rooney   \n\n                                                title  play_count  \n0                                          Love Shack       20226  \n1                                    I Want Your Love       19988  \n2   Sunshine (Feat. Anthony Hamilton) (Edited Albu...       10992  \n3                     I'm In Love (Single/LP Version)        9713  \n4                                 Dangerously In Love        8336  \n5                            Sowing The Seeds Of Love        6996  \n6                                           It's Love        2648  \n7                                  Love Me Or Hate Me        2296  \n8                                        Found A Cure        2141  \n9   Keep Giving Your Love To Me (Beyonce) (Amended...        1980  \n10                                      Computer Love        1896  \n11                                    Because Of Love        1572  \n12                                      Wait For Love        1330  \n13                       Cool To Hate (Album version)        1166  \n14                                      All This Love        1142  \n15                 Give A Little Love (Album Version)        1114  \n16                                       Here Is Love        1072  \n17                                       Try Jah Love        1027  \n18                              The Passion Of Lovers         983  \n19                                     Christmas Song         889  \n20                                       Lover_ Lover         793  \n21                                       If It's Love         734  \n22                                     Lovers in Love         727  \n23                   When I Give My Love (LP Version)         724  \n24                                          Elephants         715  \n25                              Our Love (LP Version)         689  \n26                   The Way You Love Me (LP Version)         636  \n27                                      Backseat Love         621  \n28               (I Love You) For Sentimental Reasons         605  \n29                                       Teenage Love         563  \n30                 Love Rhymes With Hideous Car Wreck         522  \n31                                For The Love Of Ivy         519  \n32  I Love You Too (feat Rita Marley and  Cedella ...         490  \n33                                             Bertie         459  \n34                                Dreams (LP Version)         425  \n35                        Je T'aime Till My Dying Day         408  \n36                                     All About Love         374  \n37                                    So Much In Love         373  \n38                                            Passion         373  \n39                                             Lovely         365  \n40                             Love Hate Relationship         345  \n41                                   Killing For Love         337  \n42                                 In and Out of Love         299  \n43                                       Love Is Love         290  \n44                                               Hate         266  \n45                                    Love It Is Love         247  \n46                  Song For A Friend (Album Version)         239  \n47                                   I Wanna Thank Ya         237  \n48                       Eaten By the Monster of Love         237  \n49                                Love Me Or Leave Me         217  ",
      "text/html": "<div>\n<style scoped>\n    .dataframe tbody tr th:only-of-type {\n        vertical-align: middle;\n    }\n\n    .dataframe tbody tr th {\n        vertical-align: top;\n    }\n\n    .dataframe thead th {\n        text-align: right;\n    }\n</style>\n<table border=\"1\" class=\"dataframe\">\n  <thead>\n    <tr style=\"text-align: right;\">\n      <th></th>\n      <th>artist</th>\n      <th>title</th>\n      <th>play_count</th>\n    </tr>\n  </thead>\n  <tbody>\n    <tr>\n      <th>0</th>\n      <td>The B-52's</td>\n      <td>Love Shack</td>\n      <td>20226</td>\n    </tr>\n    <tr>\n      <th>1</th>\n      <td>Transvision Vamp</td>\n      <td>I Want Your Love</td>\n      <td>19988</td>\n    </tr>\n    <tr>\n      <th>2</th>\n      <td>Twista</td>\n      <td>Sunshine (Feat. Anthony Hamilton) (Edited Albu...</td>\n      <td>10992</td>\n    </tr>\n    <tr>\n      <th>3</th>\n      <td>Wilson Pickett</td>\n      <td>I'm In Love (Single/LP Version)</td>\n      <td>9713</td>\n    </tr>\n    <tr>\n      <th>4</th>\n      <td>Beyoncé</td>\n      <td>Dangerously In Love</td>\n      <td>8336</td>\n    </tr>\n    <tr>\n      <th>5</th>\n      <td>Tears For Fears</td>\n      <td>Sowing The Seeds Of Love</td>\n      <td>6996</td>\n    </tr>\n    <tr>\n      <th>6</th>\n      <td>Jill Scott</td>\n      <td>It's Love</td>\n      <td>2648</td>\n    </tr>\n    <tr>\n      <th>7</th>\n      <td>Lady Sovereign</td>\n      <td>Love Me Or Hate Me</td>\n      <td>2296</td>\n    </tr>\n    <tr>\n      <th>8</th>\n      <td>Ashford &amp; Simpson</td>\n      <td>Found A Cure</td>\n      <td>2141</td>\n    </tr>\n    <tr>\n      <th>9</th>\n      <td>Beyonce</td>\n      <td>Keep Giving Your Love To Me (Beyonce) (Amended...</td>\n      <td>1980</td>\n    </tr>\n    <tr>\n      <th>10</th>\n      <td>Zapp &amp; Roger</td>\n      <td>Computer Love</td>\n      <td>1896</td>\n    </tr>\n    <tr>\n      <th>11</th>\n      <td>Janet Jackson</td>\n      <td>Because Of Love</td>\n      <td>1572</td>\n    </tr>\n    <tr>\n      <th>12</th>\n      <td>Luther Vandross</td>\n      <td>Wait For Love</td>\n      <td>1330</td>\n    </tr>\n    <tr>\n      <th>13</th>\n      <td>The Offspring</td>\n      <td>Cool To Hate (Album version)</td>\n      <td>1166</td>\n    </tr>\n    <tr>\n      <th>14</th>\n      <td>Boyz II Men</td>\n      <td>All This Love</td>\n      <td>1142</td>\n    </tr>\n    <tr>\n      <th>15</th>\n      <td>Rilo Kiley</td>\n      <td>Give A Little Love (Album Version)</td>\n      <td>1114</td>\n    </tr>\n    <tr>\n      <th>16</th>\n      <td>Matt Redman</td>\n      <td>Here Is Love</td>\n      <td>1072</td>\n    </tr>\n    <tr>\n      <th>17</th>\n      <td>Third World</td>\n      <td>Try Jah Love</td>\n      <td>1027</td>\n    </tr>\n    <tr>\n      <th>18</th>\n      <td>Bauhaus</td>\n      <td>The Passion Of Lovers</td>\n      <td>983</td>\n    </tr>\n    <tr>\n      <th>19</th>\n      <td>DAVE MATTHEWS BAND</td>\n      <td>Christmas Song</td>\n      <td>889</td>\n    </tr>\n    <tr>\n      <th>20</th>\n      <td>Jerrod Niemann</td>\n      <td>Lover_ Lover</td>\n      <td>793</td>\n    </tr>\n    <tr>\n      <th>21</th>\n      <td>Squeeze</td>\n      <td>If It's Love</td>\n      <td>734</td>\n    </tr>\n    <tr>\n      <th>22</th>\n      <td>Portugal. The Man</td>\n      <td>Lovers in Love</td>\n      <td>727</td>\n    </tr>\n    <tr>\n      <th>23</th>\n      <td>Keith Sweat</td>\n      <td>When I Give My Love (LP Version)</td>\n      <td>724</td>\n    </tr>\n    <tr>\n      <th>24</th>\n      <td>Portugal The Man</td>\n      <td>Elephants</td>\n      <td>715</td>\n    </tr>\n    <tr>\n      <th>25</th>\n      <td>Rhett Miller</td>\n      <td>Our Love (LP Version)</td>\n      <td>689</td>\n    </tr>\n    <tr>\n      <th>26</th>\n      <td>Karyn White</td>\n      <td>The Way You Love Me (LP Version)</td>\n      <td>636</td>\n    </tr>\n    <tr>\n      <th>27</th>\n      <td>N.E.R.D.</td>\n      <td>Backseat Love</td>\n      <td>621</td>\n    </tr>\n    <tr>\n      <th>28</th>\n      <td>Sam Cooke</td>\n      <td>(I Love You) For Sentimental Reasons</td>\n      <td>605</td>\n    </tr>\n    <tr>\n      <th>29</th>\n      <td>Slick Rick</td>\n      <td>Teenage Love</td>\n      <td>563</td>\n    </tr>\n    <tr>\n      <th>30</th>\n      <td>The Blood Brothers</td>\n      <td>Love Rhymes With Hideous Car Wreck</td>\n      <td>522</td>\n    </tr>\n    <tr>\n      <th>31</th>\n      <td>The Mamas &amp; The Papas</td>\n      <td>For The Love Of Ivy</td>\n      <td>519</td>\n    </tr>\n    <tr>\n      <th>32</th>\n      <td>Ziggy Marley</td>\n      <td>I Love You Too (feat Rita Marley and  Cedella ...</td>\n      <td>490</td>\n    </tr>\n    <tr>\n      <th>33</th>\n      <td>Kate Bush</td>\n      <td>Bertie</td>\n      <td>459</td>\n    </tr>\n    <tr>\n      <th>34</th>\n      <td>Twista &amp; The Speedknot Mobstaz</td>\n      <td>Dreams (LP Version)</td>\n      <td>425</td>\n    </tr>\n    <tr>\n      <th>35</th>\n      <td>Enigma</td>\n      <td>Je T'aime Till My Dying Day</td>\n      <td>408</td>\n    </tr>\n    <tr>\n      <th>36</th>\n      <td>Shaggy</td>\n      <td>All About Love</td>\n      <td>374</td>\n    </tr>\n    <tr>\n      <th>37</th>\n      <td>All-4-One</td>\n      <td>So Much In Love</td>\n      <td>373</td>\n    </tr>\n    <tr>\n      <th>38</th>\n      <td>The Flirts</td>\n      <td>Passion</td>\n      <td>373</td>\n    </tr>\n    <tr>\n      <th>39</th>\n      <td>Boyz II Men</td>\n      <td>Lovely</td>\n      <td>365</td>\n    </tr>\n    <tr>\n      <th>40</th>\n      <td>Dave Hollister</td>\n      <td>Love Hate Relationship</td>\n      <td>345</td>\n    </tr>\n    <tr>\n      <th>41</th>\n      <td>José González</td>\n      <td>Killing For Love</td>\n      <td>337</td>\n    </tr>\n    <tr>\n      <th>42</th>\n      <td>Armin van Buuren</td>\n      <td>In and Out of Love</td>\n      <td>299</td>\n    </tr>\n    <tr>\n      <th>43</th>\n      <td>All Saints</td>\n      <td>Love Is Love</td>\n      <td>290</td>\n    </tr>\n    <tr>\n      <th>44</th>\n      <td>Cibelle</td>\n      <td>Hate</td>\n      <td>266</td>\n    </tr>\n    <tr>\n      <th>45</th>\n      <td>Sophie Ellis-Bextor</td>\n      <td>Love It Is Love</td>\n      <td>247</td>\n    </tr>\n    <tr>\n      <th>46</th>\n      <td>Jason Mraz</td>\n      <td>Song For A Friend (Album Version)</td>\n      <td>239</td>\n    </tr>\n    <tr>\n      <th>47</th>\n      <td>Angie Stone</td>\n      <td>I Wanna Thank Ya</td>\n      <td>237</td>\n    </tr>\n    <tr>\n      <th>48</th>\n      <td>Sparks</td>\n      <td>Eaten By the Monster of Love</td>\n      <td>237</td>\n    </tr>\n    <tr>\n      <th>49</th>\n      <td>Rooney</td>\n      <td>Love Me Or Leave Me</td>\n      <td>217</td>\n    </tr>\n  </tbody>\n</table>\n</div>"
     },
     "execution_count": 54,
     "metadata": {},
     "output_type": "execute_result"
    }
   ],
   "source": [
    "collections_baseline_('love', 40, 'y')"
   ],
   "metadata": {
    "collapsed": false
   }
  },
  {
   "cell_type": "code",
   "execution_count": 55,
   "outputs": [
    {
     "data": {
      "text/plain": "                          artist  \\\n0                  Guns N' Roses   \n1                     Kanye West   \n2                 Cobra Starship   \n3                  Operation Ivy   \n4                        Iration   \n5                       Coldplay   \n6                    Buju Banton   \n7                Yeah Yeah Yeahs   \n8                The 2 Live Crew   \n9       Rage Against The Machine   \n10              A Perfect Circle   \n11         The New Pornographers   \n12                     The Kills   \n13                  Billy Talent   \n14                     Cat Power   \n15                    Black Tide   \n16                         Stars   \n17                     Sean Paul   \n18                  Bad Religion   \n19                          Kiss   \n20                 Black Sabbath   \n21               The Greenhornes   \n22                  Freedom Call   \n23            Weird Al\" Yankovic   \n24                      Samajona   \n25             Story Of The Year   \n26                   Iron Maiden   \n27                        Burzum   \n28               Wir Sind Helden   \n29                      Godsmack   \n30                    Funkadelic   \n31                         Texta   \n32                Ben Folds Five   \n33                  Sanctus Real   \n34        Austrian Death Machine   \n35                  Big Punisher   \n36                  Hot Hot Heat   \n37                          Sido   \n38  Creedence Clearwater Revival   \n39                 The Yardbirds   \n40               Smokey Robinson   \n41                        Sizzla   \n42                          Wizo   \n43               Eric B. & Rakim   \n44                          Sade   \n45                   Lloyd Banks   \n46                Set Your Goals   \n47                Lady Sovereign   \n48                Fischerspooner   \n49                Jonas Brothers   \n\n                                                title  play_count  \n0                                           Civil War       22893  \n1                                           The Glory        3934  \n2                  The City Is At War (Album Version)        3480  \n3                                        Take Warning        3041  \n4                                           Love/Hate        2370  \n5                                       Twisted Logic        2364  \n6                                       African Pride        2326  \n7                                             Warrior        1854  \n8                                         Me So Horny        1818  \n9                                  Township Rebellion        1644  \n10                                   Let's Have A War        1616  \n11                                        Star Bodies        1604  \n12                                    Fuck The People        1499  \n13               Covered In Cowardice (Album Version)        1414  \n14                                             He War        1369  \n15                                   Warriors Of Time        1306  \n16                       In Our Bedroom After The War        1172  \n17                                   Mek It Go So Den        1025  \n18                      World War III (Album Version)         966  \n19                                        War Machine         927  \n20                          Keep It Warm (LP Version)         913  \n21                                            Hold Me         890  \n22                                           Warriors         798  \n23                                        Virus Alert         786  \n24                                            Warum?!         762  \n25                             Welcome To Our New War         664  \n26                                      The Aftermath         578  \n27                                                War         564  \n28                                  Von Hier An Blind         512  \n29                                      War And Peace         501  \n30                    Electric Spanking Of War Babies         495  \n31                                        Fragestunde         473  \n32                                    Missing The War         470  \n33                                             Legacy         435  \n34  I Am A Cybernetic Organism_ Living Tissue Over...         405  \n35                                             Beware         392  \n36                           Give Up? (Album Version)         376  \n37                                   Ein Teil von Mir         357  \n38                               Need Someone To Hold         345  \n39                           Over Under Sideways Down         341  \n40                                    Baby Come Close         341  \n41                                 I'm With The Girls         332  \n42                                         Kopfschuss         311  \n43                                  Casualties Of War         308  \n44                                  War Of The Hearts         299  \n45                                            Warrior         298  \n46         flawed methods of persecution & punishment         273  \n47                                     Public Warning         266  \n48                                      We Need A War         253  \n49                                      World War III         246  ",
      "text/html": "<div>\n<style scoped>\n    .dataframe tbody tr th:only-of-type {\n        vertical-align: middle;\n    }\n\n    .dataframe tbody tr th {\n        vertical-align: top;\n    }\n\n    .dataframe thead th {\n        text-align: right;\n    }\n</style>\n<table border=\"1\" class=\"dataframe\">\n  <thead>\n    <tr style=\"text-align: right;\">\n      <th></th>\n      <th>artist</th>\n      <th>title</th>\n      <th>play_count</th>\n    </tr>\n  </thead>\n  <tbody>\n    <tr>\n      <th>0</th>\n      <td>Guns N' Roses</td>\n      <td>Civil War</td>\n      <td>22893</td>\n    </tr>\n    <tr>\n      <th>1</th>\n      <td>Kanye West</td>\n      <td>The Glory</td>\n      <td>3934</td>\n    </tr>\n    <tr>\n      <th>2</th>\n      <td>Cobra Starship</td>\n      <td>The City Is At War (Album Version)</td>\n      <td>3480</td>\n    </tr>\n    <tr>\n      <th>3</th>\n      <td>Operation Ivy</td>\n      <td>Take Warning</td>\n      <td>3041</td>\n    </tr>\n    <tr>\n      <th>4</th>\n      <td>Iration</td>\n      <td>Love/Hate</td>\n      <td>2370</td>\n    </tr>\n    <tr>\n      <th>5</th>\n      <td>Coldplay</td>\n      <td>Twisted Logic</td>\n      <td>2364</td>\n    </tr>\n    <tr>\n      <th>6</th>\n      <td>Buju Banton</td>\n      <td>African Pride</td>\n      <td>2326</td>\n    </tr>\n    <tr>\n      <th>7</th>\n      <td>Yeah Yeah Yeahs</td>\n      <td>Warrior</td>\n      <td>1854</td>\n    </tr>\n    <tr>\n      <th>8</th>\n      <td>The 2 Live Crew</td>\n      <td>Me So Horny</td>\n      <td>1818</td>\n    </tr>\n    <tr>\n      <th>9</th>\n      <td>Rage Against The Machine</td>\n      <td>Township Rebellion</td>\n      <td>1644</td>\n    </tr>\n    <tr>\n      <th>10</th>\n      <td>A Perfect Circle</td>\n      <td>Let's Have A War</td>\n      <td>1616</td>\n    </tr>\n    <tr>\n      <th>11</th>\n      <td>The New Pornographers</td>\n      <td>Star Bodies</td>\n      <td>1604</td>\n    </tr>\n    <tr>\n      <th>12</th>\n      <td>The Kills</td>\n      <td>Fuck The People</td>\n      <td>1499</td>\n    </tr>\n    <tr>\n      <th>13</th>\n      <td>Billy Talent</td>\n      <td>Covered In Cowardice (Album Version)</td>\n      <td>1414</td>\n    </tr>\n    <tr>\n      <th>14</th>\n      <td>Cat Power</td>\n      <td>He War</td>\n      <td>1369</td>\n    </tr>\n    <tr>\n      <th>15</th>\n      <td>Black Tide</td>\n      <td>Warriors Of Time</td>\n      <td>1306</td>\n    </tr>\n    <tr>\n      <th>16</th>\n      <td>Stars</td>\n      <td>In Our Bedroom After The War</td>\n      <td>1172</td>\n    </tr>\n    <tr>\n      <th>17</th>\n      <td>Sean Paul</td>\n      <td>Mek It Go So Den</td>\n      <td>1025</td>\n    </tr>\n    <tr>\n      <th>18</th>\n      <td>Bad Religion</td>\n      <td>World War III (Album Version)</td>\n      <td>966</td>\n    </tr>\n    <tr>\n      <th>19</th>\n      <td>Kiss</td>\n      <td>War Machine</td>\n      <td>927</td>\n    </tr>\n    <tr>\n      <th>20</th>\n      <td>Black Sabbath</td>\n      <td>Keep It Warm (LP Version)</td>\n      <td>913</td>\n    </tr>\n    <tr>\n      <th>21</th>\n      <td>The Greenhornes</td>\n      <td>Hold Me</td>\n      <td>890</td>\n    </tr>\n    <tr>\n      <th>22</th>\n      <td>Freedom Call</td>\n      <td>Warriors</td>\n      <td>798</td>\n    </tr>\n    <tr>\n      <th>23</th>\n      <td>Weird Al\" Yankovic</td>\n      <td>Virus Alert</td>\n      <td>786</td>\n    </tr>\n    <tr>\n      <th>24</th>\n      <td>Samajona</td>\n      <td>Warum?!</td>\n      <td>762</td>\n    </tr>\n    <tr>\n      <th>25</th>\n      <td>Story Of The Year</td>\n      <td>Welcome To Our New War</td>\n      <td>664</td>\n    </tr>\n    <tr>\n      <th>26</th>\n      <td>Iron Maiden</td>\n      <td>The Aftermath</td>\n      <td>578</td>\n    </tr>\n    <tr>\n      <th>27</th>\n      <td>Burzum</td>\n      <td>War</td>\n      <td>564</td>\n    </tr>\n    <tr>\n      <th>28</th>\n      <td>Wir Sind Helden</td>\n      <td>Von Hier An Blind</td>\n      <td>512</td>\n    </tr>\n    <tr>\n      <th>29</th>\n      <td>Godsmack</td>\n      <td>War And Peace</td>\n      <td>501</td>\n    </tr>\n    <tr>\n      <th>30</th>\n      <td>Funkadelic</td>\n      <td>Electric Spanking Of War Babies</td>\n      <td>495</td>\n    </tr>\n    <tr>\n      <th>31</th>\n      <td>Texta</td>\n      <td>Fragestunde</td>\n      <td>473</td>\n    </tr>\n    <tr>\n      <th>32</th>\n      <td>Ben Folds Five</td>\n      <td>Missing The War</td>\n      <td>470</td>\n    </tr>\n    <tr>\n      <th>33</th>\n      <td>Sanctus Real</td>\n      <td>Legacy</td>\n      <td>435</td>\n    </tr>\n    <tr>\n      <th>34</th>\n      <td>Austrian Death Machine</td>\n      <td>I Am A Cybernetic Organism_ Living Tissue Over...</td>\n      <td>405</td>\n    </tr>\n    <tr>\n      <th>35</th>\n      <td>Big Punisher</td>\n      <td>Beware</td>\n      <td>392</td>\n    </tr>\n    <tr>\n      <th>36</th>\n      <td>Hot Hot Heat</td>\n      <td>Give Up? (Album Version)</td>\n      <td>376</td>\n    </tr>\n    <tr>\n      <th>37</th>\n      <td>Sido</td>\n      <td>Ein Teil von Mir</td>\n      <td>357</td>\n    </tr>\n    <tr>\n      <th>38</th>\n      <td>Creedence Clearwater Revival</td>\n      <td>Need Someone To Hold</td>\n      <td>345</td>\n    </tr>\n    <tr>\n      <th>39</th>\n      <td>The Yardbirds</td>\n      <td>Over Under Sideways Down</td>\n      <td>341</td>\n    </tr>\n    <tr>\n      <th>40</th>\n      <td>Smokey Robinson</td>\n      <td>Baby Come Close</td>\n      <td>341</td>\n    </tr>\n    <tr>\n      <th>41</th>\n      <td>Sizzla</td>\n      <td>I'm With The Girls</td>\n      <td>332</td>\n    </tr>\n    <tr>\n      <th>42</th>\n      <td>Wizo</td>\n      <td>Kopfschuss</td>\n      <td>311</td>\n    </tr>\n    <tr>\n      <th>43</th>\n      <td>Eric B. &amp; Rakim</td>\n      <td>Casualties Of War</td>\n      <td>308</td>\n    </tr>\n    <tr>\n      <th>44</th>\n      <td>Sade</td>\n      <td>War Of The Hearts</td>\n      <td>299</td>\n    </tr>\n    <tr>\n      <th>45</th>\n      <td>Lloyd Banks</td>\n      <td>Warrior</td>\n      <td>298</td>\n    </tr>\n    <tr>\n      <th>46</th>\n      <td>Set Your Goals</td>\n      <td>flawed methods of persecution &amp; punishment</td>\n      <td>273</td>\n    </tr>\n    <tr>\n      <th>47</th>\n      <td>Lady Sovereign</td>\n      <td>Public Warning</td>\n      <td>266</td>\n    </tr>\n    <tr>\n      <th>48</th>\n      <td>Fischerspooner</td>\n      <td>We Need A War</td>\n      <td>253</td>\n    </tr>\n    <tr>\n      <th>49</th>\n      <td>Jonas Brothers</td>\n      <td>World War III</td>\n      <td>246</td>\n    </tr>\n  </tbody>\n</table>\n</div>"
     },
     "execution_count": 55,
     "metadata": {},
     "output_type": "execute_result"
    }
   ],
   "source": [
    "collections_baseline_('war', 10, 'y')"
   ],
   "metadata": {
    "collapsed": false
   }
  },
  {
   "cell_type": "code",
   "execution_count": 56,
   "outputs": [
    {
     "data": {
      "text/plain": "                               artist  \\\n0                Two Door Cinema Club   \n1                       Avril Lavigne   \n2                         Snow Patrol   \n3       Outkast Featuring Killer Mike   \n4                        Terrorvision   \n5                         Snow Patrol   \n6                             Nirvana   \n7                            Gorillaz   \n8                            Gorillaz   \n9                                Muse   \n10                          The Verve   \n11                            Nirvana   \n12  Alex Gaudino Feat. Crystal Waters   \n13                            OutKast   \n14                        Andrew Gold   \n15             Florence + The Machine   \n16                         Jill Scott   \n17                  Infected Mushroom   \n18                       Powderfinger   \n19                           Yeasayer   \n20                      Skunk Anansie   \n21                       Hate Eternal   \n22                          Just Jack   \n23                              Kelis   \n24                      Kylie Minogue   \n25                            Journey   \n26                 The Blues Brothers   \n27                 Neutral Milk Hotel   \n28                  A Day To Remember   \n29                       All Time Low   \n30                               Hole   \n31                           Boney M.   \n32                                AFI   \n33                           Hot Chip   \n34         The Red Jumpsuit Apparatus   \n35                               Moby   \n36                   Jonathan Coulton   \n37                              Jay-Z   \n38                          Blink-182   \n39                  Belle & Sebastian   \n40  Prince & The New Power Generation   \n41                        Leona Lewis   \n42                         Papa Roach   \n43    Tom Petty And The Heartbreakers   \n44                       Rise Against   \n45                        Katie Melua   \n46                            Jeremih   \n47                        Spice Girls   \n48                           Ginuwine   \n49                         Jimmy Soul   \n\n                                                title  play_count  \n0                                       What You Know       49030  \n1                                     My Happy Ending       27203  \n2                                          Hands Open       19813  \n3                                     The Whole World       16240  \n4                                       Glad All Over       13905  \n5                                  You Could Be Happy       13616  \n6                                                Dumb       13167  \n7                           Clint Eastwood (Explicit)       12697  \n8   Clint Eastwood (Ed Case/Sweetie Irie Refix) (E...       12104  \n9                                               Bliss       11209  \n10                                          Lucky Man       10150  \n11                     Where Did You Sleep Last Night       10088  \n12                               Destination Calabria        9259  \n13                                              Roses        7967  \n14                       Thank You for Being a Friend        7935  \n15                                      Hospital Beds        7774  \n16                                           One Time        7357  \n17                                   Deeply Disturbed        7212  \n18                                       My Happiness        7202  \n19                                               2080        6806  \n20              Hedonism - Just Because You Feel Good        6605  \n21                                Spiritual Holocaust        6406  \n22                                     Writer's Block        5723  \n23                                           Acapella        5524  \n24                                              Drunk        5493  \n25                              When You Love A Woman        5268  \n26                   Everybody Needs Somebody To Love        5256  \n27                                      Three Peaches        5204  \n28                                 NJ Legion Iced Tea        5123  \n29                                             Stella        4921  \n30                                     Celebrity Skin        4912  \n31                                         Happy Song        4599  \n32                                    Girl's Not Grey        4577  \n33                               Thieves In The Night        4476  \n34                                      Cat And Mouse        4433  \n35                                               Yeah        4414  \n36                                   Tom Cruise Crazy        4233  \n37                                  Moment Of Clarity        4207  \n38                          Every Time I Look For You        4179  \n39                                    If She Wants Me        3974  \n40                         Diamonds And Pearls [Edit]        3869  \n41                                              Happy        3839  \n42                 I Almost Told You That I Loved You        3784  \n43                                Angel Dream (No. 2)        3772  \n44                              The Approaching Curve        3612  \n45                                    Thank You Stars        3528  \n46                                Break Up To Make Up        3514  \n47                                               Stop        3484  \n48                                        Differences        3468  \n49                              If You Wanna Be Happy        3403  ",
      "text/html": "<div>\n<style scoped>\n    .dataframe tbody tr th:only-of-type {\n        vertical-align: middle;\n    }\n\n    .dataframe tbody tr th {\n        vertical-align: top;\n    }\n\n    .dataframe thead th {\n        text-align: right;\n    }\n</style>\n<table border=\"1\" class=\"dataframe\">\n  <thead>\n    <tr style=\"text-align: right;\">\n      <th></th>\n      <th>artist</th>\n      <th>title</th>\n      <th>play_count</th>\n    </tr>\n  </thead>\n  <tbody>\n    <tr>\n      <th>0</th>\n      <td>Two Door Cinema Club</td>\n      <td>What You Know</td>\n      <td>49030</td>\n    </tr>\n    <tr>\n      <th>1</th>\n      <td>Avril Lavigne</td>\n      <td>My Happy Ending</td>\n      <td>27203</td>\n    </tr>\n    <tr>\n      <th>2</th>\n      <td>Snow Patrol</td>\n      <td>Hands Open</td>\n      <td>19813</td>\n    </tr>\n    <tr>\n      <th>3</th>\n      <td>Outkast Featuring Killer Mike</td>\n      <td>The Whole World</td>\n      <td>16240</td>\n    </tr>\n    <tr>\n      <th>4</th>\n      <td>Terrorvision</td>\n      <td>Glad All Over</td>\n      <td>13905</td>\n    </tr>\n    <tr>\n      <th>5</th>\n      <td>Snow Patrol</td>\n      <td>You Could Be Happy</td>\n      <td>13616</td>\n    </tr>\n    <tr>\n      <th>6</th>\n      <td>Nirvana</td>\n      <td>Dumb</td>\n      <td>13167</td>\n    </tr>\n    <tr>\n      <th>7</th>\n      <td>Gorillaz</td>\n      <td>Clint Eastwood (Explicit)</td>\n      <td>12697</td>\n    </tr>\n    <tr>\n      <th>8</th>\n      <td>Gorillaz</td>\n      <td>Clint Eastwood (Ed Case/Sweetie Irie Refix) (E...</td>\n      <td>12104</td>\n    </tr>\n    <tr>\n      <th>9</th>\n      <td>Muse</td>\n      <td>Bliss</td>\n      <td>11209</td>\n    </tr>\n    <tr>\n      <th>10</th>\n      <td>The Verve</td>\n      <td>Lucky Man</td>\n      <td>10150</td>\n    </tr>\n    <tr>\n      <th>11</th>\n      <td>Nirvana</td>\n      <td>Where Did You Sleep Last Night</td>\n      <td>10088</td>\n    </tr>\n    <tr>\n      <th>12</th>\n      <td>Alex Gaudino Feat. Crystal Waters</td>\n      <td>Destination Calabria</td>\n      <td>9259</td>\n    </tr>\n    <tr>\n      <th>13</th>\n      <td>OutKast</td>\n      <td>Roses</td>\n      <td>7967</td>\n    </tr>\n    <tr>\n      <th>14</th>\n      <td>Andrew Gold</td>\n      <td>Thank You for Being a Friend</td>\n      <td>7935</td>\n    </tr>\n    <tr>\n      <th>15</th>\n      <td>Florence + The Machine</td>\n      <td>Hospital Beds</td>\n      <td>7774</td>\n    </tr>\n    <tr>\n      <th>16</th>\n      <td>Jill Scott</td>\n      <td>One Time</td>\n      <td>7357</td>\n    </tr>\n    <tr>\n      <th>17</th>\n      <td>Infected Mushroom</td>\n      <td>Deeply Disturbed</td>\n      <td>7212</td>\n    </tr>\n    <tr>\n      <th>18</th>\n      <td>Powderfinger</td>\n      <td>My Happiness</td>\n      <td>7202</td>\n    </tr>\n    <tr>\n      <th>19</th>\n      <td>Yeasayer</td>\n      <td>2080</td>\n      <td>6806</td>\n    </tr>\n    <tr>\n      <th>20</th>\n      <td>Skunk Anansie</td>\n      <td>Hedonism - Just Because You Feel Good</td>\n      <td>6605</td>\n    </tr>\n    <tr>\n      <th>21</th>\n      <td>Hate Eternal</td>\n      <td>Spiritual Holocaust</td>\n      <td>6406</td>\n    </tr>\n    <tr>\n      <th>22</th>\n      <td>Just Jack</td>\n      <td>Writer's Block</td>\n      <td>5723</td>\n    </tr>\n    <tr>\n      <th>23</th>\n      <td>Kelis</td>\n      <td>Acapella</td>\n      <td>5524</td>\n    </tr>\n    <tr>\n      <th>24</th>\n      <td>Kylie Minogue</td>\n      <td>Drunk</td>\n      <td>5493</td>\n    </tr>\n    <tr>\n      <th>25</th>\n      <td>Journey</td>\n      <td>When You Love A Woman</td>\n      <td>5268</td>\n    </tr>\n    <tr>\n      <th>26</th>\n      <td>The Blues Brothers</td>\n      <td>Everybody Needs Somebody To Love</td>\n      <td>5256</td>\n    </tr>\n    <tr>\n      <th>27</th>\n      <td>Neutral Milk Hotel</td>\n      <td>Three Peaches</td>\n      <td>5204</td>\n    </tr>\n    <tr>\n      <th>28</th>\n      <td>A Day To Remember</td>\n      <td>NJ Legion Iced Tea</td>\n      <td>5123</td>\n    </tr>\n    <tr>\n      <th>29</th>\n      <td>All Time Low</td>\n      <td>Stella</td>\n      <td>4921</td>\n    </tr>\n    <tr>\n      <th>30</th>\n      <td>Hole</td>\n      <td>Celebrity Skin</td>\n      <td>4912</td>\n    </tr>\n    <tr>\n      <th>31</th>\n      <td>Boney M.</td>\n      <td>Happy Song</td>\n      <td>4599</td>\n    </tr>\n    <tr>\n      <th>32</th>\n      <td>AFI</td>\n      <td>Girl's Not Grey</td>\n      <td>4577</td>\n    </tr>\n    <tr>\n      <th>33</th>\n      <td>Hot Chip</td>\n      <td>Thieves In The Night</td>\n      <td>4476</td>\n    </tr>\n    <tr>\n      <th>34</th>\n      <td>The Red Jumpsuit Apparatus</td>\n      <td>Cat And Mouse</td>\n      <td>4433</td>\n    </tr>\n    <tr>\n      <th>35</th>\n      <td>Moby</td>\n      <td>Yeah</td>\n      <td>4414</td>\n    </tr>\n    <tr>\n      <th>36</th>\n      <td>Jonathan Coulton</td>\n      <td>Tom Cruise Crazy</td>\n      <td>4233</td>\n    </tr>\n    <tr>\n      <th>37</th>\n      <td>Jay-Z</td>\n      <td>Moment Of Clarity</td>\n      <td>4207</td>\n    </tr>\n    <tr>\n      <th>38</th>\n      <td>Blink-182</td>\n      <td>Every Time I Look For You</td>\n      <td>4179</td>\n    </tr>\n    <tr>\n      <th>39</th>\n      <td>Belle &amp; Sebastian</td>\n      <td>If She Wants Me</td>\n      <td>3974</td>\n    </tr>\n    <tr>\n      <th>40</th>\n      <td>Prince &amp; The New Power Generation</td>\n      <td>Diamonds And Pearls [Edit]</td>\n      <td>3869</td>\n    </tr>\n    <tr>\n      <th>41</th>\n      <td>Leona Lewis</td>\n      <td>Happy</td>\n      <td>3839</td>\n    </tr>\n    <tr>\n      <th>42</th>\n      <td>Papa Roach</td>\n      <td>I Almost Told You That I Loved You</td>\n      <td>3784</td>\n    </tr>\n    <tr>\n      <th>43</th>\n      <td>Tom Petty And The Heartbreakers</td>\n      <td>Angel Dream (No. 2)</td>\n      <td>3772</td>\n    </tr>\n    <tr>\n      <th>44</th>\n      <td>Rise Against</td>\n      <td>The Approaching Curve</td>\n      <td>3612</td>\n    </tr>\n    <tr>\n      <th>45</th>\n      <td>Katie Melua</td>\n      <td>Thank You Stars</td>\n      <td>3528</td>\n    </tr>\n    <tr>\n      <th>46</th>\n      <td>Jeremih</td>\n      <td>Break Up To Make Up</td>\n      <td>3514</td>\n    </tr>\n    <tr>\n      <th>47</th>\n      <td>Spice Girls</td>\n      <td>Stop</td>\n      <td>3484</td>\n    </tr>\n    <tr>\n      <th>48</th>\n      <td>Ginuwine</td>\n      <td>Differences</td>\n      <td>3468</td>\n    </tr>\n    <tr>\n      <th>49</th>\n      <td>Jimmy Soul</td>\n      <td>If You Wanna Be Happy</td>\n      <td>3403</td>\n    </tr>\n  </tbody>\n</table>\n</div>"
     },
     "execution_count": 56,
     "metadata": {},
     "output_type": "execute_result"
    }
   ],
   "source": [
    "collections_baseline_('happiness', 5, 'y')"
   ],
   "metadata": {
    "collapsed": false
   }
  },
  {
   "cell_type": "markdown",
   "source": [
    "CLASSIFICATION"
   ],
   "metadata": {
    "collapsed": false
   }
  },
  {
   "cell_type": "markdown",
   "source": [
    "\t\t1. по заданному ключевому слову (love, war, happiness) на выходе датафрейм (50 строк) со след. полями:\n",
    "\t\t\t\t1. номер индекса\n",
    "\t\t\t\t2. имя исполнителя\n",
    "\t\t\t\t3. название трека\n",
    "\t\t\t\t4. количество воспроизведений\n",
    "\t\t2. Таблица должна быть отсортирована по количеству воспроизведений по убыванию.\n",
    "\t\t3. Нужно использовать следующие рекомендации:\n",
    "\n",
    "\t\t\t3. classification\n",
    "\t\t\t\t1. разметить часть данных\n",
    "\t\t\t\t2. для тестовой части на основе алгоритмов классификации, предсказать,  принадлежит ли трек к определенному классу."
   ],
   "metadata": {
    "collapsed": false
   }
  },
  {
   "cell_type": "code",
   "execution_count": 57,
   "outputs": [],
   "source": [
    "# class_dict = {'love_syn': 0, 'war_syn': 1, 'happiness_syn': 2, 'loneliness_syn': 3, 'money_syn': 4}"
   ],
   "metadata": {
    "collapsed": false
   }
  },
  {
   "cell_type": "markdown",
   "source": [
    "Разметку будем делать на основании значений столбцов 'love_syn', 'war_syn', 'happiness_syn', 'loneliness_syn', 'money_syn'"
   ],
   "metadata": {
    "collapsed": false
   }
  },
  {
   "cell_type": "code",
   "execution_count": 58,
   "outputs": [],
   "source": [
    "# df_collections_syn = pd.read_pickle('data/df_collections_syn.pkl')\n",
    "#\n",
    "# df_5 = df_collections_syn[['love_syn', 'war_syn', 'happiness_syn', 'loneliness_syn', 'money_syn']]\n",
    "# df_5.columns = ['0', '1', '2', '3', '4']\n",
    "# df_5.head(20)"
   ],
   "metadata": {
    "collapsed": false
   }
  },
  {
   "cell_type": "markdown",
   "source": [
    "Посчитаем, для каждой песни какой класс дал максимальное значение"
   ],
   "metadata": {
    "collapsed": false
   }
  },
  {
   "cell_type": "code",
   "execution_count": 59,
   "outputs": [],
   "source": [
    "# class_ = df_5.idxmax(axis=1)\n",
    "# val = df_5.max(axis=1)"
   ],
   "metadata": {
    "collapsed": false
   }
  },
  {
   "cell_type": "code",
   "execution_count": 60,
   "outputs": [],
   "source": [
    "# class_df = class_.to_frame(name='class')\n",
    "# val_df = val.to_frame(name='value')\n",
    "# df_5 = pd.concat([df_5, class_df, val_df], axis=1)\n",
    "# df_5.head()"
   ],
   "metadata": {
    "collapsed": false
   }
  },
  {
   "cell_type": "markdown",
   "source": [
    "Если максимальное число ('value') меньше 2, то помечаем, что такие песни не принадлежат ни одному классу"
   ],
   "metadata": {
    "collapsed": false
   }
  },
  {
   "cell_type": "code",
   "execution_count": 61,
   "outputs": [],
   "source": [
    "# df_5.loc[df_5['value'] < 2, 'class'] = -1\n",
    "# df_5.head()"
   ],
   "metadata": {
    "collapsed": false
   }
  },
  {
   "cell_type": "markdown",
   "source": [
    "Добавляем столбец классов 'class' из df_5 в  датасет df_collections_syn"
   ],
   "metadata": {
    "collapsed": false
   }
  },
  {
   "cell_type": "code",
   "execution_count": 62,
   "outputs": [],
   "source": [
    "# df_collections_syn = pd.concat([df_collections_syn, df_5['class']], axis=1)\n",
    "# df_collections_syn.head()"
   ],
   "metadata": {
    "collapsed": false
   }
  },
  {
   "cell_type": "markdown",
   "source": [
    "Также добавляем столбец значений 'value' из df_5 в  датасет df_collections_syn"
   ],
   "metadata": {
    "collapsed": false
   }
  },
  {
   "cell_type": "code",
   "execution_count": 63,
   "outputs": [],
   "source": [
    "# df_collections_syn = pd.concat([df_collections_syn, df_5['value']], axis=1)\n",
    "# df_collections_syn.head()"
   ],
   "metadata": {
    "collapsed": false
   }
  },
  {
   "cell_type": "code",
   "execution_count": 64,
   "outputs": [],
   "source": [
    "# df_collections_syn = df_collections_syn.astype({'class': np.int8})\n",
    "# df_collections_syn.info()"
   ],
   "metadata": {
    "collapsed": false
   }
  },
  {
   "cell_type": "code",
   "execution_count": 65,
   "outputs": [],
   "source": [
    "# df_collections_syn.to_pickle('data/df_collections_syn_class_val.pkl')"
   ],
   "metadata": {
    "collapsed": false
   }
  },
  {
   "cell_type": "markdown",
   "source": [
    "Выделяем в df_has_class размеченные песни"
   ],
   "metadata": {
    "collapsed": false
   }
  },
  {
   "cell_type": "code",
   "execution_count": 66,
   "outputs": [
    {
     "name": "stdout",
     "output_type": "stream",
     "text": [
      "<class 'pandas.core.frame.DataFrame'>\n",
      "Int64Index: 44505 entries, 0 to 384527\n",
      "Data columns (total 23 columns):\n",
      " #   Column          Non-Null Count  Dtype \n",
      "---  ------          --------------  ----- \n",
      " 0   song_id         44505 non-null  object\n",
      " 1   play_count      44505 non-null  int64 \n",
      " 2   track_id        44505 non-null  object\n",
      " 3   artist          44505 non-null  object\n",
      " 4   title           44505 non-null  object\n",
      " 5   title_pure      44505 non-null  object\n",
      " 6   mxm_track_id    44076 non-null  object\n",
      " 7   text            44505 non-null  object\n",
      " 8   majority_genre  27912 non-null  object\n",
      " 9   minority_genre  8151 non-null   object\n",
      " 10  title_and_text  44505 non-null  object\n",
      " 11  love            44505 non-null  int64 \n",
      " 12  war             44505 non-null  int64 \n",
      " 13  money           44505 non-null  int64 \n",
      " 14  happiness       44505 non-null  int64 \n",
      " 15  loneliness      44505 non-null  int64 \n",
      " 16  love_syn        44505 non-null  int64 \n",
      " 17  war_syn         44505 non-null  int64 \n",
      " 18  happiness_syn   44505 non-null  int64 \n",
      " 19  loneliness_syn  44505 non-null  int64 \n",
      " 20  money_syn       44505 non-null  int64 \n",
      " 21  class           44505 non-null  int8  \n",
      " 22  value           44505 non-null  int64 \n",
      "dtypes: int64(12), int8(1), object(10)\n",
      "memory usage: 7.9+ MB\n"
     ]
    }
   ],
   "source": [
    "df_collections_syn = pd.read_pickle('data/df_collections_syn_class_val.pkl')\n",
    "df_has_class = df_collections_syn.loc[df_collections_syn['class'] >= 0]\n",
    "df_has_class.info()"
   ],
   "metadata": {
    "collapsed": false
   }
  },
  {
   "cell_type": "code",
   "execution_count": 67,
   "outputs": [],
   "source": [
    "# df_has_class.to_pickle('data/df_has_class.pkl')"
   ],
   "metadata": {
    "collapsed": false
   }
  },
  {
   "cell_type": "code",
   "execution_count": 68,
   "outputs": [],
   "source": [
    "df_has_class = pd.read_pickle('data/df_has_class.pkl')"
   ],
   "metadata": {
    "collapsed": false
   }
  },
  {
   "cell_type": "markdown",
   "source": [
    "Выберем для построения модели по 1000 песен из каждой из 5 категорий датафрейма df_model"
   ],
   "metadata": {
    "collapsed": false
   }
  },
  {
   "cell_type": "code",
   "execution_count": 69,
   "outputs": [
    {
     "name": "stdout",
     "output_type": "stream",
     "text": [
      "<class 'pandas.core.frame.DataFrame'>\n",
      "Int64Index: 5000 entries, 0 to 80705\n",
      "Data columns (total 23 columns):\n",
      " #   Column          Non-Null Count  Dtype \n",
      "---  ------          --------------  ----- \n",
      " 0   song_id         5000 non-null   object\n",
      " 1   play_count      5000 non-null   int64 \n",
      " 2   track_id        5000 non-null   object\n",
      " 3   artist          5000 non-null   object\n",
      " 4   title           5000 non-null   object\n",
      " 5   title_pure      5000 non-null   object\n",
      " 6   mxm_track_id    4969 non-null   object\n",
      " 7   text            5000 non-null   object\n",
      " 8   majority_genre  3680 non-null   object\n",
      " 9   minority_genre  905 non-null    object\n",
      " 10  title_and_text  5000 non-null   object\n",
      " 11  love            5000 non-null   int64 \n",
      " 12  war             5000 non-null   int64 \n",
      " 13  money           5000 non-null   int64 \n",
      " 14  happiness       5000 non-null   int64 \n",
      " 15  loneliness      5000 non-null   int64 \n",
      " 16  love_syn        5000 non-null   int64 \n",
      " 17  war_syn         5000 non-null   int64 \n",
      " 18  happiness_syn   5000 non-null   int64 \n",
      " 19  loneliness_syn  5000 non-null   int64 \n",
      " 20  money_syn       5000 non-null   int64 \n",
      " 21  class           5000 non-null   int8  \n",
      " 22  value           5000 non-null   int64 \n",
      "dtypes: int64(12), int8(1), object(10)\n",
      "memory usage: 903.3+ KB\n"
     ]
    }
   ],
   "source": [
    "df_love = df_has_class[df_has_class['class'] == 0][:1000]\n",
    "df_war = df_has_class[df_has_class['class'] == 1][:1000]\n",
    "df_happiness = df_has_class[df_has_class['class'] == 2][:1000]\n",
    "df_loneliness = df_has_class[df_has_class['class'] == 3][:1000]\n",
    "df_money = df_has_class[df_has_class['class'] == 4][:1000]\n",
    "df_model = pd.concat([df_love, df_war, df_happiness, df_loneliness, df_money], axis=0)\n",
    "df_model.info()"
   ],
   "metadata": {
    "collapsed": false
   }
  },
  {
   "cell_type": "markdown",
   "source": [
    "Для оценки релевантности предсказаний модели, выделим из датасета df_collections_syn 50 песен, у которых на основании предыдущего анализа частотности слов ни одна из 5 заданных категорий не оказалась выраженной. Будем рассматривать песни, у которых ‘title_and_text’ содержит более 20 слов"
   ],
   "metadata": {
    "collapsed": false
   }
  },
  {
   "cell_type": "code",
   "execution_count": 70,
   "outputs": [
    {
     "name": "stdout",
     "output_type": "stream",
     "text": [
      "<class 'pandas.core.frame.DataFrame'>\n",
      "Int64Index: 50 entries, 6 to 242\n",
      "Data columns (total 23 columns):\n",
      " #   Column          Non-Null Count  Dtype \n",
      "---  ------          --------------  ----- \n",
      " 0   song_id         50 non-null     object\n",
      " 1   play_count      50 non-null     int64 \n",
      " 2   track_id        50 non-null     object\n",
      " 3   artist          50 non-null     object\n",
      " 4   title           50 non-null     object\n",
      " 5   title_pure      50 non-null     object\n",
      " 6   mxm_track_id    50 non-null     object\n",
      " 7   text            50 non-null     object\n",
      " 8   majority_genre  29 non-null     object\n",
      " 9   minority_genre  8 non-null      object\n",
      " 10  title_and_text  50 non-null     object\n",
      " 11  love            50 non-null     int64 \n",
      " 12  war             50 non-null     int64 \n",
      " 13  money           50 non-null     int64 \n",
      " 14  happiness       50 non-null     int64 \n",
      " 15  loneliness      50 non-null     int64 \n",
      " 16  love_syn        50 non-null     int64 \n",
      " 17  war_syn         50 non-null     int64 \n",
      " 18  happiness_syn   50 non-null     int64 \n",
      " 19  loneliness_syn  50 non-null     int64 \n",
      " 20  money_syn       50 non-null     int64 \n",
      " 21  class           50 non-null     int8  \n",
      " 22  value           50 non-null     int64 \n",
      "dtypes: int64(12), int8(1), object(10)\n",
      "memory usage: 9.0+ KB\n"
     ]
    }
   ],
   "source": [
    "df_unclassed = df_collections_syn.loc[((df_collections_syn['class'] == -1) & (df_collections_syn['title_and_text'].str.count(' ') > 20))][:50]\n",
    "df_unclassed.info()"
   ],
   "metadata": {
    "collapsed": false
   }
  },
  {
   "cell_type": "code",
   "execution_count": 71,
   "outputs": [
    {
     "data": {
      "text/plain": "                song_id  play_count            track_id  \\\n6    SONYKOW12AB01849C9      292642  TROAQBZ128F9326213   \n7    SOPUCYA12A8C13A694      274627  TRFQOSP128F427C2B2   \n13   SODJWHY12A8C142CCE      209212  TRVCUSW128F92F20C6   \n15   SOTCMDJ12A6D4F8528      192884  TRZJNDO128EF343498   \n23   SORJICW12A8C13640D      130116  TRVAWVL128F93508F9   \n31   SONQCXC12A6D4F6A37      115134  TRJWVCU128F14581FF   \n32   SOCVTLJ12A6310F0FD      114362  TRENTGL128E0780C8E   \n38   SOLRGVL12A8C143BC3      110240  TRRUVLO128F92DE6F7   \n46   SOXLOQG12AF72A2D55       99137  TRWBSCZ128F932F2F9   \n48   SOSJRJP12A6D4F826F       98667  TRJRDDL128F147CBE8   \n55   SOXWYZP12AF72A42A6       94002  TRHHHKS128F92F98D5   \n56   SOHFJAQ12AB017E4AF       93981  TRRVGMP128F92FD5DE   \n57   SOADJQJ12A8C141D38       91461  TRCPXID128F92D5D3C   \n62   SOQZYQH12A8AE468E5       88075  TRTXHBC128F4259DB7   \n66   SONNSYV12A8C146BEC       85079  TRPFYYL128F92F7144   \n72   SOLWZVR12AB01849C6       81736  TRKBJPL12903CED195   \n76   SOVWADY12AB0189C63       78443  TRGCHLH12903CB7352   \n92   SOWKQYL12AB0183B15       69053  TRLCLEM128F93402D3   \n93   SOBABRB12A6701DF4B       68150  TRMNYZQ128F1459E10   \n95   SOEQJBS12A8AE475A4       67403  TRWQQVW128F422AECF   \n103  SOPVQLJ12A67AE2281       64000  TRJCWTZ128E0797FCA   \n108  SOAFTRR12AF72A8D4D       63170  TRCWHIO128F1488FB7   \n113  SOQGVCS12AF72A078D       60787  TRZJNOD128F4264131   \n118  SODWXJW12AAA8C5C29       58694  TRHRJVA128F92DCB42   \n119  SOAKMDU12A8C1346A9       58059  TRCRCBT128F4260DD1   \n134  SOWRREB12A6D4FA7CB       52834  TRMAJLS128E0780D0F   \n139  SOFCPOU12A8C13BF40       51280  TRZALGW128F4296174   \n144  SOQWYAQ12A6D4FB9A3       50155  TRHPTMT128F92F28D1   \n151  SOSJSSU12A6D4F8F41       48893  TRYOXHI128F147B730   \n153  SOYABSZ12A81C1FEAC       48393  TRHRNJY128F42530E2   \n160  SOJKQSF12A6D4F5EE9       45817  TRTWFKE128EF35F93B   \n167  SOBPKPW12A6701E8F9       44305  TREOIML128E078ED7A   \n170  SOGTDJQ12A8C13324F       43640  TRULEEC128F4243515   \n172  SOKUTUM12A6701D9CD       43280  TRKYAIX128E0785FFB   \n173  SOYMIMI12AB0181E5C       43255  TRQHDUM128F9303286   \n174  SOSVPIE12A6D4FA873       43055  TRTHGPK128F147DF90   \n178  SOHFGKG12A6701C429       42563  TRFHCVW128E078EB45   \n181  SOYGHUM12AB018139C       42348  TRBOKUK12903CAE13F   \n184  SOVQJRY12A81C210C0       42059  TRJHIKI128F42539D8   \n189  SOUKJBT12A6701C4D6       41493  TRYNYSX128E07897B3   \n191  SOMRYYN12A6310F0F3       41433  TRFWGOJ128E0780C8B   \n200  SOUVGJL12AB017FC35       40506  TRVEKLH128F92DE271   \n201  SOVRTPN12AB0184F9E       40487  TRYDIFX12903CCD2ED   \n208  SORBBFV12AB017D710       39775  TRWIKPM128F931F1D2   \n211  SOIMTII12A6D4F662A       39226  TRGWVYH12903D019BA   \n224  SODEOCO12A6701E922       37653  TRCOOYB128E078ED95   \n225  SOXKOIY12A8C13C1EA       37541  TROGOSE128F9317118   \n234  SOPTPWD12A6D4FBD4E       36423  TROFBLA128F426A1B2   \n237  SOIMCDE12A6D4F8383       35885  TRORLTF128F146DE1B   \n242  SONZWDK12A6701F62B       35408  TRAGACS128E078E74D   \n\n                      artist                                     title  \\\n6                OneRepublic                                   Secrets   \n7           Five Iron Frenzy                                    Canada   \n13                     Train                          Hey_ Soul Sister   \n15       Angels and Airwaves                                  The Gift   \n23                  Pavement                      Mercy:The Laundromat   \n31             Sheena Easton             Strut (1993 Digital Remaster)   \n32                  Coldplay                                    Clocks   \n38                   La Roux                               Bulletproof   \n46              Beastie Boys             Unite (2009 Digital Remaster)   \n48                 Metallica                         Master Of Puppets   \n55    Florence + The Machine                               Cosmic Love   \n56                  The Ruts                    West One (Shine On Me)   \n57                   Beyoncé                                      Halo   \n62           Cradle Of Filth                   Better To Reign In Hell   \n66              Modest Mouse                                  Float On   \n72               OneRepublic                       All The Right Moves   \n76               Miley Cyrus                       Party In The U.S.A.   \n92              Jason Derulo                               Whatcha Say   \n93              Shania Twain                                      Nah!   \n95            Band Of Horses               The Funeral (Album Version)   \n103              Linkin Park                In The End (Album Version)   \n108                Daft Punk             Harder Better Faster Stronger   \n113            Guns N' Roses                             Paradise City   \n118       Olivia Newton-John                       Hochmah (Interlude)   \n119       The Postal Service                        Such Great Heights   \n134                 N.E.R.D.                                 Rock Star   \n139           Postal Service                    Nothing Better (Album)   \n144                  Rihanna                                Take A Bow   \n151                 Old 97's                     Victoria (LP Version)   \n153            Reality Check  Masquerade (Reality Check Album Version)   \n160              Linkin Park            What I've Done (Album Version)   \n167       Eminem / Nate Dogg                          'Till I Collapse   \n170          Vampire Weekend                            A-Punk (Album)   \n172             Jack Johnson                           Do You Remember   \n173          Yeah Yeah Yeahs                           Heads Will Roll   \n174                 Coldplay                                    Shiver   \n178              Sheryl Crow                                   Picture   \n181  Five Finger Death Punch                               Bad Company   \n184           Lynyrd Skynyrd                        Sweet home Alabama   \n189                 Coldplay                            Speed Of Sound   \n191                 Coldplay                               In My Place   \n200             Taylor Swift                                  Our Song   \n201           The Black Keys                           Howlin\u0019 For You   \n208        A Day To Remember                  If It Means A Lot To You   \n211               Jag Panzer                      Reign Of The Tyrants   \n224                  Nirvana                           Come As You Are   \n225          Franz Ferdinand                               Take Me Out   \n234              Line Renaud                                   Le Soir   \n237                Daft Punk             Around The World (Radio Edit)   \n242             New Radicals                     You Get What You Give   \n\n                                 title_pure mxm_track_id  \\\n6                                   secrets      9076039   \n7                                    canada      2320738   \n13                          hey soul sister      9574863   \n15                                     gift      5024252   \n23                      mercythe laundromat      1070269   \n31                   strut digital remaster      5887849   \n32                                   clocks      1604099   \n38                              bulletproof      9562333   \n46                   unite digital remaster      5632363   \n48                           master puppets      5360064   \n55                              cosmic love      9559504   \n56                           west one shine      7877785   \n57                                     halo      7808335   \n62                        better reign hell      1236984   \n66                                    float      2161602   \n72                              right moves     13617897   \n76                                party usa      9436988   \n92                              whatcha say      9653634   \n93                                      nah      1147548   \n95                    funeral album version      4775709   \n103                       end album version      5050136   \n108           harder better faster stronger      7501998   \n113                           paradise city       791117   \n118                       hochmah interlude      7868475   \n119                           great heights      7426372   \n134                               rock star      4011409   \n139                    nothing better album      3190823   \n144                                take bow      7272188   \n151                     victoria lp version       841942   \n153  masquerade reality check album version       901126   \n160                 i've done album version      6716609   \n167                          'till collapse      3130816   \n170                             apunk album      7371483   \n172                                remember      4750415   \n173                              heads roll      8238808   \n174                                  shiver      1746731   \n178                                 picture      3353263   \n181                             bad company      8828455   \n184                      sweet home alabama       742910   \n189                             speed sound      3585816   \n191                                   place      4747831   \n200                                    song      8223027   \n201                                  howlin      9888483   \n208                               means lot      8048413   \n211                           reign tyrants      4084525   \n224                                    come      1586692   \n225                                    take      2001766   \n234                                 le soir      5441811   \n237                 around world radio edit      1471556   \n242                                get give      1428833   \n\n                                                  text majority_genre  \\\n6    like like time time time time come get get see...           Rock   \n7    like come go go go go go oh oh oh oh oh get go...            NaN   \n13   love know know know like like time one one one...            NaN   \n15   know know know know know know know like like l...            NaN   \n23   back eye long wait wait wait home insid line l...            NaN   \n31   like like like like like come come come come c...            NaN   \n32   know come come come go go go go go oh oh never...           Rock   \n38   love time time time time time time time time t...            Pop   \n46   know know know know like like like like like t...            NaN   \n48   come come come see see see see see see never w...          Metal   \n55   way day day day day back heart heart heart hea...           Rock   \n56   like get see see see see make way way night ni...           Punk   \n57   know know know like like like like one see see...            Pop   \n62   like like like time way would back heart heart...           Rock   \n66   come get got way way say day day life back thi...           Rock   \n72   know know know know know know know know know k...            NaN   \n76   know know know know like like like like like l...            Pop   \n92   love know know know know know know know know g...            NaN   \n93   know know time time time one got never never n...        Country   \n95   know know know know come come come come oh oh ...            NaN   \n103  know know know know know know like time time t...           Rock   \n108  never never never never never never never neve...     Electronic   \n113  know know know like time time time go go oh oh...           Rock   \n118  say day night night look keep light far star c...            NaN   \n119  like like like come come come come come come c...     Electronic   \n134  like time come come one one one one get get ge...            NaN   \n139  love know like go oh get got never feel feel l...            NaN   \n144  love know know like time time time come come g...            NaN   \n151  know know know know know know know like like l...            NaN   \n153  know know know know know know know like like l...            NaN   \n160  come come come go go go let let let let let ha...           Rock   \n167  know know know like like like like like like l...            NaN   \n170  come come come come come come oh oh oh oh oh o...            NaN   \n172  love like go oh oh oh oh one get get get get g...           Rock   \n173  oh oh oh oh oh oh oh oh oh take take look look...            NaN   \n174  know know know know know get get get see see s...           Rock   \n178  love know time time come come come come get wa...           Rock   \n181  know make ca ca day day day day day day day da...          Metal   \n184  love come come come come come oh get see got g...           Rock   \n189  know know like go go go go oh oh get get get g...           Rock   \n191  come come come come go go oh oh oh oh oh oh ye...           Rock   \n200  love know know know come oh la one got got got...            NaN   \n201  like see got got ca ca babi babi babi babi yea...            NaN   \n208  know know know know come come come come la la ...           Rock   \n211  get feel feel would life life night caus aroun...           Rock   \n224  time come come want want take take friend frie...           Rock   \n225  know know know know know know know know know k...           Rock   \n234  que de la en te te te tu tu tu se se es le le ...            NaN   \n237  world world world world world world world worl...     Electronic   \n242  love come go go go go go go one one one one ge...            Pop   \n\n    minority_genre  ... money  happiness  loneliness  love_syn  war_syn  \\\n6              NaN  ...     0          0           0         0        0   \n7              NaN  ...     0          0           0         0        0   \n13             NaN  ...     0          0           0         1        0   \n15             NaN  ...     0          0           0         0        0   \n23             NaN  ...     0          0           0         1        0   \n31             NaN  ...     0          0           0         0        1   \n32             NaN  ...     0          0           0         0        0   \n38      Electronic  ...     0          0           0         1        0   \n46             NaN  ...     1          0           0         0        0   \n48             NaN  ...     0          0           0         1        0   \n55             NaN  ...     0          0           0         1        0   \n56             NaN  ...     0          0           0         0        0   \n57             RnB  ...     0          0           0         0        0   \n62           Metal  ...     0          0           0         0        1   \n66             NaN  ...     0          0           0         0        0   \n72             NaN  ...     0          0           0         0        0   \n76             NaN  ...     0          0           0         0        0   \n92             NaN  ...     0          0           0         1        0   \n93             NaN  ...     0          0           0         1        0   \n95             NaN  ...     0          0           0         0        0   \n103            NaN  ...     0          0           0         0        0   \n108            NaN  ...     0          0           0         0        0   \n113            NaN  ...     0          0           0         0        0   \n118            NaN  ...     0          0           0         0        0   \n119           Rock  ...     0          0           0         0        0   \n134            NaN  ...     0          0           0         0        0   \n139            NaN  ...     0          0           0         1        0   \n144            NaN  ...     0          0           0         1        0   \n151            NaN  ...     0          0           0         1        0   \n153            NaN  ...     0          0           0         0        1   \n160            NaN  ...     0          0           0         1        0   \n167            NaN  ...     1          0           0         0        1   \n170            NaN  ...     0          0           0         0        0   \n172            Pop  ...     0          0           0         1        0   \n173            NaN  ...     0          0           0         0        0   \n174            NaN  ...     0          0           0         0        0   \n178        Country  ...     0          0           0         1        0   \n181            NaN  ...     0          0           0         0        0   \n184            NaN  ...     0          0           0         1        0   \n189            NaN  ...     0          0           0         0        0   \n191            NaN  ...     0          0           0         0        0   \n200            NaN  ...     0          0           0         1        0   \n201            NaN  ...     0          0           0         0        0   \n208            NaN  ...     0          1           0         0        0   \n211          Metal  ...     0          0           0         0        0   \n224            NaN  ...     0          0           0         0        0   \n225            NaN  ...     0          0           0         0        0   \n234            NaN  ...     0          0           0         0        0   \n237            NaN  ...     0          0           0         0        0   \n242           Rock  ...     0          0           0         1        0   \n\n     happiness_syn  loneliness_syn  money_syn  class  value  \n6                0               0          0     -1      0  \n7                0               0          0     -1      0  \n13               1               0          0     -1      1  \n15               1               1          0     -1      1  \n23               0               0          0     -1      1  \n31               0               0          0     -1      1  \n32               0               0          0     -1      0  \n38               0               0          0     -1      1  \n46               1               0          1     -1      1  \n48               0               0          0     -1      1  \n55               0               0          0     -1      1  \n56               0               1          0     -1      1  \n57               0               0          0     -1      0  \n62               0               1          0     -1      1  \n66               0               0          0     -1      0  \n72               0               0          0     -1      0  \n76               0               0          0     -1      0  \n92               0               0          0     -1      1  \n93               0               0          0     -1      1  \n95               0               0          0     -1      0  \n103              0               0          0     -1      0  \n108              0               0          0     -1      0  \n113              0               0          0     -1      0  \n118              0               0          0     -1      0  \n119              0               0          0     -1      0  \n134              0               0          0     -1      0  \n139              0               0          0     -1      1  \n144              0               0          0     -1      1  \n151              0               0          0     -1      1  \n153              0               1          0     -1      1  \n160              0               0          0     -1      1  \n167              1               0          1     -1      1  \n170              0               0          0     -1      0  \n172              0               0          0     -1      1  \n173              0               0          0     -1      0  \n174              0               0          0     -1      0  \n178              0               0          0     -1      1  \n181              0               0          0     -1      0  \n184              0               0          0     -1      1  \n189              0               0          0     -1      0  \n191              0               0          0     -1      0  \n200              0               1          0     -1      1  \n201              0               0          0     -1      0  \n208              1               0          0     -1      1  \n211              0               0          0     -1      0  \n224              0               0          0     -1      0  \n225              0               1          0     -1      1  \n234              0               0          0     -1      0  \n237              0               0          0     -1      0  \n242              1               1          0     -1      1  \n\n[50 rows x 23 columns]",
      "text/html": "<div>\n<style scoped>\n    .dataframe tbody tr th:only-of-type {\n        vertical-align: middle;\n    }\n\n    .dataframe tbody tr th {\n        vertical-align: top;\n    }\n\n    .dataframe thead th {\n        text-align: right;\n    }\n</style>\n<table border=\"1\" class=\"dataframe\">\n  <thead>\n    <tr style=\"text-align: right;\">\n      <th></th>\n      <th>song_id</th>\n      <th>play_count</th>\n      <th>track_id</th>\n      <th>artist</th>\n      <th>title</th>\n      <th>title_pure</th>\n      <th>mxm_track_id</th>\n      <th>text</th>\n      <th>majority_genre</th>\n      <th>minority_genre</th>\n      <th>...</th>\n      <th>money</th>\n      <th>happiness</th>\n      <th>loneliness</th>\n      <th>love_syn</th>\n      <th>war_syn</th>\n      <th>happiness_syn</th>\n      <th>loneliness_syn</th>\n      <th>money_syn</th>\n      <th>class</th>\n      <th>value</th>\n    </tr>\n  </thead>\n  <tbody>\n    <tr>\n      <th>6</th>\n      <td>SONYKOW12AB01849C9</td>\n      <td>292642</td>\n      <td>TROAQBZ128F9326213</td>\n      <td>OneRepublic</td>\n      <td>Secrets</td>\n      <td>secrets</td>\n      <td>9076039</td>\n      <td>like like time time time time come get get see...</td>\n      <td>Rock</td>\n      <td>NaN</td>\n      <td>...</td>\n      <td>0</td>\n      <td>0</td>\n      <td>0</td>\n      <td>0</td>\n      <td>0</td>\n      <td>0</td>\n      <td>0</td>\n      <td>0</td>\n      <td>-1</td>\n      <td>0</td>\n    </tr>\n    <tr>\n      <th>7</th>\n      <td>SOPUCYA12A8C13A694</td>\n      <td>274627</td>\n      <td>TRFQOSP128F427C2B2</td>\n      <td>Five Iron Frenzy</td>\n      <td>Canada</td>\n      <td>canada</td>\n      <td>2320738</td>\n      <td>like come go go go go go oh oh oh oh oh get go...</td>\n      <td>NaN</td>\n      <td>NaN</td>\n      <td>...</td>\n      <td>0</td>\n      <td>0</td>\n      <td>0</td>\n      <td>0</td>\n      <td>0</td>\n      <td>0</td>\n      <td>0</td>\n      <td>0</td>\n      <td>-1</td>\n      <td>0</td>\n    </tr>\n    <tr>\n      <th>13</th>\n      <td>SODJWHY12A8C142CCE</td>\n      <td>209212</td>\n      <td>TRVCUSW128F92F20C6</td>\n      <td>Train</td>\n      <td>Hey_ Soul Sister</td>\n      <td>hey soul sister</td>\n      <td>9574863</td>\n      <td>love know know know like like time one one one...</td>\n      <td>NaN</td>\n      <td>NaN</td>\n      <td>...</td>\n      <td>0</td>\n      <td>0</td>\n      <td>0</td>\n      <td>1</td>\n      <td>0</td>\n      <td>1</td>\n      <td>0</td>\n      <td>0</td>\n      <td>-1</td>\n      <td>1</td>\n    </tr>\n    <tr>\n      <th>15</th>\n      <td>SOTCMDJ12A6D4F8528</td>\n      <td>192884</td>\n      <td>TRZJNDO128EF343498</td>\n      <td>Angels and Airwaves</td>\n      <td>The Gift</td>\n      <td>gift</td>\n      <td>5024252</td>\n      <td>know know know know know know know like like l...</td>\n      <td>NaN</td>\n      <td>NaN</td>\n      <td>...</td>\n      <td>0</td>\n      <td>0</td>\n      <td>0</td>\n      <td>0</td>\n      <td>0</td>\n      <td>1</td>\n      <td>1</td>\n      <td>0</td>\n      <td>-1</td>\n      <td>1</td>\n    </tr>\n    <tr>\n      <th>23</th>\n      <td>SORJICW12A8C13640D</td>\n      <td>130116</td>\n      <td>TRVAWVL128F93508F9</td>\n      <td>Pavement</td>\n      <td>Mercy:The Laundromat</td>\n      <td>mercythe laundromat</td>\n      <td>1070269</td>\n      <td>back eye long wait wait wait home insid line l...</td>\n      <td>NaN</td>\n      <td>NaN</td>\n      <td>...</td>\n      <td>0</td>\n      <td>0</td>\n      <td>0</td>\n      <td>1</td>\n      <td>0</td>\n      <td>0</td>\n      <td>0</td>\n      <td>0</td>\n      <td>-1</td>\n      <td>1</td>\n    </tr>\n    <tr>\n      <th>31</th>\n      <td>SONQCXC12A6D4F6A37</td>\n      <td>115134</td>\n      <td>TRJWVCU128F14581FF</td>\n      <td>Sheena Easton</td>\n      <td>Strut (1993 Digital Remaster)</td>\n      <td>strut digital remaster</td>\n      <td>5887849</td>\n      <td>like like like like like come come come come c...</td>\n      <td>NaN</td>\n      <td>NaN</td>\n      <td>...</td>\n      <td>0</td>\n      <td>0</td>\n      <td>0</td>\n      <td>0</td>\n      <td>1</td>\n      <td>0</td>\n      <td>0</td>\n      <td>0</td>\n      <td>-1</td>\n      <td>1</td>\n    </tr>\n    <tr>\n      <th>32</th>\n      <td>SOCVTLJ12A6310F0FD</td>\n      <td>114362</td>\n      <td>TRENTGL128E0780C8E</td>\n      <td>Coldplay</td>\n      <td>Clocks</td>\n      <td>clocks</td>\n      <td>1604099</td>\n      <td>know come come come go go go go go oh oh never...</td>\n      <td>Rock</td>\n      <td>NaN</td>\n      <td>...</td>\n      <td>0</td>\n      <td>0</td>\n      <td>0</td>\n      <td>0</td>\n      <td>0</td>\n      <td>0</td>\n      <td>0</td>\n      <td>0</td>\n      <td>-1</td>\n      <td>0</td>\n    </tr>\n    <tr>\n      <th>38</th>\n      <td>SOLRGVL12A8C143BC3</td>\n      <td>110240</td>\n      <td>TRRUVLO128F92DE6F7</td>\n      <td>La Roux</td>\n      <td>Bulletproof</td>\n      <td>bulletproof</td>\n      <td>9562333</td>\n      <td>love time time time time time time time time t...</td>\n      <td>Pop</td>\n      <td>Electronic</td>\n      <td>...</td>\n      <td>0</td>\n      <td>0</td>\n      <td>0</td>\n      <td>1</td>\n      <td>0</td>\n      <td>0</td>\n      <td>0</td>\n      <td>0</td>\n      <td>-1</td>\n      <td>1</td>\n    </tr>\n    <tr>\n      <th>46</th>\n      <td>SOXLOQG12AF72A2D55</td>\n      <td>99137</td>\n      <td>TRWBSCZ128F932F2F9</td>\n      <td>Beastie Boys</td>\n      <td>Unite (2009 Digital Remaster)</td>\n      <td>unite digital remaster</td>\n      <td>5632363</td>\n      <td>know know know know like like like like like t...</td>\n      <td>NaN</td>\n      <td>NaN</td>\n      <td>...</td>\n      <td>1</td>\n      <td>0</td>\n      <td>0</td>\n      <td>0</td>\n      <td>0</td>\n      <td>1</td>\n      <td>0</td>\n      <td>1</td>\n      <td>-1</td>\n      <td>1</td>\n    </tr>\n    <tr>\n      <th>48</th>\n      <td>SOSJRJP12A6D4F826F</td>\n      <td>98667</td>\n      <td>TRJRDDL128F147CBE8</td>\n      <td>Metallica</td>\n      <td>Master Of Puppets</td>\n      <td>master puppets</td>\n      <td>5360064</td>\n      <td>come come come see see see see see see never w...</td>\n      <td>Metal</td>\n      <td>NaN</td>\n      <td>...</td>\n      <td>0</td>\n      <td>0</td>\n      <td>0</td>\n      <td>1</td>\n      <td>0</td>\n      <td>0</td>\n      <td>0</td>\n      <td>0</td>\n      <td>-1</td>\n      <td>1</td>\n    </tr>\n    <tr>\n      <th>55</th>\n      <td>SOXWYZP12AF72A42A6</td>\n      <td>94002</td>\n      <td>TRHHHKS128F92F98D5</td>\n      <td>Florence + The Machine</td>\n      <td>Cosmic Love</td>\n      <td>cosmic love</td>\n      <td>9559504</td>\n      <td>way day day day day back heart heart heart hea...</td>\n      <td>Rock</td>\n      <td>NaN</td>\n      <td>...</td>\n      <td>0</td>\n      <td>0</td>\n      <td>0</td>\n      <td>1</td>\n      <td>0</td>\n      <td>0</td>\n      <td>0</td>\n      <td>0</td>\n      <td>-1</td>\n      <td>1</td>\n    </tr>\n    <tr>\n      <th>56</th>\n      <td>SOHFJAQ12AB017E4AF</td>\n      <td>93981</td>\n      <td>TRRVGMP128F92FD5DE</td>\n      <td>The Ruts</td>\n      <td>West One (Shine On Me)</td>\n      <td>west one shine</td>\n      <td>7877785</td>\n      <td>like get see see see see make way way night ni...</td>\n      <td>Punk</td>\n      <td>NaN</td>\n      <td>...</td>\n      <td>0</td>\n      <td>0</td>\n      <td>0</td>\n      <td>0</td>\n      <td>0</td>\n      <td>0</td>\n      <td>1</td>\n      <td>0</td>\n      <td>-1</td>\n      <td>1</td>\n    </tr>\n    <tr>\n      <th>57</th>\n      <td>SOADJQJ12A8C141D38</td>\n      <td>91461</td>\n      <td>TRCPXID128F92D5D3C</td>\n      <td>Beyoncé</td>\n      <td>Halo</td>\n      <td>halo</td>\n      <td>7808335</td>\n      <td>know know know like like like like one see see...</td>\n      <td>Pop</td>\n      <td>RnB</td>\n      <td>...</td>\n      <td>0</td>\n      <td>0</td>\n      <td>0</td>\n      <td>0</td>\n      <td>0</td>\n      <td>0</td>\n      <td>0</td>\n      <td>0</td>\n      <td>-1</td>\n      <td>0</td>\n    </tr>\n    <tr>\n      <th>62</th>\n      <td>SOQZYQH12A8AE468E5</td>\n      <td>88075</td>\n      <td>TRTXHBC128F4259DB7</td>\n      <td>Cradle Of Filth</td>\n      <td>Better To Reign In Hell</td>\n      <td>better reign hell</td>\n      <td>1236984</td>\n      <td>like like like time way would back heart heart...</td>\n      <td>Rock</td>\n      <td>Metal</td>\n      <td>...</td>\n      <td>0</td>\n      <td>0</td>\n      <td>0</td>\n      <td>0</td>\n      <td>1</td>\n      <td>0</td>\n      <td>1</td>\n      <td>0</td>\n      <td>-1</td>\n      <td>1</td>\n    </tr>\n    <tr>\n      <th>66</th>\n      <td>SONNSYV12A8C146BEC</td>\n      <td>85079</td>\n      <td>TRPFYYL128F92F7144</td>\n      <td>Modest Mouse</td>\n      <td>Float On</td>\n      <td>float</td>\n      <td>2161602</td>\n      <td>come get got way way say day day life back thi...</td>\n      <td>Rock</td>\n      <td>NaN</td>\n      <td>...</td>\n      <td>0</td>\n      <td>0</td>\n      <td>0</td>\n      <td>0</td>\n      <td>0</td>\n      <td>0</td>\n      <td>0</td>\n      <td>0</td>\n      <td>-1</td>\n      <td>0</td>\n    </tr>\n    <tr>\n      <th>72</th>\n      <td>SOLWZVR12AB01849C6</td>\n      <td>81736</td>\n      <td>TRKBJPL12903CED195</td>\n      <td>OneRepublic</td>\n      <td>All The Right Moves</td>\n      <td>right moves</td>\n      <td>13617897</td>\n      <td>know know know know know know know know know k...</td>\n      <td>NaN</td>\n      <td>NaN</td>\n      <td>...</td>\n      <td>0</td>\n      <td>0</td>\n      <td>0</td>\n      <td>0</td>\n      <td>0</td>\n      <td>0</td>\n      <td>0</td>\n      <td>0</td>\n      <td>-1</td>\n      <td>0</td>\n    </tr>\n    <tr>\n      <th>76</th>\n      <td>SOVWADY12AB0189C63</td>\n      <td>78443</td>\n      <td>TRGCHLH12903CB7352</td>\n      <td>Miley Cyrus</td>\n      <td>Party In The U.S.A.</td>\n      <td>party usa</td>\n      <td>9436988</td>\n      <td>know know know know like like like like like l...</td>\n      <td>Pop</td>\n      <td>NaN</td>\n      <td>...</td>\n      <td>0</td>\n      <td>0</td>\n      <td>0</td>\n      <td>0</td>\n      <td>0</td>\n      <td>0</td>\n      <td>0</td>\n      <td>0</td>\n      <td>-1</td>\n      <td>0</td>\n    </tr>\n    <tr>\n      <th>92</th>\n      <td>SOWKQYL12AB0183B15</td>\n      <td>69053</td>\n      <td>TRLCLEM128F93402D3</td>\n      <td>Jason Derulo</td>\n      <td>Whatcha Say</td>\n      <td>whatcha say</td>\n      <td>9653634</td>\n      <td>love know know know know know know know know g...</td>\n      <td>NaN</td>\n      <td>NaN</td>\n      <td>...</td>\n      <td>0</td>\n      <td>0</td>\n      <td>0</td>\n      <td>1</td>\n      <td>0</td>\n      <td>0</td>\n      <td>0</td>\n      <td>0</td>\n      <td>-1</td>\n      <td>1</td>\n    </tr>\n    <tr>\n      <th>93</th>\n      <td>SOBABRB12A6701DF4B</td>\n      <td>68150</td>\n      <td>TRMNYZQ128F1459E10</td>\n      <td>Shania Twain</td>\n      <td>Nah!</td>\n      <td>nah</td>\n      <td>1147548</td>\n      <td>know know time time time one got never never n...</td>\n      <td>Country</td>\n      <td>NaN</td>\n      <td>...</td>\n      <td>0</td>\n      <td>0</td>\n      <td>0</td>\n      <td>1</td>\n      <td>0</td>\n      <td>0</td>\n      <td>0</td>\n      <td>0</td>\n      <td>-1</td>\n      <td>1</td>\n    </tr>\n    <tr>\n      <th>95</th>\n      <td>SOEQJBS12A8AE475A4</td>\n      <td>67403</td>\n      <td>TRWQQVW128F422AECF</td>\n      <td>Band Of Horses</td>\n      <td>The Funeral (Album Version)</td>\n      <td>funeral album version</td>\n      <td>4775709</td>\n      <td>know know know know come come come come oh oh ...</td>\n      <td>NaN</td>\n      <td>NaN</td>\n      <td>...</td>\n      <td>0</td>\n      <td>0</td>\n      <td>0</td>\n      <td>0</td>\n      <td>0</td>\n      <td>0</td>\n      <td>0</td>\n      <td>0</td>\n      <td>-1</td>\n      <td>0</td>\n    </tr>\n    <tr>\n      <th>103</th>\n      <td>SOPVQLJ12A67AE2281</td>\n      <td>64000</td>\n      <td>TRJCWTZ128E0797FCA</td>\n      <td>Linkin Park</td>\n      <td>In The End (Album Version)</td>\n      <td>end album version</td>\n      <td>5050136</td>\n      <td>know know know know know know like time time t...</td>\n      <td>Rock</td>\n      <td>NaN</td>\n      <td>...</td>\n      <td>0</td>\n      <td>0</td>\n      <td>0</td>\n      <td>0</td>\n      <td>0</td>\n      <td>0</td>\n      <td>0</td>\n      <td>0</td>\n      <td>-1</td>\n      <td>0</td>\n    </tr>\n    <tr>\n      <th>108</th>\n      <td>SOAFTRR12AF72A8D4D</td>\n      <td>63170</td>\n      <td>TRCWHIO128F1488FB7</td>\n      <td>Daft Punk</td>\n      <td>Harder Better Faster Stronger</td>\n      <td>harder better faster stronger</td>\n      <td>7501998</td>\n      <td>never never never never never never never neve...</td>\n      <td>Electronic</td>\n      <td>NaN</td>\n      <td>...</td>\n      <td>0</td>\n      <td>0</td>\n      <td>0</td>\n      <td>0</td>\n      <td>0</td>\n      <td>0</td>\n      <td>0</td>\n      <td>0</td>\n      <td>-1</td>\n      <td>0</td>\n    </tr>\n    <tr>\n      <th>113</th>\n      <td>SOQGVCS12AF72A078D</td>\n      <td>60787</td>\n      <td>TRZJNOD128F4264131</td>\n      <td>Guns N' Roses</td>\n      <td>Paradise City</td>\n      <td>paradise city</td>\n      <td>791117</td>\n      <td>know know know like time time time go go oh oh...</td>\n      <td>Rock</td>\n      <td>NaN</td>\n      <td>...</td>\n      <td>0</td>\n      <td>0</td>\n      <td>0</td>\n      <td>0</td>\n      <td>0</td>\n      <td>0</td>\n      <td>0</td>\n      <td>0</td>\n      <td>-1</td>\n      <td>0</td>\n    </tr>\n    <tr>\n      <th>118</th>\n      <td>SODWXJW12AAA8C5C29</td>\n      <td>58694</td>\n      <td>TRHRJVA128F92DCB42</td>\n      <td>Olivia Newton-John</td>\n      <td>Hochmah (Interlude)</td>\n      <td>hochmah interlude</td>\n      <td>7868475</td>\n      <td>say day night night look keep light far star c...</td>\n      <td>NaN</td>\n      <td>NaN</td>\n      <td>...</td>\n      <td>0</td>\n      <td>0</td>\n      <td>0</td>\n      <td>0</td>\n      <td>0</td>\n      <td>0</td>\n      <td>0</td>\n      <td>0</td>\n      <td>-1</td>\n      <td>0</td>\n    </tr>\n    <tr>\n      <th>119</th>\n      <td>SOAKMDU12A8C1346A9</td>\n      <td>58059</td>\n      <td>TRCRCBT128F4260DD1</td>\n      <td>The Postal Service</td>\n      <td>Such Great Heights</td>\n      <td>great heights</td>\n      <td>7426372</td>\n      <td>like like like come come come come come come c...</td>\n      <td>Electronic</td>\n      <td>Rock</td>\n      <td>...</td>\n      <td>0</td>\n      <td>0</td>\n      <td>0</td>\n      <td>0</td>\n      <td>0</td>\n      <td>0</td>\n      <td>0</td>\n      <td>0</td>\n      <td>-1</td>\n      <td>0</td>\n    </tr>\n    <tr>\n      <th>134</th>\n      <td>SOWRREB12A6D4FA7CB</td>\n      <td>52834</td>\n      <td>TRMAJLS128E0780D0F</td>\n      <td>N.E.R.D.</td>\n      <td>Rock Star</td>\n      <td>rock star</td>\n      <td>4011409</td>\n      <td>like time come come one one one one get get ge...</td>\n      <td>NaN</td>\n      <td>NaN</td>\n      <td>...</td>\n      <td>0</td>\n      <td>0</td>\n      <td>0</td>\n      <td>0</td>\n      <td>0</td>\n      <td>0</td>\n      <td>0</td>\n      <td>0</td>\n      <td>-1</td>\n      <td>0</td>\n    </tr>\n    <tr>\n      <th>139</th>\n      <td>SOFCPOU12A8C13BF40</td>\n      <td>51280</td>\n      <td>TRZALGW128F4296174</td>\n      <td>Postal Service</td>\n      <td>Nothing Better (Album)</td>\n      <td>nothing better album</td>\n      <td>3190823</td>\n      <td>love know like go oh get got never feel feel l...</td>\n      <td>NaN</td>\n      <td>NaN</td>\n      <td>...</td>\n      <td>0</td>\n      <td>0</td>\n      <td>0</td>\n      <td>1</td>\n      <td>0</td>\n      <td>0</td>\n      <td>0</td>\n      <td>0</td>\n      <td>-1</td>\n      <td>1</td>\n    </tr>\n    <tr>\n      <th>144</th>\n      <td>SOQWYAQ12A6D4FB9A3</td>\n      <td>50155</td>\n      <td>TRHPTMT128F92F28D1</td>\n      <td>Rihanna</td>\n      <td>Take A Bow</td>\n      <td>take bow</td>\n      <td>7272188</td>\n      <td>love know know like time time time come come g...</td>\n      <td>NaN</td>\n      <td>NaN</td>\n      <td>...</td>\n      <td>0</td>\n      <td>0</td>\n      <td>0</td>\n      <td>1</td>\n      <td>0</td>\n      <td>0</td>\n      <td>0</td>\n      <td>0</td>\n      <td>-1</td>\n      <td>1</td>\n    </tr>\n    <tr>\n      <th>151</th>\n      <td>SOSJSSU12A6D4F8F41</td>\n      <td>48893</td>\n      <td>TRYOXHI128F147B730</td>\n      <td>Old 97's</td>\n      <td>Victoria (LP Version)</td>\n      <td>victoria lp version</td>\n      <td>841942</td>\n      <td>know know know know know know know like like l...</td>\n      <td>NaN</td>\n      <td>NaN</td>\n      <td>...</td>\n      <td>0</td>\n      <td>0</td>\n      <td>0</td>\n      <td>1</td>\n      <td>0</td>\n      <td>0</td>\n      <td>0</td>\n      <td>0</td>\n      <td>-1</td>\n      <td>1</td>\n    </tr>\n    <tr>\n      <th>153</th>\n      <td>SOYABSZ12A81C1FEAC</td>\n      <td>48393</td>\n      <td>TRHRNJY128F42530E2</td>\n      <td>Reality Check</td>\n      <td>Masquerade (Reality Check Album Version)</td>\n      <td>masquerade reality check album version</td>\n      <td>901126</td>\n      <td>know know know know know know know like like l...</td>\n      <td>NaN</td>\n      <td>NaN</td>\n      <td>...</td>\n      <td>0</td>\n      <td>0</td>\n      <td>0</td>\n      <td>0</td>\n      <td>1</td>\n      <td>0</td>\n      <td>1</td>\n      <td>0</td>\n      <td>-1</td>\n      <td>1</td>\n    </tr>\n    <tr>\n      <th>160</th>\n      <td>SOJKQSF12A6D4F5EE9</td>\n      <td>45817</td>\n      <td>TRTWFKE128EF35F93B</td>\n      <td>Linkin Park</td>\n      <td>What I've Done (Album Version)</td>\n      <td>i've done album version</td>\n      <td>6716609</td>\n      <td>come come come go go go let let let let let ha...</td>\n      <td>Rock</td>\n      <td>NaN</td>\n      <td>...</td>\n      <td>0</td>\n      <td>0</td>\n      <td>0</td>\n      <td>1</td>\n      <td>0</td>\n      <td>0</td>\n      <td>0</td>\n      <td>0</td>\n      <td>-1</td>\n      <td>1</td>\n    </tr>\n    <tr>\n      <th>167</th>\n      <td>SOBPKPW12A6701E8F9</td>\n      <td>44305</td>\n      <td>TREOIML128E078ED7A</td>\n      <td>Eminem / Nate Dogg</td>\n      <td>'Till I Collapse</td>\n      <td>'till collapse</td>\n      <td>3130816</td>\n      <td>know know know like like like like like like l...</td>\n      <td>NaN</td>\n      <td>NaN</td>\n      <td>...</td>\n      <td>1</td>\n      <td>0</td>\n      <td>0</td>\n      <td>0</td>\n      <td>1</td>\n      <td>1</td>\n      <td>0</td>\n      <td>1</td>\n      <td>-1</td>\n      <td>1</td>\n    </tr>\n    <tr>\n      <th>170</th>\n      <td>SOGTDJQ12A8C13324F</td>\n      <td>43640</td>\n      <td>TRULEEC128F4243515</td>\n      <td>Vampire Weekend</td>\n      <td>A-Punk (Album)</td>\n      <td>apunk album</td>\n      <td>7371483</td>\n      <td>come come come come come come oh oh oh oh oh o...</td>\n      <td>NaN</td>\n      <td>NaN</td>\n      <td>...</td>\n      <td>0</td>\n      <td>0</td>\n      <td>0</td>\n      <td>0</td>\n      <td>0</td>\n      <td>0</td>\n      <td>0</td>\n      <td>0</td>\n      <td>-1</td>\n      <td>0</td>\n    </tr>\n    <tr>\n      <th>172</th>\n      <td>SOKUTUM12A6701D9CD</td>\n      <td>43280</td>\n      <td>TRKYAIX128E0785FFB</td>\n      <td>Jack Johnson</td>\n      <td>Do You Remember</td>\n      <td>remember</td>\n      <td>4750415</td>\n      <td>love like go oh oh oh oh one get get get get g...</td>\n      <td>Rock</td>\n      <td>Pop</td>\n      <td>...</td>\n      <td>0</td>\n      <td>0</td>\n      <td>0</td>\n      <td>1</td>\n      <td>0</td>\n      <td>0</td>\n      <td>0</td>\n      <td>0</td>\n      <td>-1</td>\n      <td>1</td>\n    </tr>\n    <tr>\n      <th>173</th>\n      <td>SOYMIMI12AB0181E5C</td>\n      <td>43255</td>\n      <td>TRQHDUM128F9303286</td>\n      <td>Yeah Yeah Yeahs</td>\n      <td>Heads Will Roll</td>\n      <td>heads roll</td>\n      <td>8238808</td>\n      <td>oh oh oh oh oh oh oh oh oh take take look look...</td>\n      <td>NaN</td>\n      <td>NaN</td>\n      <td>...</td>\n      <td>0</td>\n      <td>0</td>\n      <td>0</td>\n      <td>0</td>\n      <td>0</td>\n      <td>0</td>\n      <td>0</td>\n      <td>0</td>\n      <td>-1</td>\n      <td>0</td>\n    </tr>\n    <tr>\n      <th>174</th>\n      <td>SOSVPIE12A6D4FA873</td>\n      <td>43055</td>\n      <td>TRTHGPK128F147DF90</td>\n      <td>Coldplay</td>\n      <td>Shiver</td>\n      <td>shiver</td>\n      <td>1746731</td>\n      <td>know know know know know get get get see see s...</td>\n      <td>Rock</td>\n      <td>NaN</td>\n      <td>...</td>\n      <td>0</td>\n      <td>0</td>\n      <td>0</td>\n      <td>0</td>\n      <td>0</td>\n      <td>0</td>\n      <td>0</td>\n      <td>0</td>\n      <td>-1</td>\n      <td>0</td>\n    </tr>\n    <tr>\n      <th>178</th>\n      <td>SOHFGKG12A6701C429</td>\n      <td>42563</td>\n      <td>TRFHCVW128E078EB45</td>\n      <td>Sheryl Crow</td>\n      <td>Picture</td>\n      <td>picture</td>\n      <td>3353263</td>\n      <td>love know time time come come come come get wa...</td>\n      <td>Rock</td>\n      <td>Country</td>\n      <td>...</td>\n      <td>0</td>\n      <td>0</td>\n      <td>0</td>\n      <td>1</td>\n      <td>0</td>\n      <td>0</td>\n      <td>0</td>\n      <td>0</td>\n      <td>-1</td>\n      <td>1</td>\n    </tr>\n    <tr>\n      <th>181</th>\n      <td>SOYGHUM12AB018139C</td>\n      <td>42348</td>\n      <td>TRBOKUK12903CAE13F</td>\n      <td>Five Finger Death Punch</td>\n      <td>Bad Company</td>\n      <td>bad company</td>\n      <td>8828455</td>\n      <td>know make ca ca day day day day day day day da...</td>\n      <td>Metal</td>\n      <td>NaN</td>\n      <td>...</td>\n      <td>0</td>\n      <td>0</td>\n      <td>0</td>\n      <td>0</td>\n      <td>0</td>\n      <td>0</td>\n      <td>0</td>\n      <td>0</td>\n      <td>-1</td>\n      <td>0</td>\n    </tr>\n    <tr>\n      <th>184</th>\n      <td>SOVQJRY12A81C210C0</td>\n      <td>42059</td>\n      <td>TRJHIKI128F42539D8</td>\n      <td>Lynyrd Skynyrd</td>\n      <td>Sweet home Alabama</td>\n      <td>sweet home alabama</td>\n      <td>742910</td>\n      <td>love come come come come come oh get see got g...</td>\n      <td>Rock</td>\n      <td>NaN</td>\n      <td>...</td>\n      <td>0</td>\n      <td>0</td>\n      <td>0</td>\n      <td>1</td>\n      <td>0</td>\n      <td>0</td>\n      <td>0</td>\n      <td>0</td>\n      <td>-1</td>\n      <td>1</td>\n    </tr>\n    <tr>\n      <th>189</th>\n      <td>SOUKJBT12A6701C4D6</td>\n      <td>41493</td>\n      <td>TRYNYSX128E07897B3</td>\n      <td>Coldplay</td>\n      <td>Speed Of Sound</td>\n      <td>speed sound</td>\n      <td>3585816</td>\n      <td>know know like go go go go oh oh get get get g...</td>\n      <td>Rock</td>\n      <td>NaN</td>\n      <td>...</td>\n      <td>0</td>\n      <td>0</td>\n      <td>0</td>\n      <td>0</td>\n      <td>0</td>\n      <td>0</td>\n      <td>0</td>\n      <td>0</td>\n      <td>-1</td>\n      <td>0</td>\n    </tr>\n    <tr>\n      <th>191</th>\n      <td>SOMRYYN12A6310F0F3</td>\n      <td>41433</td>\n      <td>TRFWGOJ128E0780C8B</td>\n      <td>Coldplay</td>\n      <td>In My Place</td>\n      <td>place</td>\n      <td>4747831</td>\n      <td>come come come come go go oh oh oh oh oh oh ye...</td>\n      <td>Rock</td>\n      <td>NaN</td>\n      <td>...</td>\n      <td>0</td>\n      <td>0</td>\n      <td>0</td>\n      <td>0</td>\n      <td>0</td>\n      <td>0</td>\n      <td>0</td>\n      <td>0</td>\n      <td>-1</td>\n      <td>0</td>\n    </tr>\n    <tr>\n      <th>200</th>\n      <td>SOUVGJL12AB017FC35</td>\n      <td>40506</td>\n      <td>TRVEKLH128F92DE271</td>\n      <td>Taylor Swift</td>\n      <td>Our Song</td>\n      <td>song</td>\n      <td>8223027</td>\n      <td>love know know know come oh la one got got got...</td>\n      <td>NaN</td>\n      <td>NaN</td>\n      <td>...</td>\n      <td>0</td>\n      <td>0</td>\n      <td>0</td>\n      <td>1</td>\n      <td>0</td>\n      <td>0</td>\n      <td>1</td>\n      <td>0</td>\n      <td>-1</td>\n      <td>1</td>\n    </tr>\n    <tr>\n      <th>201</th>\n      <td>SOVRTPN12AB0184F9E</td>\n      <td>40487</td>\n      <td>TRYDIFX12903CCD2ED</td>\n      <td>The Black Keys</td>\n      <td>Howlin\u0019 For You</td>\n      <td>howlin</td>\n      <td>9888483</td>\n      <td>like see got got ca ca babi babi babi babi yea...</td>\n      <td>NaN</td>\n      <td>NaN</td>\n      <td>...</td>\n      <td>0</td>\n      <td>0</td>\n      <td>0</td>\n      <td>0</td>\n      <td>0</td>\n      <td>0</td>\n      <td>0</td>\n      <td>0</td>\n      <td>-1</td>\n      <td>0</td>\n    </tr>\n    <tr>\n      <th>208</th>\n      <td>SORBBFV12AB017D710</td>\n      <td>39775</td>\n      <td>TRWIKPM128F931F1D2</td>\n      <td>A Day To Remember</td>\n      <td>If It Means A Lot To You</td>\n      <td>means lot</td>\n      <td>8048413</td>\n      <td>know know know know come come come come la la ...</td>\n      <td>Rock</td>\n      <td>NaN</td>\n      <td>...</td>\n      <td>0</td>\n      <td>1</td>\n      <td>0</td>\n      <td>0</td>\n      <td>0</td>\n      <td>1</td>\n      <td>0</td>\n      <td>0</td>\n      <td>-1</td>\n      <td>1</td>\n    </tr>\n    <tr>\n      <th>211</th>\n      <td>SOIMTII12A6D4F662A</td>\n      <td>39226</td>\n      <td>TRGWVYH12903D019BA</td>\n      <td>Jag Panzer</td>\n      <td>Reign Of The Tyrants</td>\n      <td>reign tyrants</td>\n      <td>4084525</td>\n      <td>get feel feel would life life night caus aroun...</td>\n      <td>Rock</td>\n      <td>Metal</td>\n      <td>...</td>\n      <td>0</td>\n      <td>0</td>\n      <td>0</td>\n      <td>0</td>\n      <td>0</td>\n      <td>0</td>\n      <td>0</td>\n      <td>0</td>\n      <td>-1</td>\n      <td>0</td>\n    </tr>\n    <tr>\n      <th>224</th>\n      <td>SODEOCO12A6701E922</td>\n      <td>37653</td>\n      <td>TRCOOYB128E078ED95</td>\n      <td>Nirvana</td>\n      <td>Come As You Are</td>\n      <td>come</td>\n      <td>1586692</td>\n      <td>time come come want want take take friend frie...</td>\n      <td>Rock</td>\n      <td>NaN</td>\n      <td>...</td>\n      <td>0</td>\n      <td>0</td>\n      <td>0</td>\n      <td>0</td>\n      <td>0</td>\n      <td>0</td>\n      <td>0</td>\n      <td>0</td>\n      <td>-1</td>\n      <td>0</td>\n    </tr>\n    <tr>\n      <th>225</th>\n      <td>SOXKOIY12A8C13C1EA</td>\n      <td>37541</td>\n      <td>TROGOSE128F9317118</td>\n      <td>Franz Ferdinand</td>\n      <td>Take Me Out</td>\n      <td>take</td>\n      <td>2001766</td>\n      <td>know know know know know know know know know k...</td>\n      <td>Rock</td>\n      <td>NaN</td>\n      <td>...</td>\n      <td>0</td>\n      <td>0</td>\n      <td>0</td>\n      <td>0</td>\n      <td>0</td>\n      <td>0</td>\n      <td>1</td>\n      <td>0</td>\n      <td>-1</td>\n      <td>1</td>\n    </tr>\n    <tr>\n      <th>234</th>\n      <td>SOPTPWD12A6D4FBD4E</td>\n      <td>36423</td>\n      <td>TROFBLA128F426A1B2</td>\n      <td>Line Renaud</td>\n      <td>Le Soir</td>\n      <td>le soir</td>\n      <td>5441811</td>\n      <td>que de la en te te te tu tu tu se se es le le ...</td>\n      <td>NaN</td>\n      <td>NaN</td>\n      <td>...</td>\n      <td>0</td>\n      <td>0</td>\n      <td>0</td>\n      <td>0</td>\n      <td>0</td>\n      <td>0</td>\n      <td>0</td>\n      <td>0</td>\n      <td>-1</td>\n      <td>0</td>\n    </tr>\n    <tr>\n      <th>237</th>\n      <td>SOIMCDE12A6D4F8383</td>\n      <td>35885</td>\n      <td>TRORLTF128F146DE1B</td>\n      <td>Daft Punk</td>\n      <td>Around The World (Radio Edit)</td>\n      <td>around world radio edit</td>\n      <td>1471556</td>\n      <td>world world world world world world world worl...</td>\n      <td>Electronic</td>\n      <td>NaN</td>\n      <td>...</td>\n      <td>0</td>\n      <td>0</td>\n      <td>0</td>\n      <td>0</td>\n      <td>0</td>\n      <td>0</td>\n      <td>0</td>\n      <td>0</td>\n      <td>-1</td>\n      <td>0</td>\n    </tr>\n    <tr>\n      <th>242</th>\n      <td>SONZWDK12A6701F62B</td>\n      <td>35408</td>\n      <td>TRAGACS128E078E74D</td>\n      <td>New Radicals</td>\n      <td>You Get What You Give</td>\n      <td>get give</td>\n      <td>1428833</td>\n      <td>love come go go go go go go one one one one ge...</td>\n      <td>Pop</td>\n      <td>Rock</td>\n      <td>...</td>\n      <td>0</td>\n      <td>0</td>\n      <td>0</td>\n      <td>1</td>\n      <td>0</td>\n      <td>1</td>\n      <td>1</td>\n      <td>0</td>\n      <td>-1</td>\n      <td>1</td>\n    </tr>\n  </tbody>\n</table>\n<p>50 rows × 23 columns</p>\n</div>"
     },
     "execution_count": 71,
     "metadata": {},
     "output_type": "execute_result"
    }
   ],
   "source": [
    "df_unclassed.head(50)"
   ],
   "metadata": {
    "collapsed": false
   }
  },
  {
   "cell_type": "markdown",
   "source": [
    "Добавим элементы df_unclassed в df_model, чтобы для всех текстов построить эмбеддинги нужной размерности"
   ],
   "metadata": {
    "collapsed": false
   }
  },
  {
   "cell_type": "code",
   "execution_count": 72,
   "outputs": [
    {
     "name": "stdout",
     "output_type": "stream",
     "text": [
      "<class 'pandas.core.frame.DataFrame'>\n",
      "Int64Index: 5050 entries, 0 to 242\n",
      "Data columns (total 23 columns):\n",
      " #   Column          Non-Null Count  Dtype \n",
      "---  ------          --------------  ----- \n",
      " 0   song_id         5050 non-null   object\n",
      " 1   play_count      5050 non-null   int64 \n",
      " 2   track_id        5050 non-null   object\n",
      " 3   artist          5050 non-null   object\n",
      " 4   title           5050 non-null   object\n",
      " 5   title_pure      5050 non-null   object\n",
      " 6   mxm_track_id    5019 non-null   object\n",
      " 7   text            5050 non-null   object\n",
      " 8   majority_genre  3709 non-null   object\n",
      " 9   minority_genre  913 non-null    object\n",
      " 10  title_and_text  5050 non-null   object\n",
      " 11  love            5050 non-null   int64 \n",
      " 12  war             5050 non-null   int64 \n",
      " 13  money           5050 non-null   int64 \n",
      " 14  happiness       5050 non-null   int64 \n",
      " 15  loneliness      5050 non-null   int64 \n",
      " 16  love_syn        5050 non-null   int64 \n",
      " 17  war_syn         5050 non-null   int64 \n",
      " 18  happiness_syn   5050 non-null   int64 \n",
      " 19  loneliness_syn  5050 non-null   int64 \n",
      " 20  money_syn       5050 non-null   int64 \n",
      " 21  class           5050 non-null   int8  \n",
      " 22  value           5050 non-null   int64 \n",
      "dtypes: int64(12), int8(1), object(10)\n",
      "memory usage: 912.4+ KB\n"
     ]
    }
   ],
   "source": [
    "df_model_plus = pd.concat([df_model, df_unclassed], axis=0)\n",
    "df_model_plus.info()"
   ],
   "metadata": {
    "collapsed": false
   }
  },
  {
   "cell_type": "code",
   "execution_count": 73,
   "outputs": [
    {
     "data": {
      "text/plain": "                  song_id  play_count            track_id  \\\n79966  SOOJOBN12A8C135AC4         184  TRIGVNU128F92D95C8   \n80007  SOTIMOW12A58A7718E         183  TRPWDYA128F92D5286   \n80253  SOJVNTP12A6D4FBECD         182  TRWXWLI128F14A4226   \n80383  SOTEAPD12A67AE0A63         182  TRIREDM128EF343309   \n80402  SOLOUHP12A6D4F797E         182  TREBIFO128F1483C62   \n80545  SOZINST12A8C138432         181  TRIXLBD128F428A085   \n80610  SOOJRJH12AC4689784         181  TRMDVZU12903CF5E3E   \n80621  SOGTXTA12AB018651B         181  TRWZRYO128F9330ADF   \n80696  SOTICOT12A6D4F5AE7         181  TRMEMKB128F14804A8   \n80705  SOVZDBH12A6D4F9374         181  TRLXBJP128F1491F32   \n6      SONYKOW12AB01849C9      292642  TROAQBZ128F9326213   \n7      SOPUCYA12A8C13A694      274627  TRFQOSP128F427C2B2   \n13     SODJWHY12A8C142CCE      209212  TRVCUSW128F92F20C6   \n15     SOTCMDJ12A6D4F8528      192884  TRZJNDO128EF343498   \n23     SORJICW12A8C13640D      130116  TRVAWVL128F93508F9   \n31     SONQCXC12A6D4F6A37      115134  TRJWVCU128F14581FF   \n32     SOCVTLJ12A6310F0FD      114362  TRENTGL128E0780C8E   \n38     SOLRGVL12A8C143BC3      110240  TRRUVLO128F92DE6F7   \n46     SOXLOQG12AF72A2D55       99137  TRWBSCZ128F932F2F9   \n48     SOSJRJP12A6D4F826F       98667  TRJRDDL128F147CBE8   \n55     SOXWYZP12AF72A42A6       94002  TRHHHKS128F92F98D5   \n56     SOHFJAQ12AB017E4AF       93981  TRRVGMP128F92FD5DE   \n57     SOADJQJ12A8C141D38       91461  TRCPXID128F92D5D3C   \n62     SOQZYQH12A8AE468E5       88075  TRTXHBC128F4259DB7   \n66     SONNSYV12A8C146BEC       85079  TRPFYYL128F92F7144   \n72     SOLWZVR12AB01849C6       81736  TRKBJPL12903CED195   \n76     SOVWADY12AB0189C63       78443  TRGCHLH12903CB7352   \n92     SOWKQYL12AB0183B15       69053  TRLCLEM128F93402D3   \n93     SOBABRB12A6701DF4B       68150  TRMNYZQ128F1459E10   \n95     SOEQJBS12A8AE475A4       67403  TRWQQVW128F422AECF   \n103    SOPVQLJ12A67AE2281       64000  TRJCWTZ128E0797FCA   \n108    SOAFTRR12AF72A8D4D       63170  TRCWHIO128F1488FB7   \n113    SOQGVCS12AF72A078D       60787  TRZJNOD128F4264131   \n118    SODWXJW12AAA8C5C29       58694  TRHRJVA128F92DCB42   \n119    SOAKMDU12A8C1346A9       58059  TRCRCBT128F4260DD1   \n134    SOWRREB12A6D4FA7CB       52834  TRMAJLS128E0780D0F   \n139    SOFCPOU12A8C13BF40       51280  TRZALGW128F4296174   \n144    SOQWYAQ12A6D4FB9A3       50155  TRHPTMT128F92F28D1   \n151    SOSJSSU12A6D4F8F41       48893  TRYOXHI128F147B730   \n153    SOYABSZ12A81C1FEAC       48393  TRHRNJY128F42530E2   \n160    SOJKQSF12A6D4F5EE9       45817  TRTWFKE128EF35F93B   \n167    SOBPKPW12A6701E8F9       44305  TREOIML128E078ED7A   \n170    SOGTDJQ12A8C13324F       43640  TRULEEC128F4243515   \n172    SOKUTUM12A6701D9CD       43280  TRKYAIX128E0785FFB   \n173    SOYMIMI12AB0181E5C       43255  TRQHDUM128F9303286   \n174    SOSVPIE12A6D4FA873       43055  TRTHGPK128F147DF90   \n178    SOHFGKG12A6701C429       42563  TRFHCVW128E078EB45   \n181    SOYGHUM12AB018139C       42348  TRBOKUK12903CAE13F   \n184    SOVQJRY12A81C210C0       42059  TRJHIKI128F42539D8   \n189    SOUKJBT12A6701C4D6       41493  TRYNYSX128E07897B3   \n191    SOMRYYN12A6310F0F3       41433  TRFWGOJ128E0780C8B   \n200    SOUVGJL12AB017FC35       40506  TRVEKLH128F92DE271   \n201    SOVRTPN12AB0184F9E       40487  TRYDIFX12903CCD2ED   \n208    SORBBFV12AB017D710       39775  TRWIKPM128F931F1D2   \n211    SOIMTII12A6D4F662A       39226  TRGWVYH12903D019BA   \n224    SODEOCO12A6701E922       37653  TRCOOYB128E078ED95   \n225    SOXKOIY12A8C13C1EA       37541  TROGOSE128F9317118   \n234    SOPTPWD12A6D4FBD4E       36423  TROFBLA128F426A1B2   \n237    SOIMCDE12A6D4F8383       35885  TRORLTF128F146DE1B   \n242    SONZWDK12A6701F62B       35408  TRAGACS128E078E74D   \n\n                              artist  \\\n79966            Lil Wayne_ DJ Drama   \n80007          Green River Ordinance   \n80253                    Diana Krall   \n80383  Under The Influence Of Giants   \n80402                    The Matches   \n80545                       U.S.D.A.   \n80610                          Adema   \n80621                        Tankard   \n80696              The Panic Channel   \n80705                   Matt Pond PA   \n6                        OneRepublic   \n7                   Five Iron Frenzy   \n13                             Train   \n15               Angels and Airwaves   \n23                          Pavement   \n31                     Sheena Easton   \n32                          Coldplay   \n38                           La Roux   \n46                      Beastie Boys   \n48                         Metallica   \n55            Florence + The Machine   \n56                          The Ruts   \n57                           Beyoncé   \n62                   Cradle Of Filth   \n66                      Modest Mouse   \n72                       OneRepublic   \n76                       Miley Cyrus   \n92                      Jason Derulo   \n93                      Shania Twain   \n95                    Band Of Horses   \n103                      Linkin Park   \n108                        Daft Punk   \n113                    Guns N' Roses   \n118               Olivia Newton-John   \n119               The Postal Service   \n134                         N.E.R.D.   \n139                   Postal Service   \n144                          Rihanna   \n151                         Old 97's   \n153                    Reality Check   \n160                      Linkin Park   \n167               Eminem / Nate Dogg   \n170                  Vampire Weekend   \n172                     Jack Johnson   \n173                  Yeah Yeah Yeahs   \n174                         Coldplay   \n178                      Sheryl Crow   \n181          Five Finger Death Punch   \n184                   Lynyrd Skynyrd   \n189                         Coldplay   \n191                         Coldplay   \n200                     Taylor Swift   \n201                   The Black Keys   \n208                A Day To Remember   \n211                       Jag Panzer   \n224                          Nirvana   \n225                  Franz Ferdinand   \n234                      Line Renaud   \n237                        Daft Punk   \n242                     New Radicals   \n\n                                          title  \\\n79966                 I'm The Best Rapper Alive   \n80007                              Goodbye L.A.   \n80253                               Do It Again   \n80383                               Got Nothing   \n80402                             Papercut Skin   \n80545                          Throw This Money   \n80610                            Enter The Cage   \n80621                           Rockstars No. 1   \n80696               Night One (From Planchette)   \n80705         Summer (Butcher Two) (LP Version)   \n6                                       Secrets   \n7                                        Canada   \n13                             Hey_ Soul Sister   \n15                                     The Gift   \n23                         Mercy:The Laundromat   \n31                Strut (1993 Digital Remaster)   \n32                                       Clocks   \n38                                  Bulletproof   \n46                Unite (2009 Digital Remaster)   \n48                            Master Of Puppets   \n55                                  Cosmic Love   \n56                       West One (Shine On Me)   \n57                                         Halo   \n62                      Better To Reign In Hell   \n66                                     Float On   \n72                          All The Right Moves   \n76                          Party In The U.S.A.   \n92                                  Whatcha Say   \n93                                         Nah!   \n95                  The Funeral (Album Version)   \n103                  In The End (Album Version)   \n108               Harder Better Faster Stronger   \n113                               Paradise City   \n118                         Hochmah (Interlude)   \n119                          Such Great Heights   \n134                                   Rock Star   \n139                      Nothing Better (Album)   \n144                                  Take A Bow   \n151                       Victoria (LP Version)   \n153    Masquerade (Reality Check Album Version)   \n160              What I've Done (Album Version)   \n167                            'Till I Collapse   \n170                              A-Punk (Album)   \n172                             Do You Remember   \n173                             Heads Will Roll   \n174                                      Shiver   \n178                                     Picture   \n181                                 Bad Company   \n184                          Sweet home Alabama   \n189                              Speed Of Sound   \n191                                 In My Place   \n200                                    Our Song   \n201                             Howlin\u0019 For You   \n208                    If It Means A Lot To You   \n211                        Reign Of The Tyrants   \n224                             Come As You Are   \n225                                 Take Me Out   \n234                                     Le Soir   \n237               Around The World (Radio Edit)   \n242                       You Get What You Give   \n\n                                   title_pure mxm_track_id  \\\n79966                       best rapper alive      5576006   \n80007                              goodbye la      8696628   \n80253                                               683957   \n80383                             got nothing      5437273   \n80402                           papercut skin      6146146   \n80545                             throw money      6189414   \n80610                              enter cage      3317034   \n80621                              rockstars       9476867   \n80696                    night one planchette      5411505   \n80705           summer butcher two lp version      2345303   \n6                                     secrets      9076039   \n7                                      canada      2320738   \n13                            hey soul sister      9574863   \n15                                       gift      5024252   \n23                        mercythe laundromat      1070269   \n31                     strut digital remaster      5887849   \n32                                     clocks      1604099   \n38                                bulletproof      9562333   \n46                     unite digital remaster      5632363   \n48                             master puppets      5360064   \n55                                cosmic love      9559504   \n56                             west one shine      7877785   \n57                                       halo      7808335   \n62                          better reign hell      1236984   \n66                                      float      2161602   \n72                                right moves     13617897   \n76                                  party usa      9436988   \n92                                whatcha say      9653634   \n93                                        nah      1147548   \n95                      funeral album version      4775709   \n103                         end album version      5050136   \n108             harder better faster stronger      7501998   \n113                             paradise city       791117   \n118                         hochmah interlude      7868475   \n119                             great heights      7426372   \n134                                 rock star      4011409   \n139                      nothing better album      3190823   \n144                                  take bow      7272188   \n151                       victoria lp version       841942   \n153    masquerade reality check album version       901126   \n160                   i've done album version      6716609   \n167                            'till collapse      3130816   \n170                               apunk album      7371483   \n172                                  remember      4750415   \n173                                heads roll      8238808   \n174                                    shiver      1746731   \n178                                   picture      3353263   \n181                               bad company      8828455   \n184                        sweet home alabama       742910   \n189                               speed sound      3585816   \n191                                     place      4747831   \n200                                      song      8223027   \n201                                    howlin      9888483   \n208                                 means lot      8048413   \n211                             reign tyrants      4084525   \n224                                      come      1586692   \n225                                      take      2001766   \n234                                   le soir      5441811   \n237                   around world radio edit      1471556   \n242                                  get give      1428833   \n\n                                                    text majority_genre  \\\n79966  like like like one see got got got got got got...            NaN   \n80007  time time time oh oh oh oh la la la la la la l...           Rock   \n80253  know know know like time time time time time t...           Jazz   \n80383  come oh oh oh oh oh oh oh oh oh oh got got got...           Rock   \n80402  time time time time come come go la make day d...           Rock   \n80545  know know know like like like like come go go ...            Rap   \n80610  time one one one one one one one get get get g...           Rock   \n80621  know know know like like like time time time t...          Metal   \n80696  know know time come go go oh want want want ma...            NaN   \n80705  like one see see see make away back night nigh...            NaN   \n6      like like time time time time come get get see...           Rock   \n7      like come go go go go go oh oh oh oh oh get go...            NaN   \n13     love know know know like like time one one one...            NaN   \n15     know know know know know know know like like l...            NaN   \n23     back eye long wait wait wait home insid line l...            NaN   \n31     like like like like like come come come come c...            NaN   \n32     know come come come go go go go go oh oh never...           Rock   \n38     love time time time time time time time time t...            Pop   \n46     know know know know like like like like like t...            NaN   \n48     come come come see see see see see see never w...          Metal   \n55     way day day day day back heart heart heart hea...           Rock   \n56     like get see see see see make way way night ni...           Punk   \n57     know know know like like like like one see see...            Pop   \n62     like like like time way would back heart heart...           Rock   \n66     come get got way way say day day life back thi...           Rock   \n72     know know know know know know know know know k...            NaN   \n76     know know know know like like like like like l...            Pop   \n92     love know know know know know know know know g...            NaN   \n93     know know time time time one got never never n...        Country   \n95     know know know know come come come come oh oh ...            NaN   \n103    know know know know know know like time time t...           Rock   \n108    never never never never never never never neve...     Electronic   \n113    know know know like time time time go go oh oh...           Rock   \n118    say day night night look keep light far star c...            NaN   \n119    like like like come come come come come come c...     Electronic   \n134    like time come come one one one one get get ge...            NaN   \n139    love know like go oh get got never feel feel l...            NaN   \n144    love know know like time time time come come g...            NaN   \n151    know know know know know know know like like l...            NaN   \n153    know know know know know know know like like l...            NaN   \n160    come come come go go go let let let let let ha...           Rock   \n167    know know know like like like like like like l...            NaN   \n170    come come come come come come oh oh oh oh oh o...            NaN   \n172    love like go oh oh oh oh one get get get get g...           Rock   \n173    oh oh oh oh oh oh oh oh oh take take look look...            NaN   \n174    know know know know know get get get see see s...           Rock   \n178    love know time time come come come come get wa...           Rock   \n181    know make ca ca day day day day day day day da...          Metal   \n184    love come come come come come oh get see got g...           Rock   \n189    know know like go go go go oh oh get get get g...           Rock   \n191    come come come come go go oh oh oh oh oh oh ye...           Rock   \n200    love know know know come oh la one got got got...            NaN   \n201    like see got got ca ca babi babi babi babi yea...            NaN   \n208    know know know know come come come come la la ...           Rock   \n211    get feel feel would life life night caus aroun...           Rock   \n224    time come come want want take take friend frie...           Rock   \n225    know know know know know know know know know k...           Rock   \n234    que de la en te te te tu tu tu se se es le le ...            NaN   \n237    world world world world world world world worl...     Electronic   \n242    love come go go go go go go one one one one ge...            Pop   \n\n      minority_genre  ... money  happiness  loneliness  love_syn  war_syn  \\\n79966            NaN  ...     2          0           0         0        0   \n80007            NaN  ...     0          0           0         0        0   \n80253            NaN  ...     3          0           0         1        0   \n80383            Pop  ...     2          0           0         0        0   \n80402            NaN  ...     0          0           0         0        0   \n80545            NaN  ...    11          0           0         0        0   \n80610            NaN  ...     0          0           0         0        1   \n80621            NaN  ...     2          0           0         0        0   \n80696            NaN  ...     8          0           0         0        0   \n80705            NaN  ...     0          0           0         0        0   \n6                NaN  ...     0          0           0         0        0   \n7                NaN  ...     0          0           0         0        0   \n13               NaN  ...     0          0           0         1        0   \n15               NaN  ...     0          0           0         0        0   \n23               NaN  ...     0          0           0         1        0   \n31               NaN  ...     0          0           0         0        1   \n32               NaN  ...     0          0           0         0        0   \n38        Electronic  ...     0          0           0         1        0   \n46               NaN  ...     1          0           0         0        0   \n48               NaN  ...     0          0           0         1        0   \n55               NaN  ...     0          0           0         1        0   \n56               NaN  ...     0          0           0         0        0   \n57               RnB  ...     0          0           0         0        0   \n62             Metal  ...     0          0           0         0        1   \n66               NaN  ...     0          0           0         0        0   \n72               NaN  ...     0          0           0         0        0   \n76               NaN  ...     0          0           0         0        0   \n92               NaN  ...     0          0           0         1        0   \n93               NaN  ...     0          0           0         1        0   \n95               NaN  ...     0          0           0         0        0   \n103              NaN  ...     0          0           0         0        0   \n108              NaN  ...     0          0           0         0        0   \n113              NaN  ...     0          0           0         0        0   \n118              NaN  ...     0          0           0         0        0   \n119             Rock  ...     0          0           0         0        0   \n134              NaN  ...     0          0           0         0        0   \n139              NaN  ...     0          0           0         1        0   \n144              NaN  ...     0          0           0         1        0   \n151              NaN  ...     0          0           0         1        0   \n153              NaN  ...     0          0           0         0        1   \n160              NaN  ...     0          0           0         1        0   \n167              NaN  ...     1          0           0         0        1   \n170              NaN  ...     0          0           0         0        0   \n172              Pop  ...     0          0           0         1        0   \n173              NaN  ...     0          0           0         0        0   \n174              NaN  ...     0          0           0         0        0   \n178          Country  ...     0          0           0         1        0   \n181              NaN  ...     0          0           0         0        0   \n184              NaN  ...     0          0           0         1        0   \n189              NaN  ...     0          0           0         0        0   \n191              NaN  ...     0          0           0         0        0   \n200              NaN  ...     0          0           0         1        0   \n201              NaN  ...     0          0           0         0        0   \n208              NaN  ...     0          1           0         0        0   \n211            Metal  ...     0          0           0         0        0   \n224              NaN  ...     0          0           0         0        0   \n225              NaN  ...     0          0           0         0        0   \n234              NaN  ...     0          0           0         0        0   \n237              NaN  ...     0          0           0         0        0   \n242             Rock  ...     0          0           0         1        0   \n\n       happiness_syn  loneliness_syn  money_syn  class  value  \n79966              0               0          3      4      3  \n80007              0               0          3      4      3  \n80253              0               0          3      4      3  \n80383              0               0          2      4      2  \n80402              0               0         10      4     10  \n80545              4               0         12      4     12  \n80610              0               0          3      4      3  \n80621              0               0          2      4      2  \n80696              0               0          8      4      8  \n80705              0               0          3      4      3  \n6                  0               0          0     -1      0  \n7                  0               0          0     -1      0  \n13                 1               0          0     -1      1  \n15                 1               1          0     -1      1  \n23                 0               0          0     -1      1  \n31                 0               0          0     -1      1  \n32                 0               0          0     -1      0  \n38                 0               0          0     -1      1  \n46                 1               0          1     -1      1  \n48                 0               0          0     -1      1  \n55                 0               0          0     -1      1  \n56                 0               1          0     -1      1  \n57                 0               0          0     -1      0  \n62                 0               1          0     -1      1  \n66                 0               0          0     -1      0  \n72                 0               0          0     -1      0  \n76                 0               0          0     -1      0  \n92                 0               0          0     -1      1  \n93                 0               0          0     -1      1  \n95                 0               0          0     -1      0  \n103                0               0          0     -1      0  \n108                0               0          0     -1      0  \n113                0               0          0     -1      0  \n118                0               0          0     -1      0  \n119                0               0          0     -1      0  \n134                0               0          0     -1      0  \n139                0               0          0     -1      1  \n144                0               0          0     -1      1  \n151                0               0          0     -1      1  \n153                0               1          0     -1      1  \n160                0               0          0     -1      1  \n167                1               0          1     -1      1  \n170                0               0          0     -1      0  \n172                0               0          0     -1      1  \n173                0               0          0     -1      0  \n174                0               0          0     -1      0  \n178                0               0          0     -1      1  \n181                0               0          0     -1      0  \n184                0               0          0     -1      1  \n189                0               0          0     -1      0  \n191                0               0          0     -1      0  \n200                0               1          0     -1      1  \n201                0               0          0     -1      0  \n208                1               0          0     -1      1  \n211                0               0          0     -1      0  \n224                0               0          0     -1      0  \n225                0               1          0     -1      1  \n234                0               0          0     -1      0  \n237                0               0          0     -1      0  \n242                1               1          0     -1      1  \n\n[60 rows x 23 columns]",
      "text/html": "<div>\n<style scoped>\n    .dataframe tbody tr th:only-of-type {\n        vertical-align: middle;\n    }\n\n    .dataframe tbody tr th {\n        vertical-align: top;\n    }\n\n    .dataframe thead th {\n        text-align: right;\n    }\n</style>\n<table border=\"1\" class=\"dataframe\">\n  <thead>\n    <tr style=\"text-align: right;\">\n      <th></th>\n      <th>song_id</th>\n      <th>play_count</th>\n      <th>track_id</th>\n      <th>artist</th>\n      <th>title</th>\n      <th>title_pure</th>\n      <th>mxm_track_id</th>\n      <th>text</th>\n      <th>majority_genre</th>\n      <th>minority_genre</th>\n      <th>...</th>\n      <th>money</th>\n      <th>happiness</th>\n      <th>loneliness</th>\n      <th>love_syn</th>\n      <th>war_syn</th>\n      <th>happiness_syn</th>\n      <th>loneliness_syn</th>\n      <th>money_syn</th>\n      <th>class</th>\n      <th>value</th>\n    </tr>\n  </thead>\n  <tbody>\n    <tr>\n      <th>79966</th>\n      <td>SOOJOBN12A8C135AC4</td>\n      <td>184</td>\n      <td>TRIGVNU128F92D95C8</td>\n      <td>Lil Wayne_ DJ Drama</td>\n      <td>I'm The Best Rapper Alive</td>\n      <td>best rapper alive</td>\n      <td>5576006</td>\n      <td>like like like one see got got got got got got...</td>\n      <td>NaN</td>\n      <td>NaN</td>\n      <td>...</td>\n      <td>2</td>\n      <td>0</td>\n      <td>0</td>\n      <td>0</td>\n      <td>0</td>\n      <td>0</td>\n      <td>0</td>\n      <td>3</td>\n      <td>4</td>\n      <td>3</td>\n    </tr>\n    <tr>\n      <th>80007</th>\n      <td>SOTIMOW12A58A7718E</td>\n      <td>183</td>\n      <td>TRPWDYA128F92D5286</td>\n      <td>Green River Ordinance</td>\n      <td>Goodbye L.A.</td>\n      <td>goodbye la</td>\n      <td>8696628</td>\n      <td>time time time oh oh oh oh la la la la la la l...</td>\n      <td>Rock</td>\n      <td>NaN</td>\n      <td>...</td>\n      <td>0</td>\n      <td>0</td>\n      <td>0</td>\n      <td>0</td>\n      <td>0</td>\n      <td>0</td>\n      <td>0</td>\n      <td>3</td>\n      <td>4</td>\n      <td>3</td>\n    </tr>\n    <tr>\n      <th>80253</th>\n      <td>SOJVNTP12A6D4FBECD</td>\n      <td>182</td>\n      <td>TRWXWLI128F14A4226</td>\n      <td>Diana Krall</td>\n      <td>Do It Again</td>\n      <td></td>\n      <td>683957</td>\n      <td>know know know like time time time time time t...</td>\n      <td>Jazz</td>\n      <td>NaN</td>\n      <td>...</td>\n      <td>3</td>\n      <td>0</td>\n      <td>0</td>\n      <td>1</td>\n      <td>0</td>\n      <td>0</td>\n      <td>0</td>\n      <td>3</td>\n      <td>4</td>\n      <td>3</td>\n    </tr>\n    <tr>\n      <th>80383</th>\n      <td>SOTEAPD12A67AE0A63</td>\n      <td>182</td>\n      <td>TRIREDM128EF343309</td>\n      <td>Under The Influence Of Giants</td>\n      <td>Got Nothing</td>\n      <td>got nothing</td>\n      <td>5437273</td>\n      <td>come oh oh oh oh oh oh oh oh oh oh got got got...</td>\n      <td>Rock</td>\n      <td>Pop</td>\n      <td>...</td>\n      <td>2</td>\n      <td>0</td>\n      <td>0</td>\n      <td>0</td>\n      <td>0</td>\n      <td>0</td>\n      <td>0</td>\n      <td>2</td>\n      <td>4</td>\n      <td>2</td>\n    </tr>\n    <tr>\n      <th>80402</th>\n      <td>SOLOUHP12A6D4F797E</td>\n      <td>182</td>\n      <td>TREBIFO128F1483C62</td>\n      <td>The Matches</td>\n      <td>Papercut Skin</td>\n      <td>papercut skin</td>\n      <td>6146146</td>\n      <td>time time time time come come go la make day d...</td>\n      <td>Rock</td>\n      <td>NaN</td>\n      <td>...</td>\n      <td>0</td>\n      <td>0</td>\n      <td>0</td>\n      <td>0</td>\n      <td>0</td>\n      <td>0</td>\n      <td>0</td>\n      <td>10</td>\n      <td>4</td>\n      <td>10</td>\n    </tr>\n    <tr>\n      <th>80545</th>\n      <td>SOZINST12A8C138432</td>\n      <td>181</td>\n      <td>TRIXLBD128F428A085</td>\n      <td>U.S.D.A.</td>\n      <td>Throw This Money</td>\n      <td>throw money</td>\n      <td>6189414</td>\n      <td>know know know like like like like come go go ...</td>\n      <td>Rap</td>\n      <td>NaN</td>\n      <td>...</td>\n      <td>11</td>\n      <td>0</td>\n      <td>0</td>\n      <td>0</td>\n      <td>0</td>\n      <td>4</td>\n      <td>0</td>\n      <td>12</td>\n      <td>4</td>\n      <td>12</td>\n    </tr>\n    <tr>\n      <th>80610</th>\n      <td>SOOJRJH12AC4689784</td>\n      <td>181</td>\n      <td>TRMDVZU12903CF5E3E</td>\n      <td>Adema</td>\n      <td>Enter The Cage</td>\n      <td>enter cage</td>\n      <td>3317034</td>\n      <td>time one one one one one one one get get get g...</td>\n      <td>Rock</td>\n      <td>NaN</td>\n      <td>...</td>\n      <td>0</td>\n      <td>0</td>\n      <td>0</td>\n      <td>0</td>\n      <td>1</td>\n      <td>0</td>\n      <td>0</td>\n      <td>3</td>\n      <td>4</td>\n      <td>3</td>\n    </tr>\n    <tr>\n      <th>80621</th>\n      <td>SOGTXTA12AB018651B</td>\n      <td>181</td>\n      <td>TRWZRYO128F9330ADF</td>\n      <td>Tankard</td>\n      <td>Rockstars No. 1</td>\n      <td>rockstars</td>\n      <td>9476867</td>\n      <td>know know know like like like time time time t...</td>\n      <td>Metal</td>\n      <td>NaN</td>\n      <td>...</td>\n      <td>2</td>\n      <td>0</td>\n      <td>0</td>\n      <td>0</td>\n      <td>0</td>\n      <td>0</td>\n      <td>0</td>\n      <td>2</td>\n      <td>4</td>\n      <td>2</td>\n    </tr>\n    <tr>\n      <th>80696</th>\n      <td>SOTICOT12A6D4F5AE7</td>\n      <td>181</td>\n      <td>TRMEMKB128F14804A8</td>\n      <td>The Panic Channel</td>\n      <td>Night One (From Planchette)</td>\n      <td>night one planchette</td>\n      <td>5411505</td>\n      <td>know know time come go go oh want want want ma...</td>\n      <td>NaN</td>\n      <td>NaN</td>\n      <td>...</td>\n      <td>8</td>\n      <td>0</td>\n      <td>0</td>\n      <td>0</td>\n      <td>0</td>\n      <td>0</td>\n      <td>0</td>\n      <td>8</td>\n      <td>4</td>\n      <td>8</td>\n    </tr>\n    <tr>\n      <th>80705</th>\n      <td>SOVZDBH12A6D4F9374</td>\n      <td>181</td>\n      <td>TRLXBJP128F1491F32</td>\n      <td>Matt Pond PA</td>\n      <td>Summer (Butcher Two) (LP Version)</td>\n      <td>summer butcher two lp version</td>\n      <td>2345303</td>\n      <td>like one see see see make away back night nigh...</td>\n      <td>NaN</td>\n      <td>NaN</td>\n      <td>...</td>\n      <td>0</td>\n      <td>0</td>\n      <td>0</td>\n      <td>0</td>\n      <td>0</td>\n      <td>0</td>\n      <td>0</td>\n      <td>3</td>\n      <td>4</td>\n      <td>3</td>\n    </tr>\n    <tr>\n      <th>6</th>\n      <td>SONYKOW12AB01849C9</td>\n      <td>292642</td>\n      <td>TROAQBZ128F9326213</td>\n      <td>OneRepublic</td>\n      <td>Secrets</td>\n      <td>secrets</td>\n      <td>9076039</td>\n      <td>like like time time time time come get get see...</td>\n      <td>Rock</td>\n      <td>NaN</td>\n      <td>...</td>\n      <td>0</td>\n      <td>0</td>\n      <td>0</td>\n      <td>0</td>\n      <td>0</td>\n      <td>0</td>\n      <td>0</td>\n      <td>0</td>\n      <td>-1</td>\n      <td>0</td>\n    </tr>\n    <tr>\n      <th>7</th>\n      <td>SOPUCYA12A8C13A694</td>\n      <td>274627</td>\n      <td>TRFQOSP128F427C2B2</td>\n      <td>Five Iron Frenzy</td>\n      <td>Canada</td>\n      <td>canada</td>\n      <td>2320738</td>\n      <td>like come go go go go go oh oh oh oh oh get go...</td>\n      <td>NaN</td>\n      <td>NaN</td>\n      <td>...</td>\n      <td>0</td>\n      <td>0</td>\n      <td>0</td>\n      <td>0</td>\n      <td>0</td>\n      <td>0</td>\n      <td>0</td>\n      <td>0</td>\n      <td>-1</td>\n      <td>0</td>\n    </tr>\n    <tr>\n      <th>13</th>\n      <td>SODJWHY12A8C142CCE</td>\n      <td>209212</td>\n      <td>TRVCUSW128F92F20C6</td>\n      <td>Train</td>\n      <td>Hey_ Soul Sister</td>\n      <td>hey soul sister</td>\n      <td>9574863</td>\n      <td>love know know know like like time one one one...</td>\n      <td>NaN</td>\n      <td>NaN</td>\n      <td>...</td>\n      <td>0</td>\n      <td>0</td>\n      <td>0</td>\n      <td>1</td>\n      <td>0</td>\n      <td>1</td>\n      <td>0</td>\n      <td>0</td>\n      <td>-1</td>\n      <td>1</td>\n    </tr>\n    <tr>\n      <th>15</th>\n      <td>SOTCMDJ12A6D4F8528</td>\n      <td>192884</td>\n      <td>TRZJNDO128EF343498</td>\n      <td>Angels and Airwaves</td>\n      <td>The Gift</td>\n      <td>gift</td>\n      <td>5024252</td>\n      <td>know know know know know know know like like l...</td>\n      <td>NaN</td>\n      <td>NaN</td>\n      <td>...</td>\n      <td>0</td>\n      <td>0</td>\n      <td>0</td>\n      <td>0</td>\n      <td>0</td>\n      <td>1</td>\n      <td>1</td>\n      <td>0</td>\n      <td>-1</td>\n      <td>1</td>\n    </tr>\n    <tr>\n      <th>23</th>\n      <td>SORJICW12A8C13640D</td>\n      <td>130116</td>\n      <td>TRVAWVL128F93508F9</td>\n      <td>Pavement</td>\n      <td>Mercy:The Laundromat</td>\n      <td>mercythe laundromat</td>\n      <td>1070269</td>\n      <td>back eye long wait wait wait home insid line l...</td>\n      <td>NaN</td>\n      <td>NaN</td>\n      <td>...</td>\n      <td>0</td>\n      <td>0</td>\n      <td>0</td>\n      <td>1</td>\n      <td>0</td>\n      <td>0</td>\n      <td>0</td>\n      <td>0</td>\n      <td>-1</td>\n      <td>1</td>\n    </tr>\n    <tr>\n      <th>31</th>\n      <td>SONQCXC12A6D4F6A37</td>\n      <td>115134</td>\n      <td>TRJWVCU128F14581FF</td>\n      <td>Sheena Easton</td>\n      <td>Strut (1993 Digital Remaster)</td>\n      <td>strut digital remaster</td>\n      <td>5887849</td>\n      <td>like like like like like come come come come c...</td>\n      <td>NaN</td>\n      <td>NaN</td>\n      <td>...</td>\n      <td>0</td>\n      <td>0</td>\n      <td>0</td>\n      <td>0</td>\n      <td>1</td>\n      <td>0</td>\n      <td>0</td>\n      <td>0</td>\n      <td>-1</td>\n      <td>1</td>\n    </tr>\n    <tr>\n      <th>32</th>\n      <td>SOCVTLJ12A6310F0FD</td>\n      <td>114362</td>\n      <td>TRENTGL128E0780C8E</td>\n      <td>Coldplay</td>\n      <td>Clocks</td>\n      <td>clocks</td>\n      <td>1604099</td>\n      <td>know come come come go go go go go oh oh never...</td>\n      <td>Rock</td>\n      <td>NaN</td>\n      <td>...</td>\n      <td>0</td>\n      <td>0</td>\n      <td>0</td>\n      <td>0</td>\n      <td>0</td>\n      <td>0</td>\n      <td>0</td>\n      <td>0</td>\n      <td>-1</td>\n      <td>0</td>\n    </tr>\n    <tr>\n      <th>38</th>\n      <td>SOLRGVL12A8C143BC3</td>\n      <td>110240</td>\n      <td>TRRUVLO128F92DE6F7</td>\n      <td>La Roux</td>\n      <td>Bulletproof</td>\n      <td>bulletproof</td>\n      <td>9562333</td>\n      <td>love time time time time time time time time t...</td>\n      <td>Pop</td>\n      <td>Electronic</td>\n      <td>...</td>\n      <td>0</td>\n      <td>0</td>\n      <td>0</td>\n      <td>1</td>\n      <td>0</td>\n      <td>0</td>\n      <td>0</td>\n      <td>0</td>\n      <td>-1</td>\n      <td>1</td>\n    </tr>\n    <tr>\n      <th>46</th>\n      <td>SOXLOQG12AF72A2D55</td>\n      <td>99137</td>\n      <td>TRWBSCZ128F932F2F9</td>\n      <td>Beastie Boys</td>\n      <td>Unite (2009 Digital Remaster)</td>\n      <td>unite digital remaster</td>\n      <td>5632363</td>\n      <td>know know know know like like like like like t...</td>\n      <td>NaN</td>\n      <td>NaN</td>\n      <td>...</td>\n      <td>1</td>\n      <td>0</td>\n      <td>0</td>\n      <td>0</td>\n      <td>0</td>\n      <td>1</td>\n      <td>0</td>\n      <td>1</td>\n      <td>-1</td>\n      <td>1</td>\n    </tr>\n    <tr>\n      <th>48</th>\n      <td>SOSJRJP12A6D4F826F</td>\n      <td>98667</td>\n      <td>TRJRDDL128F147CBE8</td>\n      <td>Metallica</td>\n      <td>Master Of Puppets</td>\n      <td>master puppets</td>\n      <td>5360064</td>\n      <td>come come come see see see see see see never w...</td>\n      <td>Metal</td>\n      <td>NaN</td>\n      <td>...</td>\n      <td>0</td>\n      <td>0</td>\n      <td>0</td>\n      <td>1</td>\n      <td>0</td>\n      <td>0</td>\n      <td>0</td>\n      <td>0</td>\n      <td>-1</td>\n      <td>1</td>\n    </tr>\n    <tr>\n      <th>55</th>\n      <td>SOXWYZP12AF72A42A6</td>\n      <td>94002</td>\n      <td>TRHHHKS128F92F98D5</td>\n      <td>Florence + The Machine</td>\n      <td>Cosmic Love</td>\n      <td>cosmic love</td>\n      <td>9559504</td>\n      <td>way day day day day back heart heart heart hea...</td>\n      <td>Rock</td>\n      <td>NaN</td>\n      <td>...</td>\n      <td>0</td>\n      <td>0</td>\n      <td>0</td>\n      <td>1</td>\n      <td>0</td>\n      <td>0</td>\n      <td>0</td>\n      <td>0</td>\n      <td>-1</td>\n      <td>1</td>\n    </tr>\n    <tr>\n      <th>56</th>\n      <td>SOHFJAQ12AB017E4AF</td>\n      <td>93981</td>\n      <td>TRRVGMP128F92FD5DE</td>\n      <td>The Ruts</td>\n      <td>West One (Shine On Me)</td>\n      <td>west one shine</td>\n      <td>7877785</td>\n      <td>like get see see see see make way way night ni...</td>\n      <td>Punk</td>\n      <td>NaN</td>\n      <td>...</td>\n      <td>0</td>\n      <td>0</td>\n      <td>0</td>\n      <td>0</td>\n      <td>0</td>\n      <td>0</td>\n      <td>1</td>\n      <td>0</td>\n      <td>-1</td>\n      <td>1</td>\n    </tr>\n    <tr>\n      <th>57</th>\n      <td>SOADJQJ12A8C141D38</td>\n      <td>91461</td>\n      <td>TRCPXID128F92D5D3C</td>\n      <td>Beyoncé</td>\n      <td>Halo</td>\n      <td>halo</td>\n      <td>7808335</td>\n      <td>know know know like like like like one see see...</td>\n      <td>Pop</td>\n      <td>RnB</td>\n      <td>...</td>\n      <td>0</td>\n      <td>0</td>\n      <td>0</td>\n      <td>0</td>\n      <td>0</td>\n      <td>0</td>\n      <td>0</td>\n      <td>0</td>\n      <td>-1</td>\n      <td>0</td>\n    </tr>\n    <tr>\n      <th>62</th>\n      <td>SOQZYQH12A8AE468E5</td>\n      <td>88075</td>\n      <td>TRTXHBC128F4259DB7</td>\n      <td>Cradle Of Filth</td>\n      <td>Better To Reign In Hell</td>\n      <td>better reign hell</td>\n      <td>1236984</td>\n      <td>like like like time way would back heart heart...</td>\n      <td>Rock</td>\n      <td>Metal</td>\n      <td>...</td>\n      <td>0</td>\n      <td>0</td>\n      <td>0</td>\n      <td>0</td>\n      <td>1</td>\n      <td>0</td>\n      <td>1</td>\n      <td>0</td>\n      <td>-1</td>\n      <td>1</td>\n    </tr>\n    <tr>\n      <th>66</th>\n      <td>SONNSYV12A8C146BEC</td>\n      <td>85079</td>\n      <td>TRPFYYL128F92F7144</td>\n      <td>Modest Mouse</td>\n      <td>Float On</td>\n      <td>float</td>\n      <td>2161602</td>\n      <td>come get got way way say day day life back thi...</td>\n      <td>Rock</td>\n      <td>NaN</td>\n      <td>...</td>\n      <td>0</td>\n      <td>0</td>\n      <td>0</td>\n      <td>0</td>\n      <td>0</td>\n      <td>0</td>\n      <td>0</td>\n      <td>0</td>\n      <td>-1</td>\n      <td>0</td>\n    </tr>\n    <tr>\n      <th>72</th>\n      <td>SOLWZVR12AB01849C6</td>\n      <td>81736</td>\n      <td>TRKBJPL12903CED195</td>\n      <td>OneRepublic</td>\n      <td>All The Right Moves</td>\n      <td>right moves</td>\n      <td>13617897</td>\n      <td>know know know know know know know know know k...</td>\n      <td>NaN</td>\n      <td>NaN</td>\n      <td>...</td>\n      <td>0</td>\n      <td>0</td>\n      <td>0</td>\n      <td>0</td>\n      <td>0</td>\n      <td>0</td>\n      <td>0</td>\n      <td>0</td>\n      <td>-1</td>\n      <td>0</td>\n    </tr>\n    <tr>\n      <th>76</th>\n      <td>SOVWADY12AB0189C63</td>\n      <td>78443</td>\n      <td>TRGCHLH12903CB7352</td>\n      <td>Miley Cyrus</td>\n      <td>Party In The U.S.A.</td>\n      <td>party usa</td>\n      <td>9436988</td>\n      <td>know know know know like like like like like l...</td>\n      <td>Pop</td>\n      <td>NaN</td>\n      <td>...</td>\n      <td>0</td>\n      <td>0</td>\n      <td>0</td>\n      <td>0</td>\n      <td>0</td>\n      <td>0</td>\n      <td>0</td>\n      <td>0</td>\n      <td>-1</td>\n      <td>0</td>\n    </tr>\n    <tr>\n      <th>92</th>\n      <td>SOWKQYL12AB0183B15</td>\n      <td>69053</td>\n      <td>TRLCLEM128F93402D3</td>\n      <td>Jason Derulo</td>\n      <td>Whatcha Say</td>\n      <td>whatcha say</td>\n      <td>9653634</td>\n      <td>love know know know know know know know know g...</td>\n      <td>NaN</td>\n      <td>NaN</td>\n      <td>...</td>\n      <td>0</td>\n      <td>0</td>\n      <td>0</td>\n      <td>1</td>\n      <td>0</td>\n      <td>0</td>\n      <td>0</td>\n      <td>0</td>\n      <td>-1</td>\n      <td>1</td>\n    </tr>\n    <tr>\n      <th>93</th>\n      <td>SOBABRB12A6701DF4B</td>\n      <td>68150</td>\n      <td>TRMNYZQ128F1459E10</td>\n      <td>Shania Twain</td>\n      <td>Nah!</td>\n      <td>nah</td>\n      <td>1147548</td>\n      <td>know know time time time one got never never n...</td>\n      <td>Country</td>\n      <td>NaN</td>\n      <td>...</td>\n      <td>0</td>\n      <td>0</td>\n      <td>0</td>\n      <td>1</td>\n      <td>0</td>\n      <td>0</td>\n      <td>0</td>\n      <td>0</td>\n      <td>-1</td>\n      <td>1</td>\n    </tr>\n    <tr>\n      <th>95</th>\n      <td>SOEQJBS12A8AE475A4</td>\n      <td>67403</td>\n      <td>TRWQQVW128F422AECF</td>\n      <td>Band Of Horses</td>\n      <td>The Funeral (Album Version)</td>\n      <td>funeral album version</td>\n      <td>4775709</td>\n      <td>know know know know come come come come oh oh ...</td>\n      <td>NaN</td>\n      <td>NaN</td>\n      <td>...</td>\n      <td>0</td>\n      <td>0</td>\n      <td>0</td>\n      <td>0</td>\n      <td>0</td>\n      <td>0</td>\n      <td>0</td>\n      <td>0</td>\n      <td>-1</td>\n      <td>0</td>\n    </tr>\n    <tr>\n      <th>103</th>\n      <td>SOPVQLJ12A67AE2281</td>\n      <td>64000</td>\n      <td>TRJCWTZ128E0797FCA</td>\n      <td>Linkin Park</td>\n      <td>In The End (Album Version)</td>\n      <td>end album version</td>\n      <td>5050136</td>\n      <td>know know know know know know like time time t...</td>\n      <td>Rock</td>\n      <td>NaN</td>\n      <td>...</td>\n      <td>0</td>\n      <td>0</td>\n      <td>0</td>\n      <td>0</td>\n      <td>0</td>\n      <td>0</td>\n      <td>0</td>\n      <td>0</td>\n      <td>-1</td>\n      <td>0</td>\n    </tr>\n    <tr>\n      <th>108</th>\n      <td>SOAFTRR12AF72A8D4D</td>\n      <td>63170</td>\n      <td>TRCWHIO128F1488FB7</td>\n      <td>Daft Punk</td>\n      <td>Harder Better Faster Stronger</td>\n      <td>harder better faster stronger</td>\n      <td>7501998</td>\n      <td>never never never never never never never neve...</td>\n      <td>Electronic</td>\n      <td>NaN</td>\n      <td>...</td>\n      <td>0</td>\n      <td>0</td>\n      <td>0</td>\n      <td>0</td>\n      <td>0</td>\n      <td>0</td>\n      <td>0</td>\n      <td>0</td>\n      <td>-1</td>\n      <td>0</td>\n    </tr>\n    <tr>\n      <th>113</th>\n      <td>SOQGVCS12AF72A078D</td>\n      <td>60787</td>\n      <td>TRZJNOD128F4264131</td>\n      <td>Guns N' Roses</td>\n      <td>Paradise City</td>\n      <td>paradise city</td>\n      <td>791117</td>\n      <td>know know know like time time time go go oh oh...</td>\n      <td>Rock</td>\n      <td>NaN</td>\n      <td>...</td>\n      <td>0</td>\n      <td>0</td>\n      <td>0</td>\n      <td>0</td>\n      <td>0</td>\n      <td>0</td>\n      <td>0</td>\n      <td>0</td>\n      <td>-1</td>\n      <td>0</td>\n    </tr>\n    <tr>\n      <th>118</th>\n      <td>SODWXJW12AAA8C5C29</td>\n      <td>58694</td>\n      <td>TRHRJVA128F92DCB42</td>\n      <td>Olivia Newton-John</td>\n      <td>Hochmah (Interlude)</td>\n      <td>hochmah interlude</td>\n      <td>7868475</td>\n      <td>say day night night look keep light far star c...</td>\n      <td>NaN</td>\n      <td>NaN</td>\n      <td>...</td>\n      <td>0</td>\n      <td>0</td>\n      <td>0</td>\n      <td>0</td>\n      <td>0</td>\n      <td>0</td>\n      <td>0</td>\n      <td>0</td>\n      <td>-1</td>\n      <td>0</td>\n    </tr>\n    <tr>\n      <th>119</th>\n      <td>SOAKMDU12A8C1346A9</td>\n      <td>58059</td>\n      <td>TRCRCBT128F4260DD1</td>\n      <td>The Postal Service</td>\n      <td>Such Great Heights</td>\n      <td>great heights</td>\n      <td>7426372</td>\n      <td>like like like come come come come come come c...</td>\n      <td>Electronic</td>\n      <td>Rock</td>\n      <td>...</td>\n      <td>0</td>\n      <td>0</td>\n      <td>0</td>\n      <td>0</td>\n      <td>0</td>\n      <td>0</td>\n      <td>0</td>\n      <td>0</td>\n      <td>-1</td>\n      <td>0</td>\n    </tr>\n    <tr>\n      <th>134</th>\n      <td>SOWRREB12A6D4FA7CB</td>\n      <td>52834</td>\n      <td>TRMAJLS128E0780D0F</td>\n      <td>N.E.R.D.</td>\n      <td>Rock Star</td>\n      <td>rock star</td>\n      <td>4011409</td>\n      <td>like time come come one one one one get get ge...</td>\n      <td>NaN</td>\n      <td>NaN</td>\n      <td>...</td>\n      <td>0</td>\n      <td>0</td>\n      <td>0</td>\n      <td>0</td>\n      <td>0</td>\n      <td>0</td>\n      <td>0</td>\n      <td>0</td>\n      <td>-1</td>\n      <td>0</td>\n    </tr>\n    <tr>\n      <th>139</th>\n      <td>SOFCPOU12A8C13BF40</td>\n      <td>51280</td>\n      <td>TRZALGW128F4296174</td>\n      <td>Postal Service</td>\n      <td>Nothing Better (Album)</td>\n      <td>nothing better album</td>\n      <td>3190823</td>\n      <td>love know like go oh get got never feel feel l...</td>\n      <td>NaN</td>\n      <td>NaN</td>\n      <td>...</td>\n      <td>0</td>\n      <td>0</td>\n      <td>0</td>\n      <td>1</td>\n      <td>0</td>\n      <td>0</td>\n      <td>0</td>\n      <td>0</td>\n      <td>-1</td>\n      <td>1</td>\n    </tr>\n    <tr>\n      <th>144</th>\n      <td>SOQWYAQ12A6D4FB9A3</td>\n      <td>50155</td>\n      <td>TRHPTMT128F92F28D1</td>\n      <td>Rihanna</td>\n      <td>Take A Bow</td>\n      <td>take bow</td>\n      <td>7272188</td>\n      <td>love know know like time time time come come g...</td>\n      <td>NaN</td>\n      <td>NaN</td>\n      <td>...</td>\n      <td>0</td>\n      <td>0</td>\n      <td>0</td>\n      <td>1</td>\n      <td>0</td>\n      <td>0</td>\n      <td>0</td>\n      <td>0</td>\n      <td>-1</td>\n      <td>1</td>\n    </tr>\n    <tr>\n      <th>151</th>\n      <td>SOSJSSU12A6D4F8F41</td>\n      <td>48893</td>\n      <td>TRYOXHI128F147B730</td>\n      <td>Old 97's</td>\n      <td>Victoria (LP Version)</td>\n      <td>victoria lp version</td>\n      <td>841942</td>\n      <td>know know know know know know know like like l...</td>\n      <td>NaN</td>\n      <td>NaN</td>\n      <td>...</td>\n      <td>0</td>\n      <td>0</td>\n      <td>0</td>\n      <td>1</td>\n      <td>0</td>\n      <td>0</td>\n      <td>0</td>\n      <td>0</td>\n      <td>-1</td>\n      <td>1</td>\n    </tr>\n    <tr>\n      <th>153</th>\n      <td>SOYABSZ12A81C1FEAC</td>\n      <td>48393</td>\n      <td>TRHRNJY128F42530E2</td>\n      <td>Reality Check</td>\n      <td>Masquerade (Reality Check Album Version)</td>\n      <td>masquerade reality check album version</td>\n      <td>901126</td>\n      <td>know know know know know know know like like l...</td>\n      <td>NaN</td>\n      <td>NaN</td>\n      <td>...</td>\n      <td>0</td>\n      <td>0</td>\n      <td>0</td>\n      <td>0</td>\n      <td>1</td>\n      <td>0</td>\n      <td>1</td>\n      <td>0</td>\n      <td>-1</td>\n      <td>1</td>\n    </tr>\n    <tr>\n      <th>160</th>\n      <td>SOJKQSF12A6D4F5EE9</td>\n      <td>45817</td>\n      <td>TRTWFKE128EF35F93B</td>\n      <td>Linkin Park</td>\n      <td>What I've Done (Album Version)</td>\n      <td>i've done album version</td>\n      <td>6716609</td>\n      <td>come come come go go go let let let let let ha...</td>\n      <td>Rock</td>\n      <td>NaN</td>\n      <td>...</td>\n      <td>0</td>\n      <td>0</td>\n      <td>0</td>\n      <td>1</td>\n      <td>0</td>\n      <td>0</td>\n      <td>0</td>\n      <td>0</td>\n      <td>-1</td>\n      <td>1</td>\n    </tr>\n    <tr>\n      <th>167</th>\n      <td>SOBPKPW12A6701E8F9</td>\n      <td>44305</td>\n      <td>TREOIML128E078ED7A</td>\n      <td>Eminem / Nate Dogg</td>\n      <td>'Till I Collapse</td>\n      <td>'till collapse</td>\n      <td>3130816</td>\n      <td>know know know like like like like like like l...</td>\n      <td>NaN</td>\n      <td>NaN</td>\n      <td>...</td>\n      <td>1</td>\n      <td>0</td>\n      <td>0</td>\n      <td>0</td>\n      <td>1</td>\n      <td>1</td>\n      <td>0</td>\n      <td>1</td>\n      <td>-1</td>\n      <td>1</td>\n    </tr>\n    <tr>\n      <th>170</th>\n      <td>SOGTDJQ12A8C13324F</td>\n      <td>43640</td>\n      <td>TRULEEC128F4243515</td>\n      <td>Vampire Weekend</td>\n      <td>A-Punk (Album)</td>\n      <td>apunk album</td>\n      <td>7371483</td>\n      <td>come come come come come come oh oh oh oh oh o...</td>\n      <td>NaN</td>\n      <td>NaN</td>\n      <td>...</td>\n      <td>0</td>\n      <td>0</td>\n      <td>0</td>\n      <td>0</td>\n      <td>0</td>\n      <td>0</td>\n      <td>0</td>\n      <td>0</td>\n      <td>-1</td>\n      <td>0</td>\n    </tr>\n    <tr>\n      <th>172</th>\n      <td>SOKUTUM12A6701D9CD</td>\n      <td>43280</td>\n      <td>TRKYAIX128E0785FFB</td>\n      <td>Jack Johnson</td>\n      <td>Do You Remember</td>\n      <td>remember</td>\n      <td>4750415</td>\n      <td>love like go oh oh oh oh one get get get get g...</td>\n      <td>Rock</td>\n      <td>Pop</td>\n      <td>...</td>\n      <td>0</td>\n      <td>0</td>\n      <td>0</td>\n      <td>1</td>\n      <td>0</td>\n      <td>0</td>\n      <td>0</td>\n      <td>0</td>\n      <td>-1</td>\n      <td>1</td>\n    </tr>\n    <tr>\n      <th>173</th>\n      <td>SOYMIMI12AB0181E5C</td>\n      <td>43255</td>\n      <td>TRQHDUM128F9303286</td>\n      <td>Yeah Yeah Yeahs</td>\n      <td>Heads Will Roll</td>\n      <td>heads roll</td>\n      <td>8238808</td>\n      <td>oh oh oh oh oh oh oh oh oh take take look look...</td>\n      <td>NaN</td>\n      <td>NaN</td>\n      <td>...</td>\n      <td>0</td>\n      <td>0</td>\n      <td>0</td>\n      <td>0</td>\n      <td>0</td>\n      <td>0</td>\n      <td>0</td>\n      <td>0</td>\n      <td>-1</td>\n      <td>0</td>\n    </tr>\n    <tr>\n      <th>174</th>\n      <td>SOSVPIE12A6D4FA873</td>\n      <td>43055</td>\n      <td>TRTHGPK128F147DF90</td>\n      <td>Coldplay</td>\n      <td>Shiver</td>\n      <td>shiver</td>\n      <td>1746731</td>\n      <td>know know know know know get get get see see s...</td>\n      <td>Rock</td>\n      <td>NaN</td>\n      <td>...</td>\n      <td>0</td>\n      <td>0</td>\n      <td>0</td>\n      <td>0</td>\n      <td>0</td>\n      <td>0</td>\n      <td>0</td>\n      <td>0</td>\n      <td>-1</td>\n      <td>0</td>\n    </tr>\n    <tr>\n      <th>178</th>\n      <td>SOHFGKG12A6701C429</td>\n      <td>42563</td>\n      <td>TRFHCVW128E078EB45</td>\n      <td>Sheryl Crow</td>\n      <td>Picture</td>\n      <td>picture</td>\n      <td>3353263</td>\n      <td>love know time time come come come come get wa...</td>\n      <td>Rock</td>\n      <td>Country</td>\n      <td>...</td>\n      <td>0</td>\n      <td>0</td>\n      <td>0</td>\n      <td>1</td>\n      <td>0</td>\n      <td>0</td>\n      <td>0</td>\n      <td>0</td>\n      <td>-1</td>\n      <td>1</td>\n    </tr>\n    <tr>\n      <th>181</th>\n      <td>SOYGHUM12AB018139C</td>\n      <td>42348</td>\n      <td>TRBOKUK12903CAE13F</td>\n      <td>Five Finger Death Punch</td>\n      <td>Bad Company</td>\n      <td>bad company</td>\n      <td>8828455</td>\n      <td>know make ca ca day day day day day day day da...</td>\n      <td>Metal</td>\n      <td>NaN</td>\n      <td>...</td>\n      <td>0</td>\n      <td>0</td>\n      <td>0</td>\n      <td>0</td>\n      <td>0</td>\n      <td>0</td>\n      <td>0</td>\n      <td>0</td>\n      <td>-1</td>\n      <td>0</td>\n    </tr>\n    <tr>\n      <th>184</th>\n      <td>SOVQJRY12A81C210C0</td>\n      <td>42059</td>\n      <td>TRJHIKI128F42539D8</td>\n      <td>Lynyrd Skynyrd</td>\n      <td>Sweet home Alabama</td>\n      <td>sweet home alabama</td>\n      <td>742910</td>\n      <td>love come come come come come oh get see got g...</td>\n      <td>Rock</td>\n      <td>NaN</td>\n      <td>...</td>\n      <td>0</td>\n      <td>0</td>\n      <td>0</td>\n      <td>1</td>\n      <td>0</td>\n      <td>0</td>\n      <td>0</td>\n      <td>0</td>\n      <td>-1</td>\n      <td>1</td>\n    </tr>\n    <tr>\n      <th>189</th>\n      <td>SOUKJBT12A6701C4D6</td>\n      <td>41493</td>\n      <td>TRYNYSX128E07897B3</td>\n      <td>Coldplay</td>\n      <td>Speed Of Sound</td>\n      <td>speed sound</td>\n      <td>3585816</td>\n      <td>know know like go go go go oh oh get get get g...</td>\n      <td>Rock</td>\n      <td>NaN</td>\n      <td>...</td>\n      <td>0</td>\n      <td>0</td>\n      <td>0</td>\n      <td>0</td>\n      <td>0</td>\n      <td>0</td>\n      <td>0</td>\n      <td>0</td>\n      <td>-1</td>\n      <td>0</td>\n    </tr>\n    <tr>\n      <th>191</th>\n      <td>SOMRYYN12A6310F0F3</td>\n      <td>41433</td>\n      <td>TRFWGOJ128E0780C8B</td>\n      <td>Coldplay</td>\n      <td>In My Place</td>\n      <td>place</td>\n      <td>4747831</td>\n      <td>come come come come go go oh oh oh oh oh oh ye...</td>\n      <td>Rock</td>\n      <td>NaN</td>\n      <td>...</td>\n      <td>0</td>\n      <td>0</td>\n      <td>0</td>\n      <td>0</td>\n      <td>0</td>\n      <td>0</td>\n      <td>0</td>\n      <td>0</td>\n      <td>-1</td>\n      <td>0</td>\n    </tr>\n    <tr>\n      <th>200</th>\n      <td>SOUVGJL12AB017FC35</td>\n      <td>40506</td>\n      <td>TRVEKLH128F92DE271</td>\n      <td>Taylor Swift</td>\n      <td>Our Song</td>\n      <td>song</td>\n      <td>8223027</td>\n      <td>love know know know come oh la one got got got...</td>\n      <td>NaN</td>\n      <td>NaN</td>\n      <td>...</td>\n      <td>0</td>\n      <td>0</td>\n      <td>0</td>\n      <td>1</td>\n      <td>0</td>\n      <td>0</td>\n      <td>1</td>\n      <td>0</td>\n      <td>-1</td>\n      <td>1</td>\n    </tr>\n    <tr>\n      <th>201</th>\n      <td>SOVRTPN12AB0184F9E</td>\n      <td>40487</td>\n      <td>TRYDIFX12903CCD2ED</td>\n      <td>The Black Keys</td>\n      <td>Howlin\u0019 For You</td>\n      <td>howlin</td>\n      <td>9888483</td>\n      <td>like see got got ca ca babi babi babi babi yea...</td>\n      <td>NaN</td>\n      <td>NaN</td>\n      <td>...</td>\n      <td>0</td>\n      <td>0</td>\n      <td>0</td>\n      <td>0</td>\n      <td>0</td>\n      <td>0</td>\n      <td>0</td>\n      <td>0</td>\n      <td>-1</td>\n      <td>0</td>\n    </tr>\n    <tr>\n      <th>208</th>\n      <td>SORBBFV12AB017D710</td>\n      <td>39775</td>\n      <td>TRWIKPM128F931F1D2</td>\n      <td>A Day To Remember</td>\n      <td>If It Means A Lot To You</td>\n      <td>means lot</td>\n      <td>8048413</td>\n      <td>know know know know come come come come la la ...</td>\n      <td>Rock</td>\n      <td>NaN</td>\n      <td>...</td>\n      <td>0</td>\n      <td>1</td>\n      <td>0</td>\n      <td>0</td>\n      <td>0</td>\n      <td>1</td>\n      <td>0</td>\n      <td>0</td>\n      <td>-1</td>\n      <td>1</td>\n    </tr>\n    <tr>\n      <th>211</th>\n      <td>SOIMTII12A6D4F662A</td>\n      <td>39226</td>\n      <td>TRGWVYH12903D019BA</td>\n      <td>Jag Panzer</td>\n      <td>Reign Of The Tyrants</td>\n      <td>reign tyrants</td>\n      <td>4084525</td>\n      <td>get feel feel would life life night caus aroun...</td>\n      <td>Rock</td>\n      <td>Metal</td>\n      <td>...</td>\n      <td>0</td>\n      <td>0</td>\n      <td>0</td>\n      <td>0</td>\n      <td>0</td>\n      <td>0</td>\n      <td>0</td>\n      <td>0</td>\n      <td>-1</td>\n      <td>0</td>\n    </tr>\n    <tr>\n      <th>224</th>\n      <td>SODEOCO12A6701E922</td>\n      <td>37653</td>\n      <td>TRCOOYB128E078ED95</td>\n      <td>Nirvana</td>\n      <td>Come As You Are</td>\n      <td>come</td>\n      <td>1586692</td>\n      <td>time come come want want take take friend frie...</td>\n      <td>Rock</td>\n      <td>NaN</td>\n      <td>...</td>\n      <td>0</td>\n      <td>0</td>\n      <td>0</td>\n      <td>0</td>\n      <td>0</td>\n      <td>0</td>\n      <td>0</td>\n      <td>0</td>\n      <td>-1</td>\n      <td>0</td>\n    </tr>\n    <tr>\n      <th>225</th>\n      <td>SOXKOIY12A8C13C1EA</td>\n      <td>37541</td>\n      <td>TROGOSE128F9317118</td>\n      <td>Franz Ferdinand</td>\n      <td>Take Me Out</td>\n      <td>take</td>\n      <td>2001766</td>\n      <td>know know know know know know know know know k...</td>\n      <td>Rock</td>\n      <td>NaN</td>\n      <td>...</td>\n      <td>0</td>\n      <td>0</td>\n      <td>0</td>\n      <td>0</td>\n      <td>0</td>\n      <td>0</td>\n      <td>1</td>\n      <td>0</td>\n      <td>-1</td>\n      <td>1</td>\n    </tr>\n    <tr>\n      <th>234</th>\n      <td>SOPTPWD12A6D4FBD4E</td>\n      <td>36423</td>\n      <td>TROFBLA128F426A1B2</td>\n      <td>Line Renaud</td>\n      <td>Le Soir</td>\n      <td>le soir</td>\n      <td>5441811</td>\n      <td>que de la en te te te tu tu tu se se es le le ...</td>\n      <td>NaN</td>\n      <td>NaN</td>\n      <td>...</td>\n      <td>0</td>\n      <td>0</td>\n      <td>0</td>\n      <td>0</td>\n      <td>0</td>\n      <td>0</td>\n      <td>0</td>\n      <td>0</td>\n      <td>-1</td>\n      <td>0</td>\n    </tr>\n    <tr>\n      <th>237</th>\n      <td>SOIMCDE12A6D4F8383</td>\n      <td>35885</td>\n      <td>TRORLTF128F146DE1B</td>\n      <td>Daft Punk</td>\n      <td>Around The World (Radio Edit)</td>\n      <td>around world radio edit</td>\n      <td>1471556</td>\n      <td>world world world world world world world worl...</td>\n      <td>Electronic</td>\n      <td>NaN</td>\n      <td>...</td>\n      <td>0</td>\n      <td>0</td>\n      <td>0</td>\n      <td>0</td>\n      <td>0</td>\n      <td>0</td>\n      <td>0</td>\n      <td>0</td>\n      <td>-1</td>\n      <td>0</td>\n    </tr>\n    <tr>\n      <th>242</th>\n      <td>SONZWDK12A6701F62B</td>\n      <td>35408</td>\n      <td>TRAGACS128E078E74D</td>\n      <td>New Radicals</td>\n      <td>You Get What You Give</td>\n      <td>get give</td>\n      <td>1428833</td>\n      <td>love come go go go go go go one one one one ge...</td>\n      <td>Pop</td>\n      <td>Rock</td>\n      <td>...</td>\n      <td>0</td>\n      <td>0</td>\n      <td>0</td>\n      <td>1</td>\n      <td>0</td>\n      <td>1</td>\n      <td>1</td>\n      <td>0</td>\n      <td>-1</td>\n      <td>1</td>\n    </tr>\n  </tbody>\n</table>\n<p>60 rows × 23 columns</p>\n</div>"
     },
     "execution_count": 73,
     "metadata": {},
     "output_type": "execute_result"
    }
   ],
   "source": [
    "df_model_plus.tail(60)"
   ],
   "metadata": {
    "collapsed": false
   }
  },
  {
   "cell_type": "markdown",
   "source": [
    "Преобразуем тексты песен в эмбеддинги с помощью TfidfVectorizer:\n",
    "sublinear_df = True, чтобы использовать логарифмическую форму для частоты слов;\n",
    "min_df — минимальное количество текстов, в которых должно присутствовать слово;\n",
    "ngram_range = (1, 2), т.е. учитываются как униграммы, так и биграммы."
   ],
   "metadata": {
    "collapsed": false
   }
  },
  {
   "cell_type": "code",
   "execution_count": 74,
   "outputs": [
    {
     "data": {
      "text/plain": "(5050, 16994)"
     },
     "execution_count": 74,
     "metadata": {},
     "output_type": "execute_result"
    }
   ],
   "source": [
    "tfidf = TfidfVectorizer(sublinear_tf=True, min_df=5, norm='l2', encoding='latin-1', ngram_range=(1, 2))\n",
    "features_all = tfidf.fit_transform(df_model_plus['title_and_text']).toarray()\n",
    "labels = df_model['class']\n",
    "features_all.shape"
   ],
   "metadata": {
    "collapsed": false
   }
  },
  {
   "cell_type": "markdown",
   "source": [
    "Выделим первые 5000 эмбеддингов текстов с известными категориями для построения модели и последние 50 с неопределенными категориями для дальнейшей разметки, когда модель будет готова"
   ],
   "metadata": {
    "collapsed": false
   }
  },
  {
   "cell_type": "code",
   "execution_count": 75,
   "outputs": [
    {
     "data": {
      "text/plain": "(5000, 16994)"
     },
     "execution_count": 75,
     "metadata": {},
     "output_type": "execute_result"
    }
   ],
   "source": [
    "features = features_all[:5000]\n",
    "features_unclassed = features_all[5000:]\n",
    "features.shape"
   ],
   "metadata": {
    "collapsed": false
   }
  },
  {
   "cell_type": "markdown",
   "source": [
    "5000 текстов для построения модели представлены фичами из различных униграмм и биграмм от всех 5050 текстов.\n",
    "\n",
    "Для построения предсказаний будем обучать модель Linear Support Vector Machine (https://habr.com/ru/company/ods/blog/484148/)"
   ],
   "metadata": {
    "collapsed": false
   }
  },
  {
   "cell_type": "code",
   "execution_count": 76,
   "outputs": [],
   "source": [
    "model = LinearSVC()\n",
    "X_train, X_test, y_train, y_test, indices_train, indices_test = train_test_split(features, labels, df_model.index, test_size=0.33, random_state=0)\n",
    "model.fit(X_train, y_train)\n",
    "y_pred = model.predict(X_test)"
   ],
   "metadata": {
    "collapsed": false
   }
  },
  {
   "cell_type": "markdown",
   "source": [
    "По результатам построим confusion matrix (матрица несоответствия) между предсказанными и фактическими метками"
   ],
   "metadata": {
    "collapsed": false
   }
  },
  {
   "cell_type": "code",
   "execution_count": 77,
   "outputs": [
    {
     "data": {
      "text/plain": "<Figure size 600x600 with 2 Axes>",
      "image/png": "[encoded data removed]"
     },
     "metadata": {},
     "output_type": "display_data"
    }
   ],
   "source": [
    "conf_mat = confusion_matrix(y_test, y_pred)\n",
    "fig, ax = plt.subplots(figsize=(6,6))\n",
    "sns.heatmap(conf_mat, annot=True, fmt='d',\n",
    "            xticklabels=['love', 'war', 'happiness', 'loneliness', 'money'], yticklabels=['love', 'war', 'happiness', 'loneliness', 'money'])\n",
    "plt.ylabel('Actual')\n",
    "plt.xlabel('Predicted')\n",
    "plt.show()"
   ],
   "metadata": {
    "collapsed": false
   }
  },
  {
   "cell_type": "markdown",
   "source": [
    "plt.show()\n",
    "Проверим производительность модели по полному набору данных, разбив весь датасет на (train, test) 10 различными способами (https://stephenallwright.com/cross_val_score-sklearn/)"
   ],
   "metadata": {
    "collapsed": false
   }
  },
  {
   "cell_type": "code",
   "execution_count": 78,
   "outputs": [
    {
     "data": {
      "text/plain": "array([0.912, 0.942, 0.926, 0.942, 0.906, 0.932, 0.928, 0.934, 0.94 ,\n       0.924])"
     },
     "execution_count": 78,
     "metadata": {},
     "output_type": "execute_result"
    }
   ],
   "source": [
    "accuracies = cross_val_score(model, features, labels, scoring='accuracy', cv=10)\n",
    "accuracies"
   ],
   "metadata": {
    "collapsed": false
   }
  },
  {
   "cell_type": "markdown",
   "source": [
    "Отчет по классификации для каждого класса. Столбец support - количество песен из указанной категории в тестовой выборке"
   ],
   "metadata": {
    "collapsed": false
   }
  },
  {
   "cell_type": "code",
   "execution_count": 79,
   "outputs": [
    {
     "name": "stdout",
     "output_type": "stream",
     "text": [
      "              precision    recall  f1-score   support\n",
      "\n",
      "        love       0.93      0.91      0.92       312\n",
      "         war       0.92      0.93      0.93       328\n",
      "   happiness       0.94      0.92      0.93       334\n",
      "  loneliness       0.93      0.93      0.93       330\n",
      "       money       0.91      0.94      0.92       346\n",
      "\n",
      "    accuracy                           0.92      1650\n",
      "   macro avg       0.93      0.92      0.92      1650\n",
      "weighted avg       0.93      0.92      0.92      1650\n",
      "\n"
     ]
    }
   ],
   "source": [
    "print(metrics.classification_report(y_test, y_pred, target_names=['love', 'war', 'happiness', 'loneliness', 'money']))"
   ],
   "metadata": {
    "collapsed": false
   }
  },
  {
   "cell_type": "markdown",
   "source": [
    "С помощью полученной модели получим предсказание категории для остальных 50 песен, у которых на основании предыдущего анализа частотности слов ни один из 5 заданных жанров не оказался выраженным. 50 текстов представлены фичами из различных униграмм и биграмм, полученных выше из общего датасета."
   ],
   "metadata": {
    "collapsed": false
   }
  },
  {
   "cell_type": "code",
   "execution_count": 80,
   "outputs": [
    {
     "data": {
      "text/plain": "(50, 16994)"
     },
     "execution_count": 80,
     "metadata": {},
     "output_type": "execute_result"
    }
   ],
   "source": [
    "features_unclassed.shape"
   ],
   "metadata": {
    "collapsed": false
   }
  },
  {
   "cell_type": "markdown",
   "source": [
    "Строим для них предсказания с помощью натренированной модели"
   ],
   "metadata": {
    "collapsed": false
   }
  },
  {
   "cell_type": "code",
   "execution_count": 81,
   "outputs": [
    {
     "name": "stdout",
     "output_type": "stream",
     "text": [
      "[4 4 2 2 2 1 3 0 2 0 3 3 0 1 2 2 2 0 3 2 4 2 3 1 2 1 0 0 1 1 1 1 0 0 1 2 0\n",
      " 1 3 2 3 0 3 3 2 3 3 3 2 0]\n"
     ]
    }
   ],
   "source": [
    "y_pred_unlassed = model.predict(features_unclassed)\n",
    "print(y_pred_unlassed)"
   ],
   "metadata": {
    "collapsed": false
   }
  },
  {
   "cell_type": "markdown",
   "source": [
    "И, наконец, предсказания неразмеченных по категориям песен"
   ],
   "metadata": {
    "collapsed": false
   }
  },
  {
   "cell_type": "code",
   "execution_count": 82,
   "outputs": [
    {
     "data": {
      "text/plain": "    play_count                   artist  \\\n0       292642              OneRepublic   \n1       274627         Five Iron Frenzy   \n2       209212                    Train   \n3       192884      Angels and Airwaves   \n4       130116                 Pavement   \n5       115134            Sheena Easton   \n6       114362                 Coldplay   \n7       110240                  La Roux   \n8        99137             Beastie Boys   \n9        98667                Metallica   \n10       94002   Florence + The Machine   \n11       93981                 The Ruts   \n12       91461                  Beyoncé   \n13       88075          Cradle Of Filth   \n14       85079             Modest Mouse   \n15       81736              OneRepublic   \n16       78443              Miley Cyrus   \n17       69053             Jason Derulo   \n18       68150             Shania Twain   \n19       67403           Band Of Horses   \n20       64000              Linkin Park   \n21       63170                Daft Punk   \n22       60787            Guns N' Roses   \n23       58694       Olivia Newton-John   \n24       58059       The Postal Service   \n25       52834                 N.E.R.D.   \n26       51280           Postal Service   \n27       50155                  Rihanna   \n28       48893                 Old 97's   \n29       48393            Reality Check   \n30       45817              Linkin Park   \n31       44305       Eminem / Nate Dogg   \n32       43640          Vampire Weekend   \n33       43280             Jack Johnson   \n34       43255          Yeah Yeah Yeahs   \n35       43055                 Coldplay   \n36       42563              Sheryl Crow   \n37       42348  Five Finger Death Punch   \n38       42059           Lynyrd Skynyrd   \n39       41493                 Coldplay   \n40       41433                 Coldplay   \n41       40506             Taylor Swift   \n42       40487           The Black Keys   \n43       39775        A Day To Remember   \n44       39226               Jag Panzer   \n45       37653                  Nirvana   \n46       37541          Franz Ferdinand   \n47       36423              Line Renaud   \n48       35885                Daft Punk   \n49       35408             New Radicals   \n\n                                       title  \\\n0                                    Secrets   \n1                                     Canada   \n2                           Hey_ Soul Sister   \n3                                   The Gift   \n4                       Mercy:The Laundromat   \n5              Strut (1993 Digital Remaster)   \n6                                     Clocks   \n7                                Bulletproof   \n8              Unite (2009 Digital Remaster)   \n9                          Master Of Puppets   \n10                               Cosmic Love   \n11                    West One (Shine On Me)   \n12                                      Halo   \n13                   Better To Reign In Hell   \n14                                  Float On   \n15                       All The Right Moves   \n16                       Party In The U.S.A.   \n17                               Whatcha Say   \n18                                      Nah!   \n19               The Funeral (Album Version)   \n20                In The End (Album Version)   \n21             Harder Better Faster Stronger   \n22                             Paradise City   \n23                       Hochmah (Interlude)   \n24                        Such Great Heights   \n25                                 Rock Star   \n26                    Nothing Better (Album)   \n27                                Take A Bow   \n28                     Victoria (LP Version)   \n29  Masquerade (Reality Check Album Version)   \n30            What I've Done (Album Version)   \n31                          'Till I Collapse   \n32                            A-Punk (Album)   \n33                           Do You Remember   \n34                           Heads Will Roll   \n35                                    Shiver   \n36                                   Picture   \n37                               Bad Company   \n38                        Sweet home Alabama   \n39                            Speed Of Sound   \n40                               In My Place   \n41                                  Our Song   \n42                           Howlin\u0019 For You   \n43                  If It Means A Lot To You   \n44                      Reign Of The Tyrants   \n45                           Come As You Are   \n46                               Take Me Out   \n47                                   Le Soir   \n48             Around The World (Radio Edit)   \n49                     You Get What You Give   \n\n                                                 text       class  \n0   like like time time time time come get get see...       money  \n1   like come go go go go go oh oh oh oh oh get go...       money  \n2   love know know know like like time one one one...   happiness  \n3   know know know know know know know like like l...   happiness  \n4   back eye long wait wait wait home insid line l...   happiness  \n5   like like like like like come come come come c...         war  \n6   know come come come go go go go go oh oh never...  loneliness  \n7   love time time time time time time time time t...        love  \n8   know know know know like like like like like t...   happiness  \n9   come come come see see see see see see never w...        love  \n10  way day day day day back heart heart heart hea...  loneliness  \n11  like get see see see see make way way night ni...  loneliness  \n12  know know know like like like like one see see...        love  \n13  like like like time way would back heart heart...         war  \n14  come get got way way say day day life back thi...   happiness  \n15  know know know know know know know know know k...   happiness  \n16  know know know know like like like like like l...   happiness  \n17  love know know know know know know know know g...        love  \n18  know know time time time one got never never n...  loneliness  \n19  know know know know come come come come oh oh ...   happiness  \n20  know know know know know know like time time t...       money  \n21  never never never never never never never neve...   happiness  \n22  know know know like time time time go go oh oh...  loneliness  \n23  say day night night look keep light far star c...         war  \n24  like like like come come come come come come c...   happiness  \n25  like time come come one one one one get get ge...         war  \n26  love know like go oh get got never feel feel l...        love  \n27  love know know like time time time come come g...        love  \n28  know know know know know know know like like l...         war  \n29  know know know know know know know like like l...         war  \n30  come come come go go go let let let let let ha...         war  \n31  know know know like like like like like like l...         war  \n32  come come come come come come oh oh oh oh oh o...        love  \n33  love like go oh oh oh oh one get get get get g...        love  \n34  oh oh oh oh oh oh oh oh oh take take look look...         war  \n35  know know know know know get get get see see s...   happiness  \n36  love know time time come come come come get wa...        love  \n37  know make ca ca day day day day day day day da...         war  \n38  love come come come come come oh get see got g...  loneliness  \n39  know know like go go go go oh oh get get get g...   happiness  \n40  come come come come go go oh oh oh oh oh oh ye...  loneliness  \n41  love know know know come oh la one got got got...        love  \n42  like see got got ca ca babi babi babi babi yea...  loneliness  \n43  know know know know come come come come la la ...  loneliness  \n44  get feel feel would life life night caus aroun...   happiness  \n45  time come come want want take take friend frie...  loneliness  \n46  know know know know know know know know know k...  loneliness  \n47  que de la en te te te tu tu tu se se es le le ...  loneliness  \n48  world world world world world world world worl...   happiness  \n49  love come go go go go go go one one one one ge...        love  ",
      "text/html": "<div>\n<style scoped>\n    .dataframe tbody tr th:only-of-type {\n        vertical-align: middle;\n    }\n\n    .dataframe tbody tr th {\n        vertical-align: top;\n    }\n\n    .dataframe thead th {\n        text-align: right;\n    }\n</style>\n<table border=\"1\" class=\"dataframe\">\n  <thead>\n    <tr style=\"text-align: right;\">\n      <th></th>\n      <th>play_count</th>\n      <th>artist</th>\n      <th>title</th>\n      <th>text</th>\n      <th>class</th>\n    </tr>\n  </thead>\n  <tbody>\n    <tr>\n      <th>0</th>\n      <td>292642</td>\n      <td>OneRepublic</td>\n      <td>Secrets</td>\n      <td>like like time time time time come get get see...</td>\n      <td>money</td>\n    </tr>\n    <tr>\n      <th>1</th>\n      <td>274627</td>\n      <td>Five Iron Frenzy</td>\n      <td>Canada</td>\n      <td>like come go go go go go oh oh oh oh oh get go...</td>\n      <td>money</td>\n    </tr>\n    <tr>\n      <th>2</th>\n      <td>209212</td>\n      <td>Train</td>\n      <td>Hey_ Soul Sister</td>\n      <td>love know know know like like time one one one...</td>\n      <td>happiness</td>\n    </tr>\n    <tr>\n      <th>3</th>\n      <td>192884</td>\n      <td>Angels and Airwaves</td>\n      <td>The Gift</td>\n      <td>know know know know know know know like like l...</td>\n      <td>happiness</td>\n    </tr>\n    <tr>\n      <th>4</th>\n      <td>130116</td>\n      <td>Pavement</td>\n      <td>Mercy:The Laundromat</td>\n      <td>back eye long wait wait wait home insid line l...</td>\n      <td>happiness</td>\n    </tr>\n    <tr>\n      <th>5</th>\n      <td>115134</td>\n      <td>Sheena Easton</td>\n      <td>Strut (1993 Digital Remaster)</td>\n      <td>like like like like like come come come come c...</td>\n      <td>war</td>\n    </tr>\n    <tr>\n      <th>6</th>\n      <td>114362</td>\n      <td>Coldplay</td>\n      <td>Clocks</td>\n      <td>know come come come go go go go go oh oh never...</td>\n      <td>loneliness</td>\n    </tr>\n    <tr>\n      <th>7</th>\n      <td>110240</td>\n      <td>La Roux</td>\n      <td>Bulletproof</td>\n      <td>love time time time time time time time time t...</td>\n      <td>love</td>\n    </tr>\n    <tr>\n      <th>8</th>\n      <td>99137</td>\n      <td>Beastie Boys</td>\n      <td>Unite (2009 Digital Remaster)</td>\n      <td>know know know know like like like like like t...</td>\n      <td>happiness</td>\n    </tr>\n    <tr>\n      <th>9</th>\n      <td>98667</td>\n      <td>Metallica</td>\n      <td>Master Of Puppets</td>\n      <td>come come come see see see see see see never w...</td>\n      <td>love</td>\n    </tr>\n    <tr>\n      <th>10</th>\n      <td>94002</td>\n      <td>Florence + The Machine</td>\n      <td>Cosmic Love</td>\n      <td>way day day day day back heart heart heart hea...</td>\n      <td>loneliness</td>\n    </tr>\n    <tr>\n      <th>11</th>\n      <td>93981</td>\n      <td>The Ruts</td>\n      <td>West One (Shine On Me)</td>\n      <td>like get see see see see make way way night ni...</td>\n      <td>loneliness</td>\n    </tr>\n    <tr>\n      <th>12</th>\n      <td>91461</td>\n      <td>Beyoncé</td>\n      <td>Halo</td>\n      <td>know know know like like like like one see see...</td>\n      <td>love</td>\n    </tr>\n    <tr>\n      <th>13</th>\n      <td>88075</td>\n      <td>Cradle Of Filth</td>\n      <td>Better To Reign In Hell</td>\n      <td>like like like time way would back heart heart...</td>\n      <td>war</td>\n    </tr>\n    <tr>\n      <th>14</th>\n      <td>85079</td>\n      <td>Modest Mouse</td>\n      <td>Float On</td>\n      <td>come get got way way say day day life back thi...</td>\n      <td>happiness</td>\n    </tr>\n    <tr>\n      <th>15</th>\n      <td>81736</td>\n      <td>OneRepublic</td>\n      <td>All The Right Moves</td>\n      <td>know know know know know know know know know k...</td>\n      <td>happiness</td>\n    </tr>\n    <tr>\n      <th>16</th>\n      <td>78443</td>\n      <td>Miley Cyrus</td>\n      <td>Party In The U.S.A.</td>\n      <td>know know know know like like like like like l...</td>\n      <td>happiness</td>\n    </tr>\n    <tr>\n      <th>17</th>\n      <td>69053</td>\n      <td>Jason Derulo</td>\n      <td>Whatcha Say</td>\n      <td>love know know know know know know know know g...</td>\n      <td>love</td>\n    </tr>\n    <tr>\n      <th>18</th>\n      <td>68150</td>\n      <td>Shania Twain</td>\n      <td>Nah!</td>\n      <td>know know time time time one got never never n...</td>\n      <td>loneliness</td>\n    </tr>\n    <tr>\n      <th>19</th>\n      <td>67403</td>\n      <td>Band Of Horses</td>\n      <td>The Funeral (Album Version)</td>\n      <td>know know know know come come come come oh oh ...</td>\n      <td>happiness</td>\n    </tr>\n    <tr>\n      <th>20</th>\n      <td>64000</td>\n      <td>Linkin Park</td>\n      <td>In The End (Album Version)</td>\n      <td>know know know know know know like time time t...</td>\n      <td>money</td>\n    </tr>\n    <tr>\n      <th>21</th>\n      <td>63170</td>\n      <td>Daft Punk</td>\n      <td>Harder Better Faster Stronger</td>\n      <td>never never never never never never never neve...</td>\n      <td>happiness</td>\n    </tr>\n    <tr>\n      <th>22</th>\n      <td>60787</td>\n      <td>Guns N' Roses</td>\n      <td>Paradise City</td>\n      <td>know know know like time time time go go oh oh...</td>\n      <td>loneliness</td>\n    </tr>\n    <tr>\n      <th>23</th>\n      <td>58694</td>\n      <td>Olivia Newton-John</td>\n      <td>Hochmah (Interlude)</td>\n      <td>say day night night look keep light far star c...</td>\n      <td>war</td>\n    </tr>\n    <tr>\n      <th>24</th>\n      <td>58059</td>\n      <td>The Postal Service</td>\n      <td>Such Great Heights</td>\n      <td>like like like come come come come come come c...</td>\n      <td>happiness</td>\n    </tr>\n    <tr>\n      <th>25</th>\n      <td>52834</td>\n      <td>N.E.R.D.</td>\n      <td>Rock Star</td>\n      <td>like time come come one one one one get get ge...</td>\n      <td>war</td>\n    </tr>\n    <tr>\n      <th>26</th>\n      <td>51280</td>\n      <td>Postal Service</td>\n      <td>Nothing Better (Album)</td>\n      <td>love know like go oh get got never feel feel l...</td>\n      <td>love</td>\n    </tr>\n    <tr>\n      <th>27</th>\n      <td>50155</td>\n      <td>Rihanna</td>\n      <td>Take A Bow</td>\n      <td>love know know like time time time come come g...</td>\n      <td>love</td>\n    </tr>\n    <tr>\n      <th>28</th>\n      <td>48893</td>\n      <td>Old 97's</td>\n      <td>Victoria (LP Version)</td>\n      <td>know know know know know know know like like l...</td>\n      <td>war</td>\n    </tr>\n    <tr>\n      <th>29</th>\n      <td>48393</td>\n      <td>Reality Check</td>\n      <td>Masquerade (Reality Check Album Version)</td>\n      <td>know know know know know know know like like l...</td>\n      <td>war</td>\n    </tr>\n    <tr>\n      <th>30</th>\n      <td>45817</td>\n      <td>Linkin Park</td>\n      <td>What I've Done (Album Version)</td>\n      <td>come come come go go go let let let let let ha...</td>\n      <td>war</td>\n    </tr>\n    <tr>\n      <th>31</th>\n      <td>44305</td>\n      <td>Eminem / Nate Dogg</td>\n      <td>'Till I Collapse</td>\n      <td>know know know like like like like like like l...</td>\n      <td>war</td>\n    </tr>\n    <tr>\n      <th>32</th>\n      <td>43640</td>\n      <td>Vampire Weekend</td>\n      <td>A-Punk (Album)</td>\n      <td>come come come come come come oh oh oh oh oh o...</td>\n      <td>love</td>\n    </tr>\n    <tr>\n      <th>33</th>\n      <td>43280</td>\n      <td>Jack Johnson</td>\n      <td>Do You Remember</td>\n      <td>love like go oh oh oh oh one get get get get g...</td>\n      <td>love</td>\n    </tr>\n    <tr>\n      <th>34</th>\n      <td>43255</td>\n      <td>Yeah Yeah Yeahs</td>\n      <td>Heads Will Roll</td>\n      <td>oh oh oh oh oh oh oh oh oh take take look look...</td>\n      <td>war</td>\n    </tr>\n    <tr>\n      <th>35</th>\n      <td>43055</td>\n      <td>Coldplay</td>\n      <td>Shiver</td>\n      <td>know know know know know get get get see see s...</td>\n      <td>happiness</td>\n    </tr>\n    <tr>\n      <th>36</th>\n      <td>42563</td>\n      <td>Sheryl Crow</td>\n      <td>Picture</td>\n      <td>love know time time come come come come get wa...</td>\n      <td>love</td>\n    </tr>\n    <tr>\n      <th>37</th>\n      <td>42348</td>\n      <td>Five Finger Death Punch</td>\n      <td>Bad Company</td>\n      <td>know make ca ca day day day day day day day da...</td>\n      <td>war</td>\n    </tr>\n    <tr>\n      <th>38</th>\n      <td>42059</td>\n      <td>Lynyrd Skynyrd</td>\n      <td>Sweet home Alabama</td>\n      <td>love come come come come come oh get see got g...</td>\n      <td>loneliness</td>\n    </tr>\n    <tr>\n      <th>39</th>\n      <td>41493</td>\n      <td>Coldplay</td>\n      <td>Speed Of Sound</td>\n      <td>know know like go go go go oh oh get get get g...</td>\n      <td>happiness</td>\n    </tr>\n    <tr>\n      <th>40</th>\n      <td>41433</td>\n      <td>Coldplay</td>\n      <td>In My Place</td>\n      <td>come come come come go go oh oh oh oh oh oh ye...</td>\n      <td>loneliness</td>\n    </tr>\n    <tr>\n      <th>41</th>\n      <td>40506</td>\n      <td>Taylor Swift</td>\n      <td>Our Song</td>\n      <td>love know know know come oh la one got got got...</td>\n      <td>love</td>\n    </tr>\n    <tr>\n      <th>42</th>\n      <td>40487</td>\n      <td>The Black Keys</td>\n      <td>Howlin\u0019 For You</td>\n      <td>like see got got ca ca babi babi babi babi yea...</td>\n      <td>loneliness</td>\n    </tr>\n    <tr>\n      <th>43</th>\n      <td>39775</td>\n      <td>A Day To Remember</td>\n      <td>If It Means A Lot To You</td>\n      <td>know know know know come come come come la la ...</td>\n      <td>loneliness</td>\n    </tr>\n    <tr>\n      <th>44</th>\n      <td>39226</td>\n      <td>Jag Panzer</td>\n      <td>Reign Of The Tyrants</td>\n      <td>get feel feel would life life night caus aroun...</td>\n      <td>happiness</td>\n    </tr>\n    <tr>\n      <th>45</th>\n      <td>37653</td>\n      <td>Nirvana</td>\n      <td>Come As You Are</td>\n      <td>time come come want want take take friend frie...</td>\n      <td>loneliness</td>\n    </tr>\n    <tr>\n      <th>46</th>\n      <td>37541</td>\n      <td>Franz Ferdinand</td>\n      <td>Take Me Out</td>\n      <td>know know know know know know know know know k...</td>\n      <td>loneliness</td>\n    </tr>\n    <tr>\n      <th>47</th>\n      <td>36423</td>\n      <td>Line Renaud</td>\n      <td>Le Soir</td>\n      <td>que de la en te te te tu tu tu se se es le le ...</td>\n      <td>loneliness</td>\n    </tr>\n    <tr>\n      <th>48</th>\n      <td>35885</td>\n      <td>Daft Punk</td>\n      <td>Around The World (Radio Edit)</td>\n      <td>world world world world world world world worl...</td>\n      <td>happiness</td>\n    </tr>\n    <tr>\n      <th>49</th>\n      <td>35408</td>\n      <td>New Radicals</td>\n      <td>You Get What You Give</td>\n      <td>love come go go go go go go one one one one ge...</td>\n      <td>love</td>\n    </tr>\n  </tbody>\n</table>\n</div>"
     },
     "execution_count": 82,
     "metadata": {},
     "output_type": "execute_result"
    }
   ],
   "source": [
    "df_unclassed['class'] = y_pred_unlassed\n",
    "df_res = df_unclassed[['play_count', 'artist', 'title', 'text', 'class']]\n",
    "df_res = df_res.replace({'class' : {0 : 'love', 1 : 'war', 2 : 'happiness', 3 : 'loneliness', 4 : 'money'}})\n",
    "df_res.reset_index(drop=True, inplace=True)\n",
    "df_res"
   ],
   "metadata": {
    "collapsed": false
   }
  },
  {
   "cell_type": "code",
   "execution_count": 83,
   "outputs": [
    {
     "name": "stdout",
     "output_type": "stream",
     "text": [
      "<class 'pandas.core.frame.DataFrame'>\n",
      "RangeIndex: 50 entries, 0 to 49\n",
      "Data columns (total 5 columns):\n",
      " #   Column      Non-Null Count  Dtype \n",
      "---  ------      --------------  ----- \n",
      " 0   play_count  50 non-null     int64 \n",
      " 1   artist      50 non-null     object\n",
      " 2   title       50 non-null     object\n",
      " 3   text        50 non-null     object\n",
      " 4   class       50 non-null     object\n",
      "dtypes: int64(1), object(4)\n",
      "memory usage: 2.1+ KB\n"
     ]
    }
   ],
   "source": [
    "df_res.info()"
   ],
   "metadata": {
    "collapsed": false
   }
  },
  {
   "cell_type": "code",
   "execution_count": 83,
   "outputs": [],
   "source": [],
   "metadata": {
    "collapsed": false
   }
  },
  {
   "cell_type": "markdown",
   "source": [
    "# Bonus"
   ],
   "metadata": {
    "collapsed": false
   }
  },
  {
   "cell_type": "markdown",
   "source": [
    "## 1. Silver Galosh (artists with most unpopular songs)\n",
    "Определить десятку авторов самых непопулярных (меньше 3 раз) композиций.\n",
    "\n",
    "На выходе - имя исполнителя и количество непопулярных композиций исполнителя"
   ],
   "metadata": {
    "collapsed": false
   }
  },
  {
   "cell_type": "code",
   "execution_count": 84,
   "outputs": [
    {
     "name": "stdout",
     "output_type": "stream",
     "text": [
      "<class 'pandas.core.frame.DataFrame'>\n",
      "Int64Index: 38489 entries, 0 to 38488\n",
      "Data columns (total 2 columns):\n",
      " #   Column      Non-Null Count  Dtype \n",
      "---  ------      --------------  ----- \n",
      " 0   song_id     38489 non-null  object\n",
      " 1   play_count  38489 non-null  int64 \n",
      "dtypes: int64(1), object(1)\n",
      "memory usage: 902.1+ KB\n"
     ]
    }
   ],
   "source": [
    "df_echonest = pd.read_pickle('data/df_echonest.pkl')\n",
    "df_1b = df_echonest.groupby(by='song_id').agg({'play_count': 'sum'}).sort_values(by='play_count', ascending=True).reset_index()\n",
    "df_1b = df_1b.loc[df_1b['play_count'] < 3]\n",
    "df_1b.info()"
   ],
   "metadata": {
    "collapsed": false
   }
  },
  {
   "cell_type": "markdown",
   "source": [
    "Добавляем столбцы из df_track"
   ],
   "metadata": {
    "collapsed": false
   }
  },
  {
   "cell_type": "code",
   "execution_count": 85,
   "outputs": [
    {
     "name": "stdout",
     "output_type": "stream",
     "text": [
      "<class 'pandas.core.frame.DataFrame'>\n",
      "Int64Index: 38487 entries, 0 to 38486\n",
      "Data columns (total 10 columns):\n",
      " #   Column          Non-Null Count  Dtype \n",
      "---  ------          --------------  ----- \n",
      " 0   song_id         38487 non-null  object\n",
      " 1   play_count      38487 non-null  int64 \n",
      " 2   track_id        38487 non-null  object\n",
      " 3   artist          38487 non-null  object\n",
      " 4   title           38487 non-null  object\n",
      " 5   title_pure      38487 non-null  object\n",
      " 6   mxm_track_id    7290 non-null   object\n",
      " 7   text            7290 non-null   object\n",
      " 8   majority_genre  10513 non-null  object\n",
      " 9   minority_genre  3660 non-null   object\n",
      "dtypes: int64(1), object(9)\n",
      "memory usage: 3.2+ MB\n"
     ]
    }
   ],
   "source": [
    "df_track = pd.read_pickle('data/df_track.pkl')\n",
    "df_1b = pd.merge(df_1b, df_track.drop_duplicates(subset='song_id', keep='first'), on='song_id', how='inner')\n",
    "df_1b.info()"
   ],
   "metadata": {
    "collapsed": false
   }
  },
  {
   "cell_type": "markdown",
   "source": [
    "Определим общее количество \"претендентов\""
   ],
   "metadata": {
    "collapsed": false
   }
  },
  {
   "cell_type": "code",
   "execution_count": 86,
   "outputs": [
    {
     "data": {
      "text/plain": "14916"
     },
     "execution_count": 86,
     "metadata": {},
     "output_type": "execute_result"
    }
   ],
   "source": [
    "df_1b['artist'].nunique()"
   ],
   "metadata": {
    "collapsed": false
   }
  },
  {
   "cell_type": "markdown",
   "source": [
    "И, десятка \"лауреатов\":"
   ],
   "metadata": {
    "collapsed": false
   }
  },
  {
   "cell_type": "code",
   "execution_count": 87,
   "outputs": [
    {
     "data": {
      "text/plain": "Thought Industry       36\nThe Wolfgang Press     27\nThe Refreshments       26\nCows                   25\nThee Hypnotics         24\nFour Bitchin' Babes    24\nThe Smithereens        23\nClaw Boys Claw         22\nCalifornia Sunshine    22\nJohnny Dowd            22\nName: artist, dtype: int64"
     },
     "execution_count": 87,
     "metadata": {},
     "output_type": "execute_result"
    }
   ],
   "source": [
    "df_1b['artist'].value_counts()[:10]"
   ],
   "metadata": {
    "collapsed": false
   }
  },
  {
   "cell_type": "markdown",
   "source": [
    "## 2a-b. Golden Award (artists with most popular songs)\n",
    "Определить десятку авторов самых популярных (прослушанных не менее 750 раз) композиций.\n",
    "\n",
    "2a. Отсортированная по количеству популярных композиций таблица содержит:\n",
    "\t1. индекс\n",
    "\t2. имя исполнителя\n",
    "\t3. количество популярных композиций\n",
    "\t4. общее число прослушиваний популярных композиций\n",
    "\n",
    "2b. Отсортированная по общему числу прослушиваний популярных композиций\n",
    "\t1. индекс\n",
    "\t2. имя исполнителя\n",
    "\t3. количество популярных композиций\n",
    "\t4. общее число прослушиваний популярных композиций"
   ],
   "metadata": {
    "collapsed": false
   }
  },
  {
   "cell_type": "code",
   "execution_count": 88,
   "outputs": [
    {
     "name": "stdout",
     "output_type": "stream",
     "text": [
      "<class 'pandas.core.frame.DataFrame'>\n",
      "Int64Index: 30360 entries, 0 to 30359\n",
      "Data columns (total 2 columns):\n",
      " #   Column      Non-Null Count  Dtype \n",
      "---  ------      --------------  ----- \n",
      " 0   song_id     30360 non-null  object\n",
      " 1   play_count  30360 non-null  int64 \n",
      "dtypes: int64(1), object(1)\n",
      "memory usage: 711.6+ KB\n"
     ]
    }
   ],
   "source": [
    "df_echonest = pd.read_pickle('data/df_echonest.pkl')\n",
    "df_2b = df_echonest.groupby(by='song_id').agg({'play_count': 'sum'}).sort_values(by='play_count', ascending=False)[:50000].reset_index()\n",
    "df_2b = df_2b.loc[df_2b['play_count'] > 749]\n",
    "df_2b.info()"
   ],
   "metadata": {
    "collapsed": false
   }
  },
  {
   "cell_type": "markdown",
   "source": [
    "Добавляем столбцы из df_track"
   ],
   "metadata": {
    "collapsed": false
   }
  },
  {
   "cell_type": "code",
   "execution_count": 89,
   "outputs": [
    {
     "name": "stdout",
     "output_type": "stream",
     "text": [
      "<class 'pandas.core.frame.DataFrame'>\n",
      "Int64Index: 30360 entries, 0 to 30359\n",
      "Data columns (total 10 columns):\n",
      " #   Column          Non-Null Count  Dtype \n",
      "---  ------          --------------  ----- \n",
      " 0   song_id         30360 non-null  object\n",
      " 1   play_count      30360 non-null  int64 \n",
      " 2   track_id        30360 non-null  object\n",
      " 3   artist          30360 non-null  object\n",
      " 4   title           30360 non-null  object\n",
      " 5   title_pure      30360 non-null  object\n",
      " 6   mxm_track_id    15198 non-null  object\n",
      " 7   text            15198 non-null  object\n",
      " 8   majority_genre  19088 non-null  object\n",
      " 9   minority_genre  5240 non-null   object\n",
      "dtypes: int64(1), object(9)\n",
      "memory usage: 2.5+ MB\n"
     ]
    }
   ],
   "source": [
    "df_track = pd.read_pickle('data/df_track.pkl')\n",
    "df_2b = pd.merge(df_2b, df_track.drop_duplicates(subset='song_id', keep='first'), on='song_id', how='inner')\n",
    "df_2b.info()"
   ],
   "metadata": {
    "collapsed": false
   }
  },
  {
   "cell_type": "markdown",
   "source": [
    "Определим общее количество претендентов"
   ],
   "metadata": {
    "collapsed": false
   }
  },
  {
   "cell_type": "code",
   "execution_count": 90,
   "outputs": [
    {
     "data": {
      "text/plain": "8968"
     },
     "execution_count": 90,
     "metadata": {},
     "output_type": "execute_result"
    }
   ],
   "source": [
    "df_2b['artist'].nunique()"
   ],
   "metadata": {
    "collapsed": false
   }
  },
  {
   "cell_type": "markdown",
   "source": [
    "Посчитаем число популярных композиций для каждого исполнителя"
   ],
   "metadata": {
    "collapsed": false
   }
  },
  {
   "cell_type": "code",
   "execution_count": 91,
   "outputs": [
    {
     "name": "stdout",
     "output_type": "stream",
     "text": [
      "<class 'pandas.core.series.Series'>\n",
      "Index: 8968 entries, The Black Keys to Behemoth\n",
      "Series name: artist\n",
      "Non-Null Count  Dtype\n",
      "--------------  -----\n",
      "8968 non-null   int64\n",
      "dtypes: int64(1)\n",
      "memory usage: 140.1+ KB\n"
     ]
    }
   ],
   "source": [
    "artist_num_songs = df_2b['artist'].value_counts()\n",
    "artist_num_songs.to_frame(name='num_songs')\n",
    "artist_num_songs.info()"
   ],
   "metadata": {
    "collapsed": false
   }
  },
  {
   "cell_type": "markdown",
   "source": [
    "Добавим в df_2b столбец 'num_songs' с подсчитанным числом популярных песен для каждого исполнителя"
   ],
   "metadata": {
    "collapsed": false
   }
  },
  {
   "cell_type": "code",
   "execution_count": 92,
   "outputs": [
    {
     "name": "stdout",
     "output_type": "stream",
     "text": [
      "<class 'pandas.core.frame.DataFrame'>\n",
      "Int64Index: 30360 entries, 0 to 30359\n",
      "Data columns (total 11 columns):\n",
      " #   Column          Non-Null Count  Dtype \n",
      "---  ------          --------------  ----- \n",
      " 0   song_id         30360 non-null  object\n",
      " 1   play_count      30360 non-null  int64 \n",
      " 2   track_id        30360 non-null  object\n",
      " 3   artist          30360 non-null  object\n",
      " 4   title           30360 non-null  object\n",
      " 5   title_pure      30360 non-null  object\n",
      " 6   mxm_track_id    15198 non-null  object\n",
      " 7   text            15198 non-null  object\n",
      " 8   majority_genre  19088 non-null  object\n",
      " 9   minority_genre  5240 non-null   object\n",
      " 10  num_songs       30360 non-null  int64 \n",
      "dtypes: int64(2), object(9)\n",
      "memory usage: 2.8+ MB\n"
     ]
    }
   ],
   "source": [
    "df_2b['num_songs'] = df_2b.apply(lambda x: artist_num_songs[x['artist']], axis=1)\n",
    "df_2b.info()"
   ],
   "metadata": {
    "collapsed": false
   }
  },
  {
   "cell_type": "markdown",
   "source": [
    "Формируем два датафрейма с информацией по испполнителю: в df_2b_a - количество популярных песен; df_2b_b - общее количество прослушиваний"
   ],
   "metadata": {
    "collapsed": false
   }
  },
  {
   "cell_type": "code",
   "execution_count": 93,
   "outputs": [
    {
     "name": "stdout",
     "output_type": "stream",
     "text": [
      "<class 'pandas.core.frame.DataFrame'>\n",
      "RangeIndex: 8968 entries, 0 to 8967\n",
      "Data columns (total 2 columns):\n",
      " #   Column     Non-Null Count  Dtype \n",
      "---  ------     --------------  ----- \n",
      " 0   artist     8968 non-null   object\n",
      " 1   num_songs  8968 non-null   int64 \n",
      "dtypes: int64(1), object(1)\n",
      "memory usage: 140.2+ KB\n"
     ]
    }
   ],
   "source": [
    "df_2b_a = df_2b[['artist', 'num_songs']].drop_duplicates(subset='artist').sort_values(by='num_songs', ascending=False).reset_index(drop= True)\n",
    "df_2b_a.info()"
   ],
   "metadata": {
    "collapsed": false
   }
  },
  {
   "cell_type": "code",
   "execution_count": 94,
   "outputs": [
    {
     "name": "stdout",
     "output_type": "stream",
     "text": [
      "<class 'pandas.core.frame.DataFrame'>\n",
      "RangeIndex: 8968 entries, 0 to 8967\n",
      "Data columns (total 2 columns):\n",
      " #   Column      Non-Null Count  Dtype \n",
      "---  ------      --------------  ----- \n",
      " 0   artist      8968 non-null   object\n",
      " 1   play_count  8968 non-null   int64 \n",
      "dtypes: int64(1), object(1)\n",
      "memory usage: 140.2+ KB\n"
     ]
    }
   ],
   "source": [
    "df_2b_b = df_2b.groupby(by='artist').agg({'play_count': 'sum'}).sort_values(by='play_count', ascending=False).reset_index()\n",
    "df_2b_b.info()"
   ],
   "metadata": {
    "collapsed": false
   }
  },
  {
   "cell_type": "markdown",
   "source": [
    "2a. Отсортированная по количеству популярных композиций таблица"
   ],
   "metadata": {
    "collapsed": false
   }
  },
  {
   "cell_type": "code",
   "execution_count": 95,
   "outputs": [
    {
     "data": {
      "text/plain": "           artist  num_songs  play_count\n0  The Black Keys         72      701494\n1            Muse         70      521015\n2       Daft Punk         69      442444\n3        Coldplay         65     1001254\n4       Radiohead         65      494647\n5       Rammstein         64      279744\n6        Gorillaz         64      271478\n7       Metallica         59      445679\n8   Guns N' Roses         59      355037\n9       Lifehouse         56      185296",
      "text/html": "<div>\n<style scoped>\n    .dataframe tbody tr th:only-of-type {\n        vertical-align: middle;\n    }\n\n    .dataframe tbody tr th {\n        vertical-align: top;\n    }\n\n    .dataframe thead th {\n        text-align: right;\n    }\n</style>\n<table border=\"1\" class=\"dataframe\">\n  <thead>\n    <tr style=\"text-align: right;\">\n      <th></th>\n      <th>artist</th>\n      <th>num_songs</th>\n      <th>play_count</th>\n    </tr>\n  </thead>\n  <tbody>\n    <tr>\n      <th>0</th>\n      <td>The Black Keys</td>\n      <td>72</td>\n      <td>701494</td>\n    </tr>\n    <tr>\n      <th>1</th>\n      <td>Muse</td>\n      <td>70</td>\n      <td>521015</td>\n    </tr>\n    <tr>\n      <th>2</th>\n      <td>Daft Punk</td>\n      <td>69</td>\n      <td>442444</td>\n    </tr>\n    <tr>\n      <th>3</th>\n      <td>Coldplay</td>\n      <td>65</td>\n      <td>1001254</td>\n    </tr>\n    <tr>\n      <th>4</th>\n      <td>Radiohead</td>\n      <td>65</td>\n      <td>494647</td>\n    </tr>\n    <tr>\n      <th>5</th>\n      <td>Rammstein</td>\n      <td>64</td>\n      <td>279744</td>\n    </tr>\n    <tr>\n      <th>6</th>\n      <td>Gorillaz</td>\n      <td>64</td>\n      <td>271478</td>\n    </tr>\n    <tr>\n      <th>7</th>\n      <td>Metallica</td>\n      <td>59</td>\n      <td>445679</td>\n    </tr>\n    <tr>\n      <th>8</th>\n      <td>Guns N' Roses</td>\n      <td>59</td>\n      <td>355037</td>\n    </tr>\n    <tr>\n      <th>9</th>\n      <td>Lifehouse</td>\n      <td>56</td>\n      <td>185296</td>\n    </tr>\n  </tbody>\n</table>\n</div>"
     },
     "execution_count": 95,
     "metadata": {},
     "output_type": "execute_result"
    }
   ],
   "source": [
    "pd.merge(df_2b_a, df_2b_b, on='artist', how='outer')[:10]"
   ],
   "metadata": {
    "collapsed": false
   }
  },
  {
   "cell_type": "markdown",
   "source": [
    "2b. Отсортированная по общему числу прослушиваний популярных композиций"
   ],
   "metadata": {
    "collapsed": false
   }
  },
  {
   "cell_type": "code",
   "execution_count": 96,
   "outputs": [
    {
     "data": {
      "text/plain": "                   artist  play_count  num_songs\n0                Coldplay     1001254         65\n1           Kings Of Leon      913002         37\n2  Florence + The Machine      785604         17\n3           Dwight Yoakam      729032          3\n4                   Björk      712630         21\n5          The Black Keys      701494         72\n6            Jack Johnson      582143         53\n7           Justin Bieber      571791         14\n8         Alliance Ethnik      529925          3\n9                   Train      529467         33",
      "text/html": "<div>\n<style scoped>\n    .dataframe tbody tr th:only-of-type {\n        vertical-align: middle;\n    }\n\n    .dataframe tbody tr th {\n        vertical-align: top;\n    }\n\n    .dataframe thead th {\n        text-align: right;\n    }\n</style>\n<table border=\"1\" class=\"dataframe\">\n  <thead>\n    <tr style=\"text-align: right;\">\n      <th></th>\n      <th>artist</th>\n      <th>play_count</th>\n      <th>num_songs</th>\n    </tr>\n  </thead>\n  <tbody>\n    <tr>\n      <th>0</th>\n      <td>Coldplay</td>\n      <td>1001254</td>\n      <td>65</td>\n    </tr>\n    <tr>\n      <th>1</th>\n      <td>Kings Of Leon</td>\n      <td>913002</td>\n      <td>37</td>\n    </tr>\n    <tr>\n      <th>2</th>\n      <td>Florence + The Machine</td>\n      <td>785604</td>\n      <td>17</td>\n    </tr>\n    <tr>\n      <th>3</th>\n      <td>Dwight Yoakam</td>\n      <td>729032</td>\n      <td>3</td>\n    </tr>\n    <tr>\n      <th>4</th>\n      <td>Björk</td>\n      <td>712630</td>\n      <td>21</td>\n    </tr>\n    <tr>\n      <th>5</th>\n      <td>The Black Keys</td>\n      <td>701494</td>\n      <td>72</td>\n    </tr>\n    <tr>\n      <th>6</th>\n      <td>Jack Johnson</td>\n      <td>582143</td>\n      <td>53</td>\n    </tr>\n    <tr>\n      <th>7</th>\n      <td>Justin Bieber</td>\n      <td>571791</td>\n      <td>14</td>\n    </tr>\n    <tr>\n      <th>8</th>\n      <td>Alliance Ethnik</td>\n      <td>529925</td>\n      <td>3</td>\n    </tr>\n    <tr>\n      <th>9</th>\n      <td>Train</td>\n      <td>529467</td>\n      <td>33</td>\n    </tr>\n  </tbody>\n</table>\n</div>"
     },
     "execution_count": 96,
     "metadata": {},
     "output_type": "execute_result"
    }
   ],
   "source": [
    "pd.merge(df_2b_b, df_2b_a, on='artist', how='outer')[:10]"
   ],
   "metadata": {
    "collapsed": false
   }
  },
  {
   "cell_type": "markdown",
   "source": [
    "## 3. Genre and tag\n",
    "Вывести рекомендации 10 самых популярных песен по заданному жанру и тэгу\n",
    "На выходе таблица со след. полями:\n",
    "\t\t1. номер индекса\n",
    "\t\t2. имя исполнителя\n",
    "\t\t3. название трека\n",
    "\t\t4. количество воспроизведений\n",
    "Таблица должна быть отсортирована по количеству воспроизведений по убыванию."
   ],
   "metadata": {
    "collapsed": false
   }
  },
  {
   "cell_type": "markdown",
   "source": [
    "Будем использовать датафрейм df_has_class с размеченными тэгами из 3-го задания"
   ],
   "metadata": {
    "collapsed": false
   }
  },
  {
   "cell_type": "code",
   "execution_count": 97,
   "outputs": [],
   "source": [
    "# df_3b = pd.read_pickle('data/df_has_class.pkl')\n",
    "# df_3b.info()"
   ],
   "metadata": {
    "collapsed": false
   }
  },
  {
   "cell_type": "markdown",
   "source": [
    "Оставим для дальнейшей работы необходимые столбцы"
   ],
   "metadata": {
    "collapsed": false
   }
  },
  {
   "cell_type": "code",
   "execution_count": 98,
   "outputs": [],
   "source": [
    "# df_3b = df_3b[['artist', 'title', 'play_count','majority_genre', 'class']]\n",
    "# df_3b.info()"
   ],
   "metadata": {
    "collapsed": false
   }
  },
  {
   "cell_type": "markdown",
   "source": [
    "Определим список жанров"
   ],
   "metadata": {
    "collapsed": false
   }
  },
  {
   "cell_type": "code",
   "execution_count": 99,
   "outputs": [],
   "source": [
    "# df_3b['majority_genre'].value_counts()"
   ],
   "metadata": {
    "collapsed": false
   }
  },
  {
   "cell_type": "markdown",
   "source": [
    "Определим список тэгов"
   ],
   "metadata": {
    "collapsed": false
   }
  },
  {
   "cell_type": "code",
   "execution_count": 100,
   "outputs": [],
   "source": [
    "# df_3b['class'].unique()"
   ],
   "metadata": {
    "collapsed": false
   }
  },
  {
   "cell_type": "markdown",
   "source": [
    "Заменим код тэга на название"
   ],
   "metadata": {
    "collapsed": false
   }
  },
  {
   "cell_type": "code",
   "execution_count": 101,
   "outputs": [],
   "source": [
    "# df_3b = df_3b.replace({'class' : {0 : 'love', 1 : 'war', 2 : 'happiness', 3 : 'loneliness', 4 : 'money'}})\n",
    "# df_3b['class'].value_counts()"
   ],
   "metadata": {
    "collapsed": false
   }
  },
  {
   "cell_type": "code",
   "execution_count": 102,
   "outputs": [],
   "source": [
    "genre_list = ['Rock', 'Electronic', 'Pop', 'Jazz', 'Rap', 'RnB', 'Metal', 'Country', 'Reggae', 'Blues', 'Latin', 'Folk', 'Punk', 'World', 'New Age']\n",
    "tag_list = ['love', 'war', 'happiness', 'loneliness', 'money']"
   ],
   "metadata": {
    "collapsed": false
   }
  },
  {
   "cell_type": "code",
   "execution_count": 103,
   "outputs": [],
   "source": [
    "# df_3b.info()"
   ],
   "metadata": {
    "collapsed": false
   }
  },
  {
   "cell_type": "markdown",
   "source": [
    "Уберем строки, где жанр песни не размечен"
   ],
   "metadata": {
    "collapsed": false
   }
  },
  {
   "cell_type": "code",
   "execution_count": 104,
   "outputs": [],
   "source": [
    "# df_3b.dropna(subset=['majority_genre'], inplace=True)\n",
    "# df_3b.info()"
   ],
   "metadata": {
    "collapsed": false
   }
  },
  {
   "cell_type": "code",
   "execution_count": 105,
   "outputs": [],
   "source": [
    "# df_3b.to_pickle('data/df_3b.pkl')"
   ],
   "metadata": {
    "collapsed": false
   }
  },
  {
   "cell_type": "code",
   "execution_count": 106,
   "outputs": [
    {
     "name": "stdout",
     "output_type": "stream",
     "text": [
      "10 best recommendations for genre <RnB> and tag <loneliness>\n"
     ]
    },
    {
     "data": {
      "text/plain": "                  artist                                title  play_count\n0          Amy Winehouse                        Wake Up Alone       11671\n1          Amy Winehouse                         Just Friends        9770\n2                Rihanna         If It's Lovin' That You Want        9218\n3                Beyoncé                     Scared Of Lonely        4037\n4                 Thicke                 When I Get You Alone        3214\n5        Aretha Franklin                       Hello Sunshine        2334\n6  The Tony Rich Project                         Nobody Knows        2073\n7      Chrisette Michele               Epiphany (I'm Leaving)        2038\n8            Alicia Keys        Nobody Not Really (Interlude)        1963\n9            Alicia Keys  Tell You Something (Nana's Reprise)        1850",
      "text/html": "<div>\n<style scoped>\n    .dataframe tbody tr th:only-of-type {\n        vertical-align: middle;\n    }\n\n    .dataframe tbody tr th {\n        vertical-align: top;\n    }\n\n    .dataframe thead th {\n        text-align: right;\n    }\n</style>\n<table border=\"1\" class=\"dataframe\">\n  <thead>\n    <tr style=\"text-align: right;\">\n      <th></th>\n      <th>artist</th>\n      <th>title</th>\n      <th>play_count</th>\n    </tr>\n  </thead>\n  <tbody>\n    <tr>\n      <th>0</th>\n      <td>Amy Winehouse</td>\n      <td>Wake Up Alone</td>\n      <td>11671</td>\n    </tr>\n    <tr>\n      <th>1</th>\n      <td>Amy Winehouse</td>\n      <td>Just Friends</td>\n      <td>9770</td>\n    </tr>\n    <tr>\n      <th>2</th>\n      <td>Rihanna</td>\n      <td>If It's Lovin' That You Want</td>\n      <td>9218</td>\n    </tr>\n    <tr>\n      <th>3</th>\n      <td>Beyoncé</td>\n      <td>Scared Of Lonely</td>\n      <td>4037</td>\n    </tr>\n    <tr>\n      <th>4</th>\n      <td>Thicke</td>\n      <td>When I Get You Alone</td>\n      <td>3214</td>\n    </tr>\n    <tr>\n      <th>5</th>\n      <td>Aretha Franklin</td>\n      <td>Hello Sunshine</td>\n      <td>2334</td>\n    </tr>\n    <tr>\n      <th>6</th>\n      <td>The Tony Rich Project</td>\n      <td>Nobody Knows</td>\n      <td>2073</td>\n    </tr>\n    <tr>\n      <th>7</th>\n      <td>Chrisette Michele</td>\n      <td>Epiphany (I'm Leaving)</td>\n      <td>2038</td>\n    </tr>\n    <tr>\n      <th>8</th>\n      <td>Alicia Keys</td>\n      <td>Nobody Not Really (Interlude)</td>\n      <td>1963</td>\n    </tr>\n    <tr>\n      <th>9</th>\n      <td>Alicia Keys</td>\n      <td>Tell You Something (Nana's Reprise)</td>\n      <td>1850</td>\n    </tr>\n  </tbody>\n</table>\n</div>"
     },
     "execution_count": 106,
     "metadata": {},
     "output_type": "execute_result"
    }
   ],
   "source": [
    "genre_tag_rec('RnB', 'loneliness')"
   ],
   "metadata": {
    "collapsed": false
   }
  },
  {
   "cell_type": "code",
   "execution_count": 107,
   "outputs": [
    {
     "name": "stdout",
     "output_type": "stream",
     "text": [
      "10 best recommendations for genre <Rock> and tag <love>\n"
     ]
    },
    {
     "data": {
      "text/plain": "                   artist                       title  play_count\n0               Radiohead            Creep (Explicit)       98854\n1              John Mayer          Heartbreak Warfare       87745\n2            Rise Against                      Savior       74654\n3              John Mayer            Half Of My Heart       65966\n4                  Eagles            Hotel California       65585\n5          Counting Crows                   Mr. Jones       51287\n6            Jack Johnson                 Bubble Toes       49597\n7                  Metric              Help I'm Alive       42230\n8           Guns N' Roses        Don't Cry (Original)       40480\n9  Florence + The Machine  I'm Not Calling You A Liar       40082",
      "text/html": "<div>\n<style scoped>\n    .dataframe tbody tr th:only-of-type {\n        vertical-align: middle;\n    }\n\n    .dataframe tbody tr th {\n        vertical-align: top;\n    }\n\n    .dataframe thead th {\n        text-align: right;\n    }\n</style>\n<table border=\"1\" class=\"dataframe\">\n  <thead>\n    <tr style=\"text-align: right;\">\n      <th></th>\n      <th>artist</th>\n      <th>title</th>\n      <th>play_count</th>\n    </tr>\n  </thead>\n  <tbody>\n    <tr>\n      <th>0</th>\n      <td>Radiohead</td>\n      <td>Creep (Explicit)</td>\n      <td>98854</td>\n    </tr>\n    <tr>\n      <th>1</th>\n      <td>John Mayer</td>\n      <td>Heartbreak Warfare</td>\n      <td>87745</td>\n    </tr>\n    <tr>\n      <th>2</th>\n      <td>Rise Against</td>\n      <td>Savior</td>\n      <td>74654</td>\n    </tr>\n    <tr>\n      <th>3</th>\n      <td>John Mayer</td>\n      <td>Half Of My Heart</td>\n      <td>65966</td>\n    </tr>\n    <tr>\n      <th>4</th>\n      <td>Eagles</td>\n      <td>Hotel California</td>\n      <td>65585</td>\n    </tr>\n    <tr>\n      <th>5</th>\n      <td>Counting Crows</td>\n      <td>Mr. Jones</td>\n      <td>51287</td>\n    </tr>\n    <tr>\n      <th>6</th>\n      <td>Jack Johnson</td>\n      <td>Bubble Toes</td>\n      <td>49597</td>\n    </tr>\n    <tr>\n      <th>7</th>\n      <td>Metric</td>\n      <td>Help I'm Alive</td>\n      <td>42230</td>\n    </tr>\n    <tr>\n      <th>8</th>\n      <td>Guns N' Roses</td>\n      <td>Don't Cry (Original)</td>\n      <td>40480</td>\n    </tr>\n    <tr>\n      <th>9</th>\n      <td>Florence + The Machine</td>\n      <td>I'm Not Calling You A Liar</td>\n      <td>40082</td>\n    </tr>\n  </tbody>\n</table>\n</div>"
     },
     "execution_count": 107,
     "metadata": {},
     "output_type": "execute_result"
    }
   ],
   "source": [
    "genre_tag_rec('Rock', 'love')"
   ],
   "metadata": {
    "collapsed": false
   }
  },
  {
   "cell_type": "markdown",
   "source": [
    "------------------------------------------------------"
   ],
   "metadata": {
    "collapsed": false
   }
  }
 ],
 "metadata": {
  "kernelspec": {
   "display_name": "Python 3",
   "language": "python",
   "name": "python3"
  },
  "language_info": {
   "codemirror_mode": {
    "name": "ipython",
    "version": 2
   },
   "file_extension": ".py",
   "mimetype": "text/x-python",
   "name": "python",
   "nbconvert_exporter": "python",
   "pygments_lexer": "ipython2",
   "version": "2.7.6"
  }
 },
 "nbformat": 4,
 "nbformat_minor": 0
}
